{
 "cells": [
  {
   "cell_type": "code",
   "execution_count": 1,
   "id": "7c296687",
   "metadata": {},
   "outputs": [],
   "source": [
    "import os\n",
    "os.chdir('libraries for functions')"
   ]
  },
  {
   "cell_type": "code",
   "execution_count": 2,
   "id": "7e94e3bb",
   "metadata": {},
   "outputs": [],
   "source": [
    "import os\n",
    "os.chdir('pyimagesearch')"
   ]
  },
  {
   "cell_type": "code",
   "execution_count": 17,
   "id": "d70e3d98",
   "metadata": {},
   "outputs": [],
   "source": [
    "import pandas as pd\n",
    "import numpy as np\n",
    "import os\n",
    "import tensorflow as tf\n",
    "import matplotlib.pyplot as plt\n",
    "import matplotlib as mpl\n",
    "from tensorflow.keras import datasets, layers, models\n",
    "import datetime\n",
    "from keras.layers import Dense, LSTM, GRU, Activation, Conv1D\n",
    "from keras.preprocessing.sequence import TimeseriesGenerator\n",
    "from sklearn.preprocessing import MinMaxScaler, StandardScaler\n",
    "from sklearn.model_selection import train_test_split\n",
    "import calendar\n",
    "import datetime as dt\n",
    "from datetime import timedelta, date\n",
    "from pprint import pprint\n",
    "\n",
    "from sklearn.pipeline import Pipeline\n",
    "from sklearn.preprocessing import MinMaxScaler\n",
    "from sklearn.neighbors import KNeighborsRegressor\n",
    "from sklearn.model_selection import cross_val_score\n",
    "from sklearn.metrics import mean_squared_error\n",
    "import joblib\n",
    "from tensorflow.keras.callbacks import ModelCheckpoint\n",
    "from tensorflow.keras.optimizers import Adam\n",
    "from tensorflow.keras.optimizers import SGD\n",
    "from tensorflow.keras.models import load_model\n",
    "from tensorflow.keras.layers import LSTM\n",
    "from tensorflow.keras.layers import BatchNormalization\n",
    "from tensorflow.keras.layers import Conv1D,TimeDistributed\n",
    "from tensorflow.keras.layers import Dense, Dropout, Activation, Flatten,MaxPooling1D,Concatenate,AveragePooling1D, GlobalMaxPooling1D\n",
    "from tensorflow.keras.models import Sequential,Model\n",
    "import pandas as pd\n",
    "import numpy as np\n",
    "import tensorflow.keras.backend as K\n",
    "import tensorflow\n",
    "from tensorflow.keras.layers import Input, Reshape, Dense, Lambda\n",
    "from tensorflow.keras.layers import Layer, Flatten, LeakyReLU, concatenate\n",
    "from tensorflow.keras.regularizers import l2\n",
    "import pickle\n",
    "\n",
    "from scipy.stats import randint as sp_randint\n",
    "from time import time\n",
    "import pickle\n",
    "\n",
    "import warnings\n",
    "warnings.filterwarnings('ignore')"
   ]
  },
  {
   "cell_type": "code",
   "execution_count": 18,
   "id": "c06534e9",
   "metadata": {},
   "outputs": [],
   "source": [
    "from timeseires.CNN1D.GoogLeNet1D import PC\n",
    "from timeseires.utils.to_split import to_split\n",
    "from timeseires.callbacks.EpochCheckpoint import EpochCheckpoint\n",
    "from tensorflow.keras.callbacks import ModelCheckpoint\n",
    "from timeseires.callbacks.TrainingMonitor import TrainingMonitor\n",
    "from tensorflow.keras.optimizers import Adam\n",
    "from tensorflow.keras.optimizers import SGD\n",
    "from tensorflow.keras.models import load_model\n",
    "from tensorflow.keras.layers import LSTM\n",
    "from tensorflow.keras.layers import BatchNormalization\n",
    "from tensorflow.keras.layers import Conv1D,TimeDistributed\n",
    "from tensorflow.keras.layers import Dense, Dropout, Activation, Flatten,MaxPooling1D,Concatenate,AveragePooling1D, GlobalMaxPooling1D\n",
    "from tensorflow.keras.models import Sequential,Model\n",
    "import pandas as pd\n",
    "import time\n",
    "import numpy as np\n",
    "import tensorflow.keras.backend as K\n",
    "import tensorflow\n",
    "from tensorflow.keras.layers import Input, Reshape, Dense, Lambda\n",
    "from tensorflow.keras.layers import Layer, Flatten, LeakyReLU, concatenate\n",
    "from tensorflow.keras.regularizers import l2\n",
    "import pickle"
   ]
  },
  {
   "cell_type": "code",
   "execution_count": 19,
   "id": "be8f535f",
   "metadata": {},
   "outputs": [],
   "source": [
    "time_steps=72\n",
    "num_features=14"
   ]
  },
  {
   "cell_type": "code",
   "execution_count": 20,
   "id": "b0ce96b5",
   "metadata": {},
   "outputs": [],
   "source": [
    "def lstm():\n",
    "    inputs = Input(shape=(time_steps, num_features))\n",
    "    x = GRU(48,return_sequences=True)(inputs)\n",
    "    x = GRU(32,return_sequences=True)(x)\n",
    "    x = GRU(16)(x)\n",
    "    x = Dense(10)(x)\n",
    "    x = Activation(\"relu\")(x)\n",
    "    x = Dense(1)(x)\n",
    "    model = Model(inputs, x)\n",
    "    return model"
   ]
  },
  {
   "cell_type": "code",
   "execution_count": 21,
   "id": "c4041c1b",
   "metadata": {},
   "outputs": [
    {
     "name": "stdout",
     "output_type": "stream",
     "text": [
      "Model: \"model_2\"\n",
      "_________________________________________________________________\n",
      " Layer (type)                Output Shape              Param #   \n",
      "=================================================================\n",
      " input_3 (InputLayer)        [(None, 72, 14)]          0         \n",
      "                                                                 \n",
      " gru_6 (GRU)                 (None, 72, 48)            9216      \n",
      "                                                                 \n",
      " gru_7 (GRU)                 (None, 72, 32)            7872      \n",
      "                                                                 \n",
      " gru_8 (GRU)                 (None, 16)                2400      \n",
      "                                                                 \n",
      " dense_4 (Dense)             (None, 10)                170       \n",
      "                                                                 \n",
      " activation_2 (Activation)   (None, 10)                0         \n",
      "                                                                 \n",
      " dense_5 (Dense)             (None, 1)                 11        \n",
      "                                                                 \n",
      "=================================================================\n",
      "Total params: 19,669\n",
      "Trainable params: 19,669\n",
      "Non-trainable params: 0\n",
      "_________________________________________________________________\n"
     ]
    }
   ],
   "source": [
    "model = lstm()\n",
    "model.summary()"
   ]
  },
  {
   "cell_type": "code",
   "execution_count": 22,
   "id": "7381e51f",
   "metadata": {},
   "outputs": [],
   "source": [
    "checkpoints = 'Ihsan_Final checkpoints for week 24_GRU/E1-cp-{epoch:04d}-loss{val_loss:.2f}.h5'\n",
    "OUTPUT_PATH = 'Ihsan_Final checkpoints for week 24_GRU'\n",
    "FIG_PATH = os.path.sep.join([OUTPUT_PATH,\"history.png\"])\n",
    "JSON_PATH = os.path.sep.join([OUTPUT_PATH,\"history.json\"])"
   ]
  },
  {
   "cell_type": "code",
   "execution_count": 23,
   "id": "97d139ce",
   "metadata": {},
   "outputs": [],
   "source": [
    "model = None\n",
    "start_epoch = 0\n",
    "time_steps=72\n",
    "num_features=14"
   ]
  },
  {
   "cell_type": "code",
   "execution_count": 24,
   "id": "bd5c3887",
   "metadata": {},
   "outputs": [],
   "source": [
    "# construct the callback to save only the *best* model to disk\n",
    "# based on the validation loss\n",
    "EpochCheckpoint1 = ModelCheckpoint(checkpoints,\n",
    "                             monitor=\"val_loss\",\n",
    "                             save_best_only=True, \n",
    "                             verbose=1)\n",
    "TrainingMonitor1=TrainingMonitor(FIG_PATH, jsonPath=JSON_PATH, startAt=start_epoch)\n",
    "\n",
    "# construct the set of callbacks\n",
    "callbacks = [EpochCheckpoint1,TrainingMonitor1]"
   ]
  },
  {
   "cell_type": "code",
   "execution_count": 25,
   "id": "d1dd898c",
   "metadata": {},
   "outputs": [
    {
     "name": "stdout",
     "output_type": "stream",
     "text": [
      "[INFO] compiling model...\n"
     ]
    }
   ],
   "source": [
    "# if there is no specific model checkpoint supplied, then initialize\n",
    "# the network and compile the model\n",
    "if model is None:\n",
    "    print(\"[INFO] compiling model...\")\n",
    "    model = lstm()\n",
    "    opt = Adam(1e-4)\n",
    "    model.compile(loss= 'mae', optimizer='adam', metrics=[\"mae\", \"mape\"])\n",
    "# otherwise, load the checkpoint from disk\n",
    "else:\n",
    "    print(\"[INFO] loading {}...\".format(model))\n",
    "    model = load_model(model)\n",
    "\n",
    "    # update the learning rate\n",
    "    print(\"[INFO] old learning rate: {}\".format(K.get_value(model.optimizer.lr)))\n",
    "    K.set_value(model.optimizer.lr, 1e-4)\n",
    "    print(\"[INFO] new learning rate: {}\".format(K.get_value(model.optimizer.lr)))"
   ]
  },
  {
   "cell_type": "code",
   "execution_count": 26,
   "id": "57df2001",
   "metadata": {},
   "outputs": [],
   "source": [
    "df_tr=pd.read_csv('train_Normalized for week 24.csv')\n",
    "train_set = df_tr[:].values "
   ]
  },
  {
   "cell_type": "code",
   "execution_count": 27,
   "id": "018ff29b",
   "metadata": {},
   "outputs": [],
   "source": [
    "df_v = pd.read_csv('validation_Normalized for week 24.csv')\n",
    "validation_set = df_v[:].values\n",
    "\n",
    "df_te = pd.read_csv('test_Normalized for week 24.csv')\n",
    "test_set = df_te[:].values \n",
    "scaler = pickle.load(open(\"scaler.pkl\", 'rb'))"
   ]
  },
  {
   "cell_type": "code",
   "execution_count": 28,
   "id": "3a8ec275",
   "metadata": {},
   "outputs": [
    {
     "name": "stdout",
     "output_type": "stream",
     "text": [
      "Time Consumed 0.28590869903564453 sec\n"
     ]
    }
   ],
   "source": [
    "start = time.time()\n",
    "train_X , train_y = to_split(train_set, time_steps=time_steps, target_col=0, target_len=1)\n",
    "validation_X, validation_y = to_split(validation_set, time_steps=time_steps, target_col=0, target_len=1)\n",
    "test_X, test_y = to_split(test_set, time_steps=time_steps, target_col=0, target_len=1)\n",
    "print('Time Consumed', time.time()-start, \"sec\")"
   ]
  },
  {
   "cell_type": "code",
   "execution_count": 29,
   "id": "b739a318",
   "metadata": {},
   "outputs": [
    {
     "data": {
      "text/plain": [
       "((37502, 72, 14), (9322, 72, 14))"
      ]
     },
     "execution_count": 29,
     "metadata": {},
     "output_type": "execute_result"
    }
   ],
   "source": [
    "train_X.shape,validation_X.shape"
   ]
  },
  {
   "cell_type": "code",
   "execution_count": 36,
   "id": "3c3ccfaa",
   "metadata": {},
   "outputs": [
    {
     "name": "stdout",
     "output_type": "stream",
     "text": [
      "Epoch 1/50\n",
      "1172/1172 [==============================] - ETA: 0s - loss: 0.0107 - mae: 0.0107 - mape: 17252.4414\n",
      "Epoch 1: val_loss did not improve from 0.01434\n",
      "1172/1172 [==============================] - 124s 103ms/step - loss: 0.0107 - mae: 0.0107 - mape: 17252.4414 - val_loss: 0.0156 - val_mae: 0.0156 - val_mape: 2.9749\n",
      "Epoch 2/50\n",
      "1172/1172 [==============================] - ETA: 0s - loss: 0.0107 - mae: 0.0107 - mape: 17480.3066\n",
      "Epoch 2: val_loss did not improve from 0.01434\n",
      "1172/1172 [==============================] - 120s 103ms/step - loss: 0.0107 - mae: 0.0107 - mape: 17480.3066 - val_loss: 0.0153 - val_mae: 0.0153 - val_mape: 2.8780\n",
      "Epoch 3/50\n",
      "1172/1172 [==============================] - ETA: 0s - loss: 0.0108 - mae: 0.0108 - mape: 17440.9199\n",
      "Epoch 3: val_loss did not improve from 0.01434\n",
      "1172/1172 [==============================] - 121s 103ms/step - loss: 0.0108 - mae: 0.0108 - mape: 17440.9199 - val_loss: 0.0150 - val_mae: 0.0150 - val_mape: 2.8800\n",
      "Epoch 4/50\n",
      "1172/1172 [==============================] - ETA: 0s - loss: 0.0106 - mae: 0.0106 - mape: 17262.6621\n",
      "Epoch 4: val_loss did not improve from 0.01434\n",
      "1172/1172 [==============================] - 120s 103ms/step - loss: 0.0106 - mae: 0.0106 - mape: 17262.6621 - val_loss: 0.0157 - val_mae: 0.0157 - val_mape: 2.9275\n",
      "Epoch 5/50\n",
      "1172/1172 [==============================] - ETA: 0s - loss: 0.0107 - mae: 0.0107 - mape: 17395.3848\n",
      "Epoch 5: val_loss did not improve from 0.01434\n",
      "1172/1172 [==============================] - 120s 103ms/step - loss: 0.0107 - mae: 0.0107 - mape: 17395.3848 - val_loss: 0.0152 - val_mae: 0.0152 - val_mape: 2.9324\n",
      "Epoch 6/50\n",
      "1172/1172 [==============================] - ETA: 0s - loss: 0.0106 - mae: 0.0106 - mape: 17538.1797\n",
      "Epoch 6: val_loss did not improve from 0.01434\n",
      "1172/1172 [==============================] - 120s 102ms/step - loss: 0.0106 - mae: 0.0106 - mape: 17538.1797 - val_loss: 0.0152 - val_mae: 0.0152 - val_mape: 2.9082\n",
      "Epoch 7/50\n",
      "1172/1172 [==============================] - ETA: 0s - loss: 0.0106 - mae: 0.0106 - mape: 17570.2344\n",
      "Epoch 7: val_loss did not improve from 0.01434\n",
      "1172/1172 [==============================] - 120s 102ms/step - loss: 0.0106 - mae: 0.0106 - mape: 17570.2344 - val_loss: 0.0170 - val_mae: 0.0170 - val_mape: 3.1516\n",
      "Epoch 8/50\n",
      "1172/1172 [==============================] - ETA: 0s - loss: 0.0107 - mae: 0.0107 - mape: 17635.5703\n",
      "Epoch 8: val_loss did not improve from 0.01434\n",
      "1172/1172 [==============================] - 120s 103ms/step - loss: 0.0107 - mae: 0.0107 - mape: 17635.5703 - val_loss: 0.0155 - val_mae: 0.0155 - val_mape: 2.9818\n",
      "Epoch 9/50\n",
      "1172/1172 [==============================] - ETA: 0s - loss: 0.0105 - mae: 0.0105 - mape: 17506.7383\n",
      "Epoch 9: val_loss did not improve from 0.01434\n",
      "1172/1172 [==============================] - 120s 102ms/step - loss: 0.0105 - mae: 0.0105 - mape: 17506.7383 - val_loss: 0.0146 - val_mae: 0.0146 - val_mape: 2.8114\n",
      "Epoch 10/50\n",
      "1172/1172 [==============================] - ETA: 0s - loss: 0.0104 - mae: 0.0104 - mape: 17305.9629\n",
      "Epoch 10: val_loss did not improve from 0.01434\n",
      "1172/1172 [==============================] - 120s 103ms/step - loss: 0.0104 - mae: 0.0104 - mape: 17305.9629 - val_loss: 0.0145 - val_mae: 0.0145 - val_mape: 2.7639\n",
      "Epoch 11/50\n",
      "1172/1172 [==============================] - ETA: 0s - loss: 0.0103 - mae: 0.0103 - mape: 17364.4883\n",
      "Epoch 11: val_loss did not improve from 0.01434\n",
      "1172/1172 [==============================] - 119s 102ms/step - loss: 0.0103 - mae: 0.0103 - mape: 17364.4883 - val_loss: 0.0147 - val_mae: 0.0147 - val_mape: 2.8352\n",
      "Epoch 12/50\n",
      "1172/1172 [==============================] - ETA: 0s - loss: 0.0104 - mae: 0.0104 - mape: 17446.2012\n",
      "Epoch 12: val_loss did not improve from 0.01434\n",
      "1172/1172 [==============================] - 121s 103ms/step - loss: 0.0104 - mae: 0.0104 - mape: 17446.2012 - val_loss: 0.0150 - val_mae: 0.0150 - val_mape: 2.9002\n",
      "Epoch 13/50\n",
      "1172/1172 [==============================] - ETA: 0s - loss: 0.0106 - mae: 0.0106 - mape: 17430.1387\n",
      "Epoch 13: val_loss did not improve from 0.01434\n",
      "1172/1172 [==============================] - 120s 102ms/step - loss: 0.0106 - mae: 0.0106 - mape: 17430.1387 - val_loss: 0.0143 - val_mae: 0.0143 - val_mape: 2.7578\n",
      "Epoch 14/50\n",
      "1172/1172 [==============================] - ETA: 0s - loss: 0.0105 - mae: 0.0105 - mape: 17673.4238\n",
      "Epoch 14: val_loss did not improve from 0.01434\n",
      "1172/1172 [==============================] - 120s 103ms/step - loss: 0.0105 - mae: 0.0105 - mape: 17673.4238 - val_loss: 0.0153 - val_mae: 0.0153 - val_mape: 2.9835\n",
      "Epoch 15/50\n",
      "1172/1172 [==============================] - ETA: 0s - loss: 0.0104 - mae: 0.0104 - mape: 17207.3652\n",
      "Epoch 15: val_loss did not improve from 0.01434\n",
      "1172/1172 [==============================] - 120s 102ms/step - loss: 0.0104 - mae: 0.0104 - mape: 17207.3652 - val_loss: 0.0145 - val_mae: 0.0145 - val_mape: 2.7733\n",
      "Epoch 16/50\n",
      "1172/1172 [==============================] - ETA: 0s - loss: 0.0104 - mae: 0.0104 - mape: 17774.8457\n",
      "Epoch 16: val_loss did not improve from 0.01434\n",
      "1172/1172 [==============================] - 120s 102ms/step - loss: 0.0104 - mae: 0.0104 - mape: 17774.8457 - val_loss: 0.0155 - val_mae: 0.0155 - val_mape: 2.9321\n",
      "Epoch 17/50\n",
      "1172/1172 [==============================] - ETA: 0s - loss: 0.0104 - mae: 0.0104 - mape: 17484.9668\n",
      "Epoch 17: val_loss did not improve from 0.01434\n",
      "1172/1172 [==============================] - 120s 102ms/step - loss: 0.0104 - mae: 0.0104 - mape: 17484.9668 - val_loss: 0.0148 - val_mae: 0.0148 - val_mape: 2.8041\n",
      "Epoch 18/50\n",
      "1172/1172 [==============================] - ETA: 0s - loss: 0.0104 - mae: 0.0104 - mape: 17670.2129\n",
      "Epoch 18: val_loss did not improve from 0.01434\n",
      "1172/1172 [==============================] - 120s 102ms/step - loss: 0.0104 - mae: 0.0104 - mape: 17670.2129 - val_loss: 0.0144 - val_mae: 0.0144 - val_mape: 2.7972\n",
      "Epoch 19/50\n",
      "1172/1172 [==============================] - ETA: 0s - loss: 0.0103 - mae: 0.0103 - mape: 17082.8125\n",
      "Epoch 19: val_loss did not improve from 0.01434\n",
      "1172/1172 [==============================] - 119s 102ms/step - loss: 0.0103 - mae: 0.0103 - mape: 17082.8125 - val_loss: 0.0152 - val_mae: 0.0152 - val_mape: 2.9427\n",
      "Epoch 20/50\n",
      "1172/1172 [==============================] - ETA: 0s - loss: 0.0103 - mae: 0.0103 - mape: 17699.3770\n",
      "Epoch 20: val_loss did not improve from 0.01434\n",
      "1172/1172 [==============================] - 121s 103ms/step - loss: 0.0103 - mae: 0.0103 - mape: 17699.3770 - val_loss: 0.0147 - val_mae: 0.0147 - val_mape: 2.8255\n",
      "Epoch 21/50\n",
      "1172/1172 [==============================] - ETA: 0s - loss: 0.0104 - mae: 0.0104 - mape: 17258.4336\n",
      "Epoch 21: val_loss did not improve from 0.01434\n",
      "1172/1172 [==============================] - 120s 102ms/step - loss: 0.0104 - mae: 0.0104 - mape: 17258.4336 - val_loss: 0.0154 - val_mae: 0.0154 - val_mape: 3.0283\n",
      "Epoch 22/50\n",
      "1172/1172 [==============================] - ETA: 0s - loss: 0.0102 - mae: 0.0102 - mape: 17571.5879\n",
      "Epoch 22: val_loss did not improve from 0.01434\n",
      "1172/1172 [==============================] - 117s 100ms/step - loss: 0.0102 - mae: 0.0102 - mape: 17571.5879 - val_loss: 0.0164 - val_mae: 0.0164 - val_mape: 3.0608\n",
      "Epoch 23/50\n",
      "1172/1172 [==============================] - ETA: 0s - loss: 0.0102 - mae: 0.0102 - mape: 17340.5352\n",
      "Epoch 23: val_loss did not improve from 0.01434\n",
      "1172/1172 [==============================] - 111s 95ms/step - loss: 0.0102 - mae: 0.0102 - mape: 17340.5352 - val_loss: 0.0145 - val_mae: 0.0145 - val_mape: 2.8023\n",
      "Epoch 24/50\n",
      "1172/1172 [==============================] - ETA: 0s - loss: 0.0102 - mae: 0.0102 - mape: 17496.0059\n",
      "Epoch 24: val_loss did not improve from 0.01434\n",
      "1172/1172 [==============================] - 112s 95ms/step - loss: 0.0102 - mae: 0.0102 - mape: 17496.0059 - val_loss: 0.0146 - val_mae: 0.0146 - val_mape: 2.8040\n",
      "Epoch 25/50\n",
      "1172/1172 [==============================] - ETA: 0s - loss: 0.0102 - mae: 0.0102 - mape: 17639.1367\n",
      "Epoch 25: val_loss did not improve from 0.01434\n",
      "1172/1172 [==============================] - 110s 94ms/step - loss: 0.0102 - mae: 0.0102 - mape: 17639.1367 - val_loss: 0.0150 - val_mae: 0.0150 - val_mape: 2.8976\n",
      "Epoch 26/50\n",
      "1172/1172 [==============================] - ETA: 0s - loss: 0.0102 - mae: 0.0102 - mape: 17573.1348\n",
      "Epoch 26: val_loss did not improve from 0.01434\n",
      "1172/1172 [==============================] - 105s 89ms/step - loss: 0.0102 - mae: 0.0102 - mape: 17573.1348 - val_loss: 0.0150 - val_mae: 0.0150 - val_mape: 2.9128\n",
      "Epoch 27/50\n",
      "1172/1172 [==============================] - ETA: 0s - loss: 0.0102 - mae: 0.0102 - mape: 17468.6250\n",
      "Epoch 27: val_loss did not improve from 0.01434\n",
      "1172/1172 [==============================] - 95s 81ms/step - loss: 0.0102 - mae: 0.0102 - mape: 17468.6250 - val_loss: 0.0149 - val_mae: 0.0149 - val_mape: 2.8693\n",
      "Epoch 28/50\n",
      "1172/1172 [==============================] - ETA: 0s - loss: 0.0101 - mae: 0.0101 - mape: 17649.6953\n",
      "Epoch 28: val_loss did not improve from 0.01434\n",
      "1172/1172 [==============================] - 96s 82ms/step - loss: 0.0101 - mae: 0.0101 - mape: 17649.6953 - val_loss: 0.0145 - val_mae: 0.0145 - val_mape: 2.8051\n",
      "Epoch 29/50\n",
      "1172/1172 [==============================] - ETA: 0s - loss: 0.0102 - mae: 0.0102 - mape: 17569.3926\n",
      "Epoch 29: val_loss did not improve from 0.01434\n",
      "1172/1172 [==============================] - 96s 82ms/step - loss: 0.0102 - mae: 0.0102 - mape: 17569.3926 - val_loss: 0.0153 - val_mae: 0.0153 - val_mape: 2.9775\n",
      "Epoch 30/50\n",
      "1172/1172 [==============================] - ETA: 0s - loss: 0.0101 - mae: 0.0101 - mape: 17628.8301\n",
      "Epoch 30: val_loss did not improve from 0.01434\n",
      "1172/1172 [==============================] - 94s 80ms/step - loss: 0.0101 - mae: 0.0101 - mape: 17628.8301 - val_loss: 0.0148 - val_mae: 0.0148 - val_mape: 2.8704\n",
      "Epoch 31/50\n",
      "1172/1172 [==============================] - ETA: 0s - loss: 0.0101 - mae: 0.0101 - mape: 17428.5703\n",
      "Epoch 31: val_loss did not improve from 0.01434\n",
      "1172/1172 [==============================] - 92s 79ms/step - loss: 0.0101 - mae: 0.0101 - mape: 17428.5703 - val_loss: 0.0151 - val_mae: 0.0151 - val_mape: 2.9507\n",
      "Epoch 32/50\n",
      "1172/1172 [==============================] - ETA: 0s - loss: 0.0101 - mae: 0.0101 - mape: 17195.5957\n",
      "Epoch 32: val_loss did not improve from 0.01434\n",
      "1172/1172 [==============================] - 92s 78ms/step - loss: 0.0101 - mae: 0.0101 - mape: 17195.5957 - val_loss: 0.0148 - val_mae: 0.0148 - val_mape: 2.8520\n",
      "Epoch 33/50\n",
      "1172/1172 [==============================] - ETA: 0s - loss: 0.0101 - mae: 0.0101 - mape: 17321.2539\n",
      "Epoch 33: val_loss did not improve from 0.01434\n",
      "1172/1172 [==============================] - 92s 79ms/step - loss: 0.0101 - mae: 0.0101 - mape: 17321.2539 - val_loss: 0.0169 - val_mae: 0.0169 - val_mape: 3.1374\n",
      "Epoch 34/50\n",
      "1172/1172 [==============================] - ETA: 0s - loss: 0.0100 - mae: 0.0100 - mape: 17489.5000\n",
      "Epoch 34: val_loss did not improve from 0.01434\n",
      "1172/1172 [==============================] - 92s 79ms/step - loss: 0.0100 - mae: 0.0100 - mape: 17489.5000 - val_loss: 0.0148 - val_mae: 0.0148 - val_mape: 2.8301\n",
      "Epoch 35/50\n",
      "1172/1172 [==============================] - ETA: 0s - loss: 0.0100 - mae: 0.0100 - mape: 17480.8184\n",
      "Epoch 35: val_loss did not improve from 0.01434\n",
      "1172/1172 [==============================] - 91s 78ms/step - loss: 0.0100 - mae: 0.0100 - mape: 17480.8184 - val_loss: 0.0153 - val_mae: 0.0153 - val_mape: 2.8846\n",
      "Epoch 36/50\n",
      "1172/1172 [==============================] - ETA: 0s - loss: 0.0100 - mae: 0.0100 - mape: 17431.4297\n",
      "Epoch 36: val_loss did not improve from 0.01434\n",
      "1172/1172 [==============================] - 91s 78ms/step - loss: 0.0100 - mae: 0.0100 - mape: 17431.4297 - val_loss: 0.0147 - val_mae: 0.0147 - val_mape: 2.8185\n",
      "Epoch 37/50\n",
      "1172/1172 [==============================] - ETA: 0s - loss: 0.0100 - mae: 0.0100 - mape: 17400.4980\n",
      "Epoch 37: val_loss did not improve from 0.01434\n",
      "1172/1172 [==============================] - 90s 77ms/step - loss: 0.0100 - mae: 0.0100 - mape: 17400.4980 - val_loss: 0.0151 - val_mae: 0.0151 - val_mape: 2.9040\n",
      "Epoch 38/50\n",
      "1172/1172 [==============================] - ETA: 0s - loss: 0.0099 - mae: 0.0099 - mape: 17240.9844\n",
      "Epoch 38: val_loss did not improve from 0.01434\n",
      "1172/1172 [==============================] - 91s 77ms/step - loss: 0.0099 - mae: 0.0099 - mape: 17240.9844 - val_loss: 0.0146 - val_mae: 0.0146 - val_mape: 2.8009\n",
      "Epoch 39/50\n",
      "1172/1172 [==============================] - ETA: 0s - loss: 0.0100 - mae: 0.0100 - mape: 17747.6777\n",
      "Epoch 39: val_loss did not improve from 0.01434\n",
      "1172/1172 [==============================] - 91s 77ms/step - loss: 0.0100 - mae: 0.0100 - mape: 17747.6777 - val_loss: 0.0145 - val_mae: 0.0145 - val_mape: 2.8120\n",
      "Epoch 40/50\n",
      "1172/1172 [==============================] - ETA: 0s - loss: 0.0099 - mae: 0.0099 - mape: 17372.9668\n",
      "Epoch 40: val_loss did not improve from 0.01434\n",
      "1172/1172 [==============================] - 90s 77ms/step - loss: 0.0099 - mae: 0.0099 - mape: 17372.9668 - val_loss: 0.0149 - val_mae: 0.0149 - val_mape: 2.8768\n",
      "Epoch 41/50\n",
      "1172/1172 [==============================] - ETA: 0s - loss: 0.0100 - mae: 0.0100 - mape: 17269.5156\n",
      "Epoch 41: val_loss did not improve from 0.01434\n",
      "1172/1172 [==============================] - 91s 77ms/step - loss: 0.0100 - mae: 0.0100 - mape: 17269.5156 - val_loss: 0.0157 - val_mae: 0.0157 - val_mape: 2.9782\n",
      "Epoch 42/50\n",
      "1172/1172 [==============================] - ETA: 0s - loss: 0.0100 - mae: 0.0100 - mape: 17434.6836\n",
      "Epoch 42: val_loss did not improve from 0.01434\n",
      "1172/1172 [==============================] - 88s 75ms/step - loss: 0.0100 - mae: 0.0100 - mape: 17434.6836 - val_loss: 0.0148 - val_mae: 0.0148 - val_mape: 2.8451\n",
      "Epoch 43/50\n",
      "1172/1172 [==============================] - ETA: 0s - loss: 0.0099 - mae: 0.0099 - mape: 17505.9688\n",
      "Epoch 43: val_loss did not improve from 0.01434\n",
      "1172/1172 [==============================] - 88s 75ms/step - loss: 0.0099 - mae: 0.0099 - mape: 17505.9688 - val_loss: 0.0145 - val_mae: 0.0145 - val_mape: 2.7561\n",
      "Epoch 44/50\n",
      "1172/1172 [==============================] - ETA: 0s - loss: 0.0100 - mae: 0.0100 - mape: 17538.6289\n",
      "Epoch 44: val_loss did not improve from 0.01434\n",
      "1172/1172 [==============================] - 88s 75ms/step - loss: 0.0100 - mae: 0.0100 - mape: 17538.6289 - val_loss: 0.0151 - val_mae: 0.0151 - val_mape: 2.9261\n",
      "Epoch 45/50\n",
      "1172/1172 [==============================] - ETA: 0s - loss: 0.0098 - mae: 0.0098 - mape: 17745.8066\n",
      "Epoch 45: val_loss did not improve from 0.01434\n",
      "1172/1172 [==============================] - 87s 75ms/step - loss: 0.0098 - mae: 0.0098 - mape: 17745.8066 - val_loss: 0.0145 - val_mae: 0.0145 - val_mape: 2.8057\n",
      "Epoch 46/50\n",
      "1172/1172 [==============================] - ETA: 0s - loss: 0.0100 - mae: 0.0100 - mape: 17619.3281\n",
      "Epoch 46: val_loss did not improve from 0.01434\n",
      "1172/1172 [==============================] - 87s 74ms/step - loss: 0.0100 - mae: 0.0100 - mape: 17619.3281 - val_loss: 0.0152 - val_mae: 0.0152 - val_mape: 2.9066\n",
      "Epoch 47/50\n",
      "1172/1172 [==============================] - ETA: 0s - loss: 0.0099 - mae: 0.0099 - mape: 17283.0938\n",
      "Epoch 47: val_loss did not improve from 0.01434\n",
      "1172/1172 [==============================] - 88s 75ms/step - loss: 0.0099 - mae: 0.0099 - mape: 17283.0938 - val_loss: 0.0148 - val_mae: 0.0148 - val_mape: 2.8602\n",
      "Epoch 48/50\n",
      "1172/1172 [==============================] - ETA: 0s - loss: 0.0098 - mae: 0.0098 - mape: 17351.9883\n",
      "Epoch 48: val_loss did not improve from 0.01434\n",
      "1172/1172 [==============================] - 84s 72ms/step - loss: 0.0098 - mae: 0.0098 - mape: 17351.9883 - val_loss: 0.0151 - val_mae: 0.0151 - val_mape: 2.8568\n",
      "Epoch 49/50\n",
      "1172/1172 [==============================] - ETA: 0s - loss: 0.0099 - mae: 0.0099 - mape: 17590.3379\n",
      "Epoch 49: val_loss did not improve from 0.01434\n",
      "1172/1172 [==============================] - 76s 65ms/step - loss: 0.0099 - mae: 0.0099 - mape: 17590.3379 - val_loss: 0.0148 - val_mae: 0.0148 - val_mape: 2.8337\n",
      "Epoch 50/50\n",
      "1172/1172 [==============================] - ETA: 0s - loss: 0.0098 - mae: 0.0098 - mape: 17167.4219\n",
      "Epoch 50: val_loss did not improve from 0.01434\n",
      "1172/1172 [==============================] - 77s 65ms/step - loss: 0.0098 - mae: 0.0098 - mape: 17167.4219 - val_loss: 0.0160 - val_mae: 0.0160 - val_mape: 3.1386\n"
     ]
    }
   ],
   "source": [
    "epochs = 50\n",
    "verbose = 1 #0\n",
    "batch_size = 32\n",
    "History = model.fit(train_X,\n",
    "                        train_y,\n",
    "                        batch_size=batch_size,   \n",
    "                        epochs = epochs, \n",
    "                        validation_data = (validation_X,validation_y),\n",
    "                        callbacks=callbacks,\n",
    "                        verbose = verbose)"
   ]
  },
  {
   "cell_type": "code",
   "execution_count": 31,
   "id": "ee9eeb5d",
   "metadata": {},
   "outputs": [],
   "source": [
    "import pickle\n",
    "model = load_model('Ihsan_Final checkpoints for week 24_GRU/E1-cp-0046-loss0.01.h5')"
   ]
  },
  {
   "cell_type": "code",
   "execution_count": 32,
   "id": "674fa96c",
   "metadata": {},
   "outputs": [
    {
     "name": "stdout",
     "output_type": "stream",
     "text": [
      "3/3 [==============================] - 2s 21ms/step\n"
     ]
    }
   ],
   "source": [
    "y_pred_scaled   = model.predict(test_X)"
   ]
  },
  {
   "cell_type": "code",
   "execution_count": 33,
   "id": "96527da3",
   "metadata": {},
   "outputs": [],
   "source": [
    "y_pred          = scaler.inverse_transform(y_pred_scaled)\n",
    "y_test_unscaled = scaler.inverse_transform(test_y.reshape(-1, 1))"
   ]
  },
  {
   "cell_type": "code",
   "execution_count": 34,
   "id": "a7cdbd35",
   "metadata": {},
   "outputs": [
    {
     "name": "stdout",
     "output_type": "stream",
     "text": [
      "Mean Absolute Error (MAE): 23.28\n",
      "Median Absolute Error (MedAE): 18.99\n",
      "Mean Squared Error (MSE): 850.79\n",
      "Root Mean Squared Error (RMSE): 29.17\n",
      "Mean Absolute Percentage Error (MAPE): 2.06 %\n",
      "Median Absolute Percentage Error (MDAPE): 1.7 %\n",
      "\n",
      "\n",
      "y_test_unscaled.shape=  (96, 1)\n",
      "y_pred.shape=  (96, 1)\n"
     ]
    }
   ],
   "source": [
    "# Mean Absolute Error (MAE)\n",
    "MAE = np.mean(abs(y_pred - y_test_unscaled))\n",
    "print('Mean Absolute Error (MAE): ' + str(np.round(MAE, 2)))\n",
    "\n",
    "# Median Absolute Error (MedAE)\n",
    "MEDAE = np.median(abs(y_pred - y_test_unscaled))\n",
    "print('Median Absolute Error (MedAE): ' + str(np.round(MEDAE, 2)))\n",
    "\n",
    "# Mean Squared Error (MSE)\n",
    "MSE = np.square(np.subtract(y_pred, y_test_unscaled)).mean()\n",
    "print('Mean Squared Error (MSE): ' + str(np.round(MSE, 2)))\n",
    "\n",
    "# Root Mean Squarred Error (RMSE) \n",
    "RMSE = np.sqrt(np.mean(np.square(y_pred - y_test_unscaled)))\n",
    "print('Root Mean Squared Error (RMSE): ' + str(np.round(RMSE, 2)))\n",
    "\n",
    "# Mean Absolute Percentage Error (MAPE)\n",
    "MAPE = np.mean((np.abs(np.subtract(y_test_unscaled, y_pred)/ y_test_unscaled))) * 100\n",
    "print('Mean Absolute Percentage Error (MAPE): ' + str(np.round(MAPE, 2)) + ' %')\n",
    "\n",
    "# Median Absolute Percentage Error (MDAPE)\n",
    "MDAPE = np.median((np.abs(np.subtract(y_test_unscaled, y_pred)/ y_test_unscaled))) * 100\n",
    "print('Median Absolute Percentage Error (MDAPE): ' + str(np.round(MDAPE, 2)) + ' %')\n",
    "\n",
    "print('\\n\\ny_test_unscaled.shape= ',y_test_unscaled.shape)\n",
    "print('y_pred.shape= ',y_pred.shape)"
   ]
  },
  {
   "cell_type": "code",
   "execution_count": 35,
   "id": "21d03475",
   "metadata": {},
   "outputs": [
    {
     "data": {
      "image/png": "[encoded data removed]",
      "text/plain": [
       "<Figure size 432x288 with 1 Axes>"
      ]
     },
     "metadata": {},
     "output_type": "display_data"
    }
   ],
   "source": [
    "plt.plot(y_test_unscaled, color=\"red\", linewidth=2)\n",
    "plt.plot(y_pred, color=\"green\", linewidth=2)\n",
    "plt.legend(['Actual load','Predicted GRU'])\n",
    "plt.ylabel('Load MWh')\n",
    "plt.xlabel('Hourly samples')\n",
    "plt.show()"
   ]
  },
  {
   "cell_type": "code",
   "execution_count": null,
   "id": "14430012",
   "metadata": {},
   "outputs": [],
   "source": []
  }
 ],
 "metadata": {
  "kernelspec": {
   "display_name": "Python [conda env:.conda-jupyter-2022-07-22] *",
   "language": "python",
   "name": "conda-env-.conda-jupyter-2022-07-22-py"
  },
  "language_info": {
   "codemirror_mode": {
    "name": "ipython",
    "version": 3
   },
   "file_extension": ".py",
   "mimetype": "text/x-python",
   "name": "python",
   "nbconvert_exporter": "python",
   "pygments_lexer": "ipython3",
   "version": "3.10.5"
  }
 },
 "nbformat": 4,
 "nbformat_minor": 5
}
