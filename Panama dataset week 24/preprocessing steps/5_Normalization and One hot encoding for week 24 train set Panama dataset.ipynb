{
 "cells": [
  {
   "cell_type": "code",
   "execution_count": 1,
   "id": "308f7296",
   "metadata": {},
   "outputs": [],
   "source": [
    "import numpy as np\n",
    "import pandas as pd\n",
    "from pandas import read_csv\n",
    "import pickle\n",
    "from sklearn.preprocessing import MinMaxScaler, StandardScaler\n",
    "from sklearn.preprocessing import OneHotEncoder"
   ]
  },
  {
   "cell_type": "code",
   "execution_count": 2,
   "id": "bd61b625",
   "metadata": {},
   "outputs": [
    {
     "data": {
      "text/html": [
       "<div>\n",
       "<style scoped>\n",
       "    .dataframe tbody tr th:only-of-type {\n",
       "        vertical-align: middle;\n",
       "    }\n",
       "\n",
       "    .dataframe tbody tr th {\n",
       "        vertical-align: top;\n",
       "    }\n",
       "\n",
       "    .dataframe thead th {\n",
       "        text-align: right;\n",
       "    }\n",
       "</style>\n",
       "<table border=\"1\" class=\"dataframe\">\n",
       "  <thead>\n",
       "    <tr style=\"text-align: right;\">\n",
       "      <th></th>\n",
       "      <th>week_X-2</th>\n",
       "      <th>week_X-3</th>\n",
       "      <th>week_X-4</th>\n",
       "      <th>MA_X-4</th>\n",
       "      <th>dayOfWeek</th>\n",
       "      <th>weekend</th>\n",
       "      <th>holiday</th>\n",
       "      <th>hourOfDay</th>\n",
       "      <th>T2M_toc</th>\n",
       "      <th>DEMAND</th>\n",
       "    </tr>\n",
       "    <tr>\n",
       "      <th>datetime</th>\n",
       "      <th></th>\n",
       "      <th></th>\n",
       "      <th></th>\n",
       "      <th></th>\n",
       "      <th></th>\n",
       "      <th></th>\n",
       "      <th></th>\n",
       "      <th></th>\n",
       "      <th></th>\n",
       "      <th></th>\n",
       "    </tr>\n",
       "  </thead>\n",
       "  <tbody>\n",
       "    <tr>\n",
       "      <th>2015-01-31 01:00:00</th>\n",
       "      <td>962.2865</td>\n",
       "      <td>906.9580</td>\n",
       "      <td>970.3450</td>\n",
       "      <td>938.004850</td>\n",
       "      <td>1</td>\n",
       "      <td>1</td>\n",
       "      <td>0</td>\n",
       "      <td>1</td>\n",
       "      <td>25.308496</td>\n",
       "      <td>954.2018</td>\n",
       "    </tr>\n",
       "    <tr>\n",
       "      <th>2015-01-31 02:00:00</th>\n",
       "      <td>933.3221</td>\n",
       "      <td>863.5135</td>\n",
       "      <td>912.1755</td>\n",
       "      <td>900.284075</td>\n",
       "      <td>1</td>\n",
       "      <td>1</td>\n",
       "      <td>0</td>\n",
       "      <td>2</td>\n",
       "      <td>25.141443</td>\n",
       "      <td>913.8660</td>\n",
       "    </tr>\n",
       "  </tbody>\n",
       "</table>\n",
       "</div>"
      ],
      "text/plain": [
       "                     week_X-2  week_X-3  week_X-4      MA_X-4  dayOfWeek  \\\n",
       "datetime                                                                   \n",
       "2015-01-31 01:00:00  962.2865  906.9580  970.3450  938.004850          1   \n",
       "2015-01-31 02:00:00  933.3221  863.5135  912.1755  900.284075          1   \n",
       "\n",
       "                     weekend  holiday  hourOfDay    T2M_toc    DEMAND  \n",
       "datetime                                                               \n",
       "2015-01-31 01:00:00        1        0          1  25.308496  954.2018  \n",
       "2015-01-31 02:00:00        1        0          2  25.141443  913.8660  "
      ]
     },
     "execution_count": 2,
     "metadata": {},
     "output_type": "execute_result"
    }
   ],
   "source": [
    "df = pd.read_csv('dataset_for_normalization_OneHOtencoding for week 24.csv', parse_dates = ['datetime'], index_col = ['datetime'])\n",
    "df.head(2)"
   ]
  },
  {
   "cell_type": "code",
   "execution_count": 4,
   "id": "219b980c",
   "metadata": {},
   "outputs": [
    {
     "data": {
      "text/plain": [
       "0"
      ]
     },
     "execution_count": 4,
     "metadata": {},
     "output_type": "execute_result"
    }
   ],
   "source": [
    "df.isnull().sum().sum()"
   ]
  },
  {
   "cell_type": "code",
   "execution_count": 5,
   "id": "006593dc",
   "metadata": {},
   "outputs": [
    {
     "data": {
      "text/plain": [
       "(46968, 10)"
      ]
     },
     "execution_count": 5,
     "metadata": {},
     "output_type": "execute_result"
    }
   ],
   "source": [
    "dataset = df.iloc[:].values \n",
    "dataset.shape"
   ]
  },
  {
   "cell_type": "code",
   "execution_count": 49,
   "id": "cca07b01",
   "metadata": {},
   "outputs": [
    {
     "data": {
      "text/html": [
       "<div>\n",
       "<style scoped>\n",
       "    .dataframe tbody tr th:only-of-type {\n",
       "        vertical-align: middle;\n",
       "    }\n",
       "\n",
       "    .dataframe tbody tr th {\n",
       "        vertical-align: top;\n",
       "    }\n",
       "\n",
       "    .dataframe thead th {\n",
       "        text-align: right;\n",
       "    }\n",
       "</style>\n",
       "<table border=\"1\" class=\"dataframe\">\n",
       "  <thead>\n",
       "    <tr style=\"text-align: right;\">\n",
       "      <th></th>\n",
       "      <th>week_X-2</th>\n",
       "      <th>week_X-3</th>\n",
       "      <th>week_X-4</th>\n",
       "      <th>MA_X-4</th>\n",
       "      <th>dayOfWeek</th>\n",
       "      <th>weekend</th>\n",
       "      <th>holiday</th>\n",
       "      <th>hourOfDay</th>\n",
       "      <th>T2M_toc</th>\n",
       "      <th>DEMAND</th>\n",
       "    </tr>\n",
       "    <tr>\n",
       "      <th>datetime</th>\n",
       "      <th></th>\n",
       "      <th></th>\n",
       "      <th></th>\n",
       "      <th></th>\n",
       "      <th></th>\n",
       "      <th></th>\n",
       "      <th></th>\n",
       "      <th></th>\n",
       "      <th></th>\n",
       "      <th></th>\n",
       "    </tr>\n",
       "  </thead>\n",
       "  <tbody>\n",
       "    <tr>\n",
       "      <th>2020-06-13 01:00:00</th>\n",
       "      <td>1008.5706</td>\n",
       "      <td>987.0052</td>\n",
       "      <td>1042.7384</td>\n",
       "      <td>1020.189200</td>\n",
       "      <td>1</td>\n",
       "      <td>1</td>\n",
       "      <td>1</td>\n",
       "      <td>1</td>\n",
       "      <td>25.864984</td>\n",
       "      <td>1010.6531</td>\n",
       "    </tr>\n",
       "    <tr>\n",
       "      <th>2020-06-13 02:00:00</th>\n",
       "      <td>981.9116</td>\n",
       "      <td>957.1975</td>\n",
       "      <td>1018.0739</td>\n",
       "      <td>992.719025</td>\n",
       "      <td>1</td>\n",
       "      <td>1</td>\n",
       "      <td>1</td>\n",
       "      <td>2</td>\n",
       "      <td>25.748865</td>\n",
       "      <td>976.2663</td>\n",
       "    </tr>\n",
       "  </tbody>\n",
       "</table>\n",
       "</div>"
      ],
      "text/plain": [
       "                      week_X-2  week_X-3   week_X-4       MA_X-4  dayOfWeek  \\\n",
       "datetime                                                                      \n",
       "2020-06-13 01:00:00  1008.5706  987.0052  1042.7384  1020.189200          1   \n",
       "2020-06-13 02:00:00   981.9116  957.1975  1018.0739   992.719025          1   \n",
       "\n",
       "                     weekend  holiday  hourOfDay    T2M_toc     DEMAND  \n",
       "datetime                                                                \n",
       "2020-06-13 01:00:00        1        1          1  25.864984  1010.6531  \n",
       "2020-06-13 02:00:00        1        1          2  25.748865   976.2663  "
      ]
     },
     "execution_count": 49,
     "metadata": {},
     "output_type": "execute_result"
    }
   ],
   "source": [
    "df2=pd.read_csv('Test week 24.csv', parse_dates = ['datetime'], index_col = ['datetime'])\n",
    "df2.drop(['Holiday_ID'], axis = 1, inplace = True)\n",
    "df2.head(2)"
   ]
  },
  {
   "cell_type": "markdown",
   "id": "ce956f89",
   "metadata": {},
   "source": [
    "# Function to split data for train, validate and test"
   ]
  },
  {
   "cell_type": "code",
   "execution_count": 50,
   "id": "75809935",
   "metadata": {},
   "outputs": [],
   "source": [
    "def t_v_t(dataset,train_p,validation_p,test_p):\n",
    "    '''\n",
    "    \\n\\nt_v_t(dataset,train_p,validation_p,test_p)\\n\n",
    "    dataset = DataFrame\n",
    "    train_p = Percentage of Traing Data\n",
    "    validation_p = Percentage of Validation Data\n",
    "    test_p = Percentage of Test Data\n",
    "    \\n\\nExample:\n",
    "    to call this Function;\n",
    "    train_set , validation_set , test_set = t_v_t(df,70,20,10)\n",
    "    '''\n",
    "    train_p=train_p/100\n",
    "    validation_p=validation_p/100\n",
    "    test_p=test_p/100\n",
    "    train=int(np.round(len(dataset)*train_p))                                 #70\n",
    "    validation=int(np.round(len(dataset)*validation_p))                       #20\n",
    "    test=int(np.round(len(dataset)*test_p))                                   #10\n",
    "    train_set,validation_set,test_set=dataset[:train],dataset[train:train+validation],dataset[train+validation:len(dataset)]\n",
    "    return train_set,validation_set,test_set"
   ]
  },
  {
   "cell_type": "code",
   "execution_count": 51,
   "id": "e4ec7a7b",
   "metadata": {},
   "outputs": [
    {
     "name": "stdout",
     "output_type": "stream",
     "text": [
      "\n",
      "    \n",
      "\n",
      "t_v_t(dataset,train_p,validation_p,test_p)\n",
      "\n",
      "    dataset = DataFrame\n",
      "    train_p = Percentage of Traing Data\n",
      "    validation_p = Percentage of Validation Data\n",
      "    test_p = Percentage of Test Data\n",
      "    \n",
      "\n",
      "Example:\n",
      "    to call this Function;\n",
      "    train_set , validation_set , test_set = t_v_t(df,70,20,10)\n",
      "    \n"
     ]
    }
   ],
   "source": [
    "print(t_v_t.__doc__)"
   ]
  },
  {
   "cell_type": "markdown",
   "id": "b2314945",
   "metadata": {},
   "source": [
    "# Normalization"
   ]
  },
  {
   "cell_type": "code",
   "execution_count": 52,
   "id": "cfd9e2e0",
   "metadata": {},
   "outputs": [],
   "source": [
    "train_set , validation_set , test_set = t_v_t(df,80,20,0);"
   ]
  },
  {
   "cell_type": "code",
   "execution_count": 53,
   "id": "29586de2",
   "metadata": {},
   "outputs": [],
   "source": [
    "test_set=df2"
   ]
  },
  {
   "cell_type": "code",
   "execution_count": 54,
   "id": "0dbc2fd0",
   "metadata": {},
   "outputs": [
    {
     "name": "stdout",
     "output_type": "stream",
     "text": [
      "(37574, 10)\n",
      "(9394, 10)\n",
      "(168, 10)\n"
     ]
    }
   ],
   "source": [
    "print(train_set.shape)\n",
    "print(validation_set.shape)\n",
    "print(test_set.shape)"
   ]
  },
  {
   "cell_type": "markdown",
   "id": "d797957b",
   "metadata": {},
   "source": [
    "# MinMaxScaler"
   ]
  },
  {
   "cell_type": "code",
   "execution_count": 55,
   "id": "f91c80c1",
   "metadata": {},
   "outputs": [],
   "source": [
    "train_set_load1             = train_set['DEMAND'].values.reshape(-1, 1) \n",
    "validation_set_load1        = validation_set['DEMAND'].values.reshape(-1, 1)\n",
    "test_set_load1              = test_set['DEMAND'].values.reshape(-1, 1) \n",
    "\n",
    "scaler = MinMaxScaler(feature_range=(0, 1))\n",
    "scaler.fit(train_set_load1)\n",
    "\n",
    "scaled_train_set_load1      = scaler.transform(train_set_load1)\n",
    "scaled_validation_set_load1 = scaler.transform(validation_set_load1)\n",
    "scaled_test_set_load1       = scaler.transform(test_set_load1)"
   ]
  },
  {
   "cell_type": "code",
   "execution_count": 56,
   "id": "ebd50c59",
   "metadata": {},
   "outputs": [],
   "source": [
    "pickle.dump(scaler, open (\"scaler.pkl\",'wb') )"
   ]
  },
  {
   "cell_type": "code",
   "execution_count": 57,
   "id": "c6a918af",
   "metadata": {},
   "outputs": [
    {
     "data": {
      "text/plain": [
       "(37574, 1)"
      ]
     },
     "execution_count": 57,
     "metadata": {},
     "output_type": "execute_result"
    }
   ],
   "source": [
    "scaled_train_set_load1.shape"
   ]
  },
  {
   "cell_type": "code",
   "execution_count": 58,
   "id": "ce43d1be",
   "metadata": {},
   "outputs": [],
   "source": [
    "train_set_load             = train_set[['week_X-2','week_X-3','week_X-4','MA_X-4','T2M_toc']]              \n",
    "validation_set_load        = validation_set[['week_X-2','week_X-3','week_X-4','MA_X-4','T2M_toc']]\n",
    "test_set_load              = test_set[['week_X-2','week_X-3','week_X-4','MA_X-4','T2M_toc']]\n",
    "#.........................................................................\n",
    "scaler = MinMaxScaler(feature_range=(0, 1))\n",
    "scaler.fit(train_set_load)\n",
    "#.........................................................................\n",
    "scaled_train_set_load      = scaler.transform(train_set_load)\n",
    "scaled_validation_set_load = scaler.transform(validation_set_load)\n",
    "scaled_test_set_load       = scaler.transform(test_set_load)"
   ]
  },
  {
   "cell_type": "code",
   "execution_count": 59,
   "id": "fb095338",
   "metadata": {},
   "outputs": [
    {
     "data": {
      "text/plain": [
       "(37574, 5)"
      ]
     },
     "execution_count": 59,
     "metadata": {},
     "output_type": "execute_result"
    }
   ],
   "source": [
    "scaled_train_set_load.shape"
   ]
  },
  {
   "cell_type": "code",
   "execution_count": 60,
   "id": "1d51182b",
   "metadata": {},
   "outputs": [],
   "source": [
    "scaled_train_set_load          = np.concatenate((scaled_train_set_load1 , scaled_train_set_load),axis=1) \n",
    "scaled_validation_set_load     = np.concatenate((scaled_validation_set_load1 , scaled_validation_set_load),axis=1) \n",
    "scaled_test_set_load           = np.concatenate((scaled_test_set_load1 , scaled_test_set_load),axis=1) "
   ]
  },
  {
   "cell_type": "code",
   "execution_count": 61,
   "id": "dd1eb1c7",
   "metadata": {},
   "outputs": [
    {
     "data": {
      "text/plain": [
       "(37574, 6)"
      ]
     },
     "execution_count": 61,
     "metadata": {},
     "output_type": "execute_result"
    }
   ],
   "source": [
    "scaled_train_set_load.shape"
   ]
  },
  {
   "cell_type": "markdown",
   "id": "9a793f8e",
   "metadata": {},
   "source": [
    "# One Hot Encoding"
   ]
  },
  {
   "cell_type": "code",
   "execution_count": 62,
   "id": "552a9cfc",
   "metadata": {},
   "outputs": [
    {
     "data": {
      "text/plain": [
       "Index(['week_X-2', 'week_X-3', 'week_X-4', 'MA_X-4', 'dayOfWeek', 'weekend',\n",
       "       'holiday', 'hourOfDay', 'T2M_toc', 'DEMAND'],\n",
       "      dtype='object')"
      ]
     },
     "execution_count": 62,
     "metadata": {},
     "output_type": "execute_result"
    }
   ],
   "source": [
    "train_set.columns"
   ]
  },
  {
   "cell_type": "code",
   "execution_count": 63,
   "id": "1b918d34",
   "metadata": {},
   "outputs": [
    {
     "data": {
      "text/plain": [
       "(37574, 4)"
      ]
     },
     "execution_count": 63,
     "metadata": {},
     "output_type": "execute_result"
    }
   ],
   "source": [
    "train_setO     = train_set[:].values\n",
    "\n",
    "weekend        = train_setO[:,5:6]\n",
    "holiday        = train_setO[:,6:7]\n",
    "\n",
    "\n",
    "en_weekend     = OneHotEncoder(handle_unknown='ignore')\n",
    "en_holiday     = OneHotEncoder(handle_unknown='ignore')\n",
    "\n",
    "\n",
    "weekendf       = en_weekend.fit(weekend)\n",
    "holidayf       = en_holiday.fit(holiday)\n",
    "\n",
    "weekendt       = weekendf.transform(weekend).toarray()\n",
    "holidayt       = holidayf.transform(holiday).toarray()\n",
    "\n",
    "train_setO     = np.concatenate((weekendt , holidayt, ),axis=1) \n",
    "train_setO.shape"
   ]
  },
  {
   "cell_type": "code",
   "execution_count": 64,
   "id": "48b2b075",
   "metadata": {},
   "outputs": [
    {
     "data": {
      "text/plain": [
       "(9394, 4)"
      ]
     },
     "execution_count": 64,
     "metadata": {},
     "output_type": "execute_result"
    }
   ],
   "source": [
    "validation_setO = validation_set[:].values\n",
    "\n",
    "\n",
    "weekend        = validation_setO[:,5:6]\n",
    "holiday        = validation_setO[:,6:7]\n",
    "\n",
    "\n",
    "en_weekend     = OneHotEncoder(handle_unknown='ignore')\n",
    "en_holiday     = OneHotEncoder(handle_unknown='ignore')\n",
    "\n",
    "\n",
    "weekendf       = en_weekend.fit(weekend)\n",
    "holidayf       = en_holiday.fit(holiday)\n",
    "\n",
    "weekendt       = weekendf.transform(weekend).toarray()\n",
    "holidayt       = holidayf.transform(holiday).toarray()\n",
    "\n",
    "val_one_hot = np.concatenate((weekendt , holidayt, ),axis=1)  \n",
    "val_one_hot.shape"
   ]
  },
  {
   "cell_type": "code",
   "execution_count": 65,
   "id": "856c7bbc",
   "metadata": {},
   "outputs": [
    {
     "data": {
      "text/plain": [
       "Index(['week_X-2', 'week_X-3', 'week_X-4', 'MA_X-4', 'dayOfWeek', 'weekend',\n",
       "       'holiday', 'hourOfDay', 'T2M_toc', 'DEMAND'],\n",
       "      dtype='object')"
      ]
     },
     "execution_count": 65,
     "metadata": {},
     "output_type": "execute_result"
    }
   ],
   "source": [
    "test_set.columns"
   ]
  },
  {
   "cell_type": "code",
   "execution_count": 66,
   "id": "59b16219",
   "metadata": {},
   "outputs": [
    {
     "data": {
      "text/plain": [
       "(168, 4)"
      ]
     },
     "execution_count": 66,
     "metadata": {},
     "output_type": "execute_result"
    }
   ],
   "source": [
    "test_setO      = test_set[:].values\n",
    "\n",
    "\n",
    "weekend        = test_setO[:,5:6]\n",
    "holiday        = test_setO[:,6:7]\n",
    "\n",
    "\n",
    "en_weekend     = OneHotEncoder(handle_unknown='ignore')\n",
    "en_holiday     = OneHotEncoder(handle_unknown='ignore')\n",
    "\n",
    "\n",
    "weekendf       = en_weekend.fit(weekend)\n",
    "holidayf       = en_holiday.fit(holiday)\n",
    "\n",
    "weekendt       = weekendf.transform(weekend).toarray()\n",
    "holidayt       = holidayf.transform(holiday).toarray()\n",
    "\n",
    "test_one_hot = np.concatenate((weekendt , holidayt, ),axis=1)   \n",
    "test_one_hot.shape "
   ]
  },
  {
   "cell_type": "code",
   "execution_count": 67,
   "id": "c2594f58",
   "metadata": {},
   "outputs": [
    {
     "data": {
      "text/plain": [
       "Index(['week_X-2', 'week_X-3', 'week_X-4', 'MA_X-4', 'dayOfWeek', 'weekend',\n",
       "       'holiday', 'hourOfDay', 'T2M_toc', 'DEMAND'],\n",
       "      dtype='object')"
      ]
     },
     "execution_count": 67,
     "metadata": {},
     "output_type": "execute_result"
    }
   ],
   "source": [
    "train_set.columns"
   ]
  },
  {
   "cell_type": "code",
   "execution_count": 68,
   "id": "b88c71a3",
   "metadata": {},
   "outputs": [],
   "source": [
    "cyclic_train = train_set[['dayOfWeek','hourOfDay']]\n",
    "cyclic_train = cyclic_train[:].values\n",
    "\n",
    "sin_weekt    = np.sin(2*np.pi*cyclic_train[:,0:1]/6)\n",
    "cos_weekt    = np.cos(2*np.pi*cyclic_train[:,0:1]/6)\n",
    "  \n",
    "sin_hourt    = np.sin(2*np.pi*cyclic_train[:,1:2]/24)\n",
    "cos_hourt    = np.cos(2*np.pi*cyclic_train[:,1:2]/24)\n",
    "\n",
    "cyclic_train = np.concatenate((sin_weekt, cos_weekt, sin_hourt,cos_hourt), axis=1) "
   ]
  },
  {
   "cell_type": "code",
   "execution_count": 69,
   "id": "0d790228",
   "metadata": {},
   "outputs": [],
   "source": [
    "cyclic_validation = validation_set[['dayOfWeek','hourOfDay']]\n",
    "cyclic_validation = cyclic_validation[:].values\n",
    "\n",
    "\n",
    "sin_weekt         = np.sin(2*np.pi*cyclic_validation[:,0:1]/6)\n",
    "cos_weekt         = np.cos(2*np.pi*cyclic_validation[:,0:1]/6)\n",
    "\n",
    "sin_hourt         = np.sin(2*np.pi*cyclic_validation[:,1:2]/24)\n",
    "cos_hourt         = np.cos(2*np.pi*cyclic_validation[:,1:2]/24)\n",
    "\n",
    "cyclic_validation = np.concatenate((sin_weekt, cos_weekt, sin_hourt,cos_hourt), axis=1)"
   ]
  },
  {
   "cell_type": "code",
   "execution_count": 70,
   "id": "ce94d61a",
   "metadata": {},
   "outputs": [],
   "source": [
    "cyclic_test = test_set[['dayOfWeek','hourOfDay']]\n",
    "cyclic_test = cyclic_test[:].values\n",
    "\n",
    "\n",
    "sin_weekt   = np.sin(2*np.pi*cyclic_test[:,0:1]/6)\n",
    "cos_weekt   = np.cos(2*np.pi*cyclic_test[:,0:1]/6)\n",
    "\n",
    "sin_hourt   = np.sin(2*np.pi*cyclic_test[:,1:2]/24)\n",
    "cos_hourt   = np.cos(2*np.pi*cyclic_test[:,1:2]/24)\n",
    "\n",
    "cyclic_test = np.concatenate((sin_weekt, cos_weekt, sin_hourt,cos_hourt), axis=1)"
   ]
  },
  {
   "cell_type": "code",
   "execution_count": 71,
   "id": "5f563c96",
   "metadata": {},
   "outputs": [],
   "source": [
    "train = np.concatenate((scaled_train_set_load, train_setO, cyclic_train), axis=1)"
   ]
  },
  {
   "cell_type": "code",
   "execution_count": 72,
   "id": "99ebf9ab",
   "metadata": {},
   "outputs": [],
   "source": [
    "validation = np.concatenate((scaled_validation_set_load, val_one_hot, cyclic_validation), axis=1)"
   ]
  },
  {
   "cell_type": "code",
   "execution_count": 73,
   "id": "6056287c",
   "metadata": {},
   "outputs": [],
   "source": [
    "test = np.concatenate((scaled_test_set_load, test_one_hot, cyclic_test), axis=1)"
   ]
  },
  {
   "cell_type": "code",
   "execution_count": 77,
   "id": "2eafd65d",
   "metadata": {},
   "outputs": [],
   "source": [
    "train_df = pd.DataFrame(data = train.transpose(), index=['DEMAND','week_X-2',\n",
    "                                                       'week_X-3','week_X-4',\n",
    "                                                       'MA_X-4','T2M_toc',\n",
    "                                                       'weekend1','weekend2',\n",
    "                                                       'holiday1','holiday2',\n",
    "                                                       'dayOfWeek1','dayOfWeek2',\n",
    "                                                       'hourOfDay1','hourOfDay2']).transpose()"
   ]
  },
  {
   "cell_type": "code",
   "execution_count": 79,
   "id": "b6a1c8a0",
   "metadata": {},
   "outputs": [],
   "source": [
    "train_df.to_csv('train_Normalized for week 24.csv', index=False)"
   ]
  },
  {
   "cell_type": "code",
   "execution_count": 80,
   "id": "d7694174",
   "metadata": {},
   "outputs": [],
   "source": [
    "validation_df = pd.DataFrame(data = validation.transpose(), index=['DEMAND','week_X-2',\n",
    "                                                       'week_X-3','week_X-4',\n",
    "                                                       'MA_X-4','T2M_toc',\n",
    "                                                       'weekend1','weekend1',\n",
    "                                                       'holiday1','holiday2',\n",
    "                                                       'dayOfWeek1','dayOfWeek2',\n",
    "                                                       'hourOfDay1','hourOfDay2']).transpose()"
   ]
  },
  {
   "cell_type": "code",
   "execution_count": 81,
   "id": "2369d60f",
   "metadata": {},
   "outputs": [],
   "source": [
    "validation_df.to_csv('validation_Normalized for week 24.csv', index=False)"
   ]
  },
  {
   "cell_type": "code",
   "execution_count": 82,
   "id": "8ebb7bff",
   "metadata": {},
   "outputs": [],
   "source": [
    "test_df = pd.DataFrame(data = test.transpose(), index=['DEMAND','week_X-2',\n",
    "                                                       'week_X-3','week_X-4',\n",
    "                                                       'MA_X-4','T2M_toc',\n",
    "                                                       'weekend1','weekend1',\n",
    "                                                       'holiday1','holiday2',\n",
    "                                                       'dayOfWeek1','dayOfWeek2',\n",
    "                                                       'hourOfDay1','hourOfDay2']).transpose()"
   ]
  },
  {
   "cell_type": "code",
   "execution_count": 83,
   "id": "e37d87bf",
   "metadata": {},
   "outputs": [],
   "source": [
    "test_df.to_csv('test_Normalized for week 24.csv', index=False)"
   ]
  },
  {
   "cell_type": "code",
   "execution_count": 84,
   "id": "5686b416",
   "metadata": {},
   "outputs": [
    {
     "data": {
      "text/plain": [
       "(168, 14)"
      ]
     },
     "execution_count": 84,
     "metadata": {},
     "output_type": "execute_result"
    }
   ],
   "source": [
    "test_df.shape"
   ]
  },
  {
   "cell_type": "code",
   "execution_count": null,
   "id": "d3fd38c6",
   "metadata": {},
   "outputs": [],
   "source": []
  }
 ],
 "metadata": {
  "kernelspec": {
   "display_name": "Python [conda env:.conda-jupyter-2022-07-22] *",
   "language": "python",
   "name": "conda-env-.conda-jupyter-2022-07-22-py"
  },
  "language_info": {
   "codemirror_mode": {
    "name": "ipython",
    "version": 3
   },
   "file_extension": ".py",
   "mimetype": "text/x-python",
   "name": "python",
   "nbconvert_exporter": "python",
   "pygments_lexer": "ipython3",
   "version": "3.10.5"
  }
 },
 "nbformat": 4,
 "nbformat_minor": 5
}
