{
 "cells": [
  {
   "cell_type": "code",
   "execution_count": 1,
   "id": "7c76a33c",
   "metadata": {},
   "outputs": [],
   "source": [
    "import pandas as pd\n",
    "import numpy as np\n",
    "import matplotlib.pyplot as plt\n",
    "import seaborn as sns\n",
    "%matplotlib inline"
   ]
  },
  {
   "cell_type": "code",
   "execution_count": 8,
   "id": "175b6ee9",
   "metadata": {},
   "outputs": [],
   "source": [
    "df = pd.read_csv('Values_handled for week 24.csv', parse_dates = ['datetime'], index_col = ['datetime'])"
   ]
  },
  {
   "cell_type": "code",
   "execution_count": 9,
   "id": "06cadec2",
   "metadata": {},
   "outputs": [
    {
     "data": {
      "text/html": [
       "<div>\n",
       "<style scoped>\n",
       "    .dataframe tbody tr th:only-of-type {\n",
       "        vertical-align: middle;\n",
       "    }\n",
       "\n",
       "    .dataframe tbody tr th {\n",
       "        vertical-align: top;\n",
       "    }\n",
       "\n",
       "    .dataframe thead th {\n",
       "        text-align: right;\n",
       "    }\n",
       "</style>\n",
       "<table border=\"1\" class=\"dataframe\">\n",
       "  <thead>\n",
       "    <tr style=\"text-align: right;\">\n",
       "      <th></th>\n",
       "      <th>week_X-2</th>\n",
       "      <th>week_X-3</th>\n",
       "      <th>week_X-4</th>\n",
       "      <th>MA_X-4</th>\n",
       "      <th>dayOfWeek</th>\n",
       "      <th>weekend</th>\n",
       "      <th>holiday</th>\n",
       "      <th>Holiday_ID</th>\n",
       "      <th>hourOfDay</th>\n",
       "      <th>T2M_toc</th>\n",
       "      <th>DEMAND</th>\n",
       "    </tr>\n",
       "    <tr>\n",
       "      <th>datetime</th>\n",
       "      <th></th>\n",
       "      <th></th>\n",
       "      <th></th>\n",
       "      <th></th>\n",
       "      <th></th>\n",
       "      <th></th>\n",
       "      <th></th>\n",
       "      <th></th>\n",
       "      <th></th>\n",
       "      <th></th>\n",
       "      <th></th>\n",
       "    </tr>\n",
       "  </thead>\n",
       "  <tbody>\n",
       "    <tr>\n",
       "      <th>2015-01-31 01:00:00</th>\n",
       "      <td>962.2865</td>\n",
       "      <td>906.9580</td>\n",
       "      <td>970.3450</td>\n",
       "      <td>938.004850</td>\n",
       "      <td>1</td>\n",
       "      <td>1</td>\n",
       "      <td>0</td>\n",
       "      <td>0</td>\n",
       "      <td>1</td>\n",
       "      <td>25.308496</td>\n",
       "      <td>954.2018</td>\n",
       "    </tr>\n",
       "    <tr>\n",
       "      <th>2015-01-31 02:00:00</th>\n",
       "      <td>933.3221</td>\n",
       "      <td>863.5135</td>\n",
       "      <td>912.1755</td>\n",
       "      <td>900.284075</td>\n",
       "      <td>1</td>\n",
       "      <td>1</td>\n",
       "      <td>0</td>\n",
       "      <td>0</td>\n",
       "      <td>2</td>\n",
       "      <td>25.141443</td>\n",
       "      <td>913.8660</td>\n",
       "    </tr>\n",
       "  </tbody>\n",
       "</table>\n",
       "</div>"
      ],
      "text/plain": [
       "                     week_X-2  week_X-3  week_X-4      MA_X-4  dayOfWeek  \\\n",
       "datetime                                                                   \n",
       "2015-01-31 01:00:00  962.2865  906.9580  970.3450  938.004850          1   \n",
       "2015-01-31 02:00:00  933.3221  863.5135  912.1755  900.284075          1   \n",
       "\n",
       "                     weekend  holiday  Holiday_ID  hourOfDay    T2M_toc  \\\n",
       "datetime                                                                  \n",
       "2015-01-31 01:00:00        1        0           0          1  25.308496   \n",
       "2015-01-31 02:00:00        1        0           0          2  25.141443   \n",
       "\n",
       "                       DEMAND  \n",
       "datetime                       \n",
       "2015-01-31 01:00:00  954.2018  \n",
       "2015-01-31 02:00:00  913.8660  "
      ]
     },
     "execution_count": 9,
     "metadata": {},
     "output_type": "execute_result"
    }
   ],
   "source": [
    "df.head(2)"
   ]
  },
  {
   "cell_type": "code",
   "execution_count": 10,
   "id": "0e6e38f1",
   "metadata": {},
   "outputs": [],
   "source": [
    "df.drop(['Holiday_ID'], axis = 1, inplace = True)"
   ]
  },
  {
   "cell_type": "code",
   "execution_count": 11,
   "id": "e2009aa3",
   "metadata": {},
   "outputs": [
    {
     "data": {
      "text/html": [
       "<div>\n",
       "<style scoped>\n",
       "    .dataframe tbody tr th:only-of-type {\n",
       "        vertical-align: middle;\n",
       "    }\n",
       "\n",
       "    .dataframe tbody tr th {\n",
       "        vertical-align: top;\n",
       "    }\n",
       "\n",
       "    .dataframe thead th {\n",
       "        text-align: right;\n",
       "    }\n",
       "</style>\n",
       "<table border=\"1\" class=\"dataframe\">\n",
       "  <thead>\n",
       "    <tr style=\"text-align: right;\">\n",
       "      <th></th>\n",
       "      <th>week_X-2</th>\n",
       "      <th>week_X-3</th>\n",
       "      <th>week_X-4</th>\n",
       "      <th>MA_X-4</th>\n",
       "      <th>dayOfWeek</th>\n",
       "      <th>weekend</th>\n",
       "      <th>holiday</th>\n",
       "      <th>hourOfDay</th>\n",
       "      <th>T2M_toc</th>\n",
       "      <th>DEMAND</th>\n",
       "    </tr>\n",
       "    <tr>\n",
       "      <th>datetime</th>\n",
       "      <th></th>\n",
       "      <th></th>\n",
       "      <th></th>\n",
       "      <th></th>\n",
       "      <th></th>\n",
       "      <th></th>\n",
       "      <th></th>\n",
       "      <th></th>\n",
       "      <th></th>\n",
       "      <th></th>\n",
       "    </tr>\n",
       "  </thead>\n",
       "  <tbody>\n",
       "    <tr>\n",
       "      <th>2015-01-31 01:00:00</th>\n",
       "      <td>962.2865</td>\n",
       "      <td>906.9580</td>\n",
       "      <td>970.3450</td>\n",
       "      <td>938.004850</td>\n",
       "      <td>1</td>\n",
       "      <td>1</td>\n",
       "      <td>0</td>\n",
       "      <td>1</td>\n",
       "      <td>25.308496</td>\n",
       "      <td>954.2018</td>\n",
       "    </tr>\n",
       "    <tr>\n",
       "      <th>2015-01-31 02:00:00</th>\n",
       "      <td>933.3221</td>\n",
       "      <td>863.5135</td>\n",
       "      <td>912.1755</td>\n",
       "      <td>900.284075</td>\n",
       "      <td>1</td>\n",
       "      <td>1</td>\n",
       "      <td>0</td>\n",
       "      <td>2</td>\n",
       "      <td>25.141443</td>\n",
       "      <td>913.8660</td>\n",
       "    </tr>\n",
       "  </tbody>\n",
       "</table>\n",
       "</div>"
      ],
      "text/plain": [
       "                     week_X-2  week_X-3  week_X-4      MA_X-4  dayOfWeek  \\\n",
       "datetime                                                                   \n",
       "2015-01-31 01:00:00  962.2865  906.9580  970.3450  938.004850          1   \n",
       "2015-01-31 02:00:00  933.3221  863.5135  912.1755  900.284075          1   \n",
       "\n",
       "                     weekend  holiday  hourOfDay    T2M_toc    DEMAND  \n",
       "datetime                                                               \n",
       "2015-01-31 01:00:00        1        0          1  25.308496  954.2018  \n",
       "2015-01-31 02:00:00        1        0          2  25.141443  913.8660  "
      ]
     },
     "execution_count": 11,
     "metadata": {},
     "output_type": "execute_result"
    }
   ],
   "source": [
    "df.head(2)"
   ]
  },
  {
   "cell_type": "code",
   "execution_count": 12,
   "id": "fd9a542f",
   "metadata": {},
   "outputs": [],
   "source": [
    "df.to_csv('dataset_for_normalization_OneHOtencoding for week 24.csv')"
   ]
  }
 ],
 "metadata": {
  "kernelspec": {
   "display_name": "Python [conda env:.conda-jupyter-2022-07-22] *",
   "language": "python",
   "name": "conda-env-.conda-jupyter-2022-07-22-py"
  },
  "language_info": {
   "codemirror_mode": {
    "name": "ipython",
    "version": 3
   },
   "file_extension": ".py",
   "mimetype": "text/x-python",
   "name": "python",
   "nbconvert_exporter": "python",
   "pygments_lexer": "ipython3",
   "version": "3.10.5"
  }
 },
 "nbformat": 4,
 "nbformat_minor": 5
}
