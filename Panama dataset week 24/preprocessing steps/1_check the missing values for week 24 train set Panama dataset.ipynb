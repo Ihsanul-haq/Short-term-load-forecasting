{
 "cells": [
  {
   "cell_type": "code",
   "execution_count": 1,
   "id": "1cbcd57c",
   "metadata": {},
   "outputs": [],
   "source": [
    "import pandas as pd\n",
    "import numpy as np"
   ]
  },
  {
   "cell_type": "code",
   "execution_count": 3,
   "id": "8d23a3a0",
   "metadata": {},
   "outputs": [
    {
     "data": {
      "text/html": [
       "<div>\n",
       "<style scoped>\n",
       "    .dataframe tbody tr th:only-of-type {\n",
       "        vertical-align: middle;\n",
       "    }\n",
       "\n",
       "    .dataframe tbody tr th {\n",
       "        vertical-align: top;\n",
       "    }\n",
       "\n",
       "    .dataframe thead th {\n",
       "        text-align: right;\n",
       "    }\n",
       "</style>\n",
       "<table border=\"1\" class=\"dataframe\">\n",
       "  <thead>\n",
       "    <tr style=\"text-align: right;\">\n",
       "      <th></th>\n",
       "      <th>week_X-2</th>\n",
       "      <th>week_X-3</th>\n",
       "      <th>week_X-4</th>\n",
       "      <th>MA_X-4</th>\n",
       "      <th>dayOfWeek</th>\n",
       "      <th>weekend</th>\n",
       "      <th>holiday</th>\n",
       "      <th>Holiday_ID</th>\n",
       "      <th>hourOfDay</th>\n",
       "      <th>T2M_toc</th>\n",
       "      <th>DEMAND</th>\n",
       "    </tr>\n",
       "    <tr>\n",
       "      <th>datetime</th>\n",
       "      <th></th>\n",
       "      <th></th>\n",
       "      <th></th>\n",
       "      <th></th>\n",
       "      <th></th>\n",
       "      <th></th>\n",
       "      <th></th>\n",
       "      <th></th>\n",
       "      <th></th>\n",
       "      <th></th>\n",
       "      <th></th>\n",
       "    </tr>\n",
       "  </thead>\n",
       "  <tbody>\n",
       "    <tr>\n",
       "      <th>2015-01-31 01:00:00</th>\n",
       "      <td>962.2865</td>\n",
       "      <td>906.9580</td>\n",
       "      <td>970.3450</td>\n",
       "      <td>938.004850</td>\n",
       "      <td>1</td>\n",
       "      <td>1</td>\n",
       "      <td>0</td>\n",
       "      <td>0</td>\n",
       "      <td>1</td>\n",
       "      <td>25.308496</td>\n",
       "      <td>954.2018</td>\n",
       "    </tr>\n",
       "    <tr>\n",
       "      <th>2015-01-31 02:00:00</th>\n",
       "      <td>933.3221</td>\n",
       "      <td>863.5135</td>\n",
       "      <td>912.1755</td>\n",
       "      <td>900.284075</td>\n",
       "      <td>1</td>\n",
       "      <td>1</td>\n",
       "      <td>0</td>\n",
       "      <td>0</td>\n",
       "      <td>2</td>\n",
       "      <td>25.141443</td>\n",
       "      <td>913.8660</td>\n",
       "    </tr>\n",
       "  </tbody>\n",
       "</table>\n",
       "</div>"
      ],
      "text/plain": [
       "                     week_X-2  week_X-3  week_X-4      MA_X-4  dayOfWeek  \\\n",
       "datetime                                                                   \n",
       "2015-01-31 01:00:00  962.2865  906.9580  970.3450  938.004850          1   \n",
       "2015-01-31 02:00:00  933.3221  863.5135  912.1755  900.284075          1   \n",
       "\n",
       "                     weekend  holiday  Holiday_ID  hourOfDay    T2M_toc  \\\n",
       "datetime                                                                  \n",
       "2015-01-31 01:00:00        1        0           0          1  25.308496   \n",
       "2015-01-31 02:00:00        1        0           0          2  25.141443   \n",
       "\n",
       "                       DEMAND  \n",
       "datetime                       \n",
       "2015-01-31 01:00:00  954.2018  \n",
       "2015-01-31 02:00:00  913.8660  "
      ]
     },
     "execution_count": 3,
     "metadata": {},
     "output_type": "execute_result"
    }
   ],
   "source": [
    "df = pd.read_csv('Train week 24.csv',index_col = ['datetime'], parse_dates = True)\n",
    "df.head(2)"
   ]
  },
  {
   "cell_type": "code",
   "execution_count": 4,
   "id": "fd92e509",
   "metadata": {},
   "outputs": [
    {
     "name": "stdout",
     "output_type": "stream",
     "text": [
      "Data points=  46968\n"
     ]
    }
   ],
   "source": [
    "print('Data points= ', len(df))"
   ]
  },
  {
   "cell_type": "code",
   "execution_count": 5,
   "id": "7a2eda0f",
   "metadata": {},
   "outputs": [
    {
     "name": "stdout",
     "output_type": "stream",
     "text": [
      "<class 'pandas.core.frame.DataFrame'>\n",
      "DatetimeIndex: 46968 entries, 2015-01-31 01:00:00 to 2020-06-10 00:00:00\n",
      "Data columns (total 11 columns):\n",
      " #   Column      Non-Null Count  Dtype  \n",
      "---  ------      --------------  -----  \n",
      " 0   week_X-2    46968 non-null  float64\n",
      " 1   week_X-3    46968 non-null  float64\n",
      " 2   week_X-4    46968 non-null  float64\n",
      " 3   MA_X-4      46968 non-null  float64\n",
      " 4   dayOfWeek   46968 non-null  int64  \n",
      " 5   weekend     46968 non-null  int64  \n",
      " 6   holiday     46968 non-null  int64  \n",
      " 7   Holiday_ID  46968 non-null  int64  \n",
      " 8   hourOfDay   46968 non-null  int64  \n",
      " 9   T2M_toc     46968 non-null  float64\n",
      " 10  DEMAND      46968 non-null  float64\n",
      "dtypes: float64(6), int64(5)\n",
      "memory usage: 4.3 MB\n"
     ]
    }
   ],
   "source": [
    "df.info()"
   ]
  },
  {
   "cell_type": "code",
   "execution_count": 6,
   "id": "be0a8d6f",
   "metadata": {},
   "outputs": [
    {
     "data": {
      "text/html": [
       "<div>\n",
       "<style scoped>\n",
       "    .dataframe tbody tr th:only-of-type {\n",
       "        vertical-align: middle;\n",
       "    }\n",
       "\n",
       "    .dataframe tbody tr th {\n",
       "        vertical-align: top;\n",
       "    }\n",
       "\n",
       "    .dataframe thead th {\n",
       "        text-align: right;\n",
       "    }\n",
       "</style>\n",
       "<table border=\"1\" class=\"dataframe\">\n",
       "  <thead>\n",
       "    <tr style=\"text-align: right;\">\n",
       "      <th></th>\n",
       "      <th>week_X-2</th>\n",
       "      <th>week_X-3</th>\n",
       "      <th>week_X-4</th>\n",
       "      <th>MA_X-4</th>\n",
       "      <th>dayOfWeek</th>\n",
       "      <th>weekend</th>\n",
       "      <th>holiday</th>\n",
       "      <th>Holiday_ID</th>\n",
       "      <th>hourOfDay</th>\n",
       "      <th>T2M_toc</th>\n",
       "      <th>DEMAND</th>\n",
       "    </tr>\n",
       "    <tr>\n",
       "      <th>datetime</th>\n",
       "      <th></th>\n",
       "      <th></th>\n",
       "      <th></th>\n",
       "      <th></th>\n",
       "      <th></th>\n",
       "      <th></th>\n",
       "      <th></th>\n",
       "      <th></th>\n",
       "      <th></th>\n",
       "      <th></th>\n",
       "      <th></th>\n",
       "    </tr>\n",
       "  </thead>\n",
       "  <tbody>\n",
       "    <tr>\n",
       "      <th>2015-01-31 01:00:00</th>\n",
       "      <td>962.2865</td>\n",
       "      <td>906.958</td>\n",
       "      <td>970.345</td>\n",
       "      <td>938.00485</td>\n",
       "      <td>1</td>\n",
       "      <td>1</td>\n",
       "      <td>0</td>\n",
       "      <td>0</td>\n",
       "      <td>1</td>\n",
       "      <td>25.308496</td>\n",
       "      <td>954.2018</td>\n",
       "    </tr>\n",
       "  </tbody>\n",
       "</table>\n",
       "</div>"
      ],
      "text/plain": [
       "                     week_X-2  week_X-3  week_X-4     MA_X-4  dayOfWeek  \\\n",
       "datetime                                                                  \n",
       "2015-01-31 01:00:00  962.2865   906.958   970.345  938.00485          1   \n",
       "\n",
       "                     weekend  holiday  Holiday_ID  hourOfDay    T2M_toc  \\\n",
       "datetime                                                                  \n",
       "2015-01-31 01:00:00        1        0           0          1  25.308496   \n",
       "\n",
       "                       DEMAND  \n",
       "datetime                       \n",
       "2015-01-31 01:00:00  954.2018  "
      ]
     },
     "execution_count": 6,
     "metadata": {},
     "output_type": "execute_result"
    }
   ],
   "source": [
    "df = df.sort_index(ascending = True)\n",
    "df.head(1)"
   ]
  },
  {
   "cell_type": "code",
   "execution_count": 7,
   "id": "fb742cb5",
   "metadata": {},
   "outputs": [
    {
     "data": {
      "text/html": [
       "<div>\n",
       "<style scoped>\n",
       "    .dataframe tbody tr th:only-of-type {\n",
       "        vertical-align: middle;\n",
       "    }\n",
       "\n",
       "    .dataframe tbody tr th {\n",
       "        vertical-align: top;\n",
       "    }\n",
       "\n",
       "    .dataframe thead th {\n",
       "        text-align: right;\n",
       "    }\n",
       "</style>\n",
       "<table border=\"1\" class=\"dataframe\">\n",
       "  <thead>\n",
       "    <tr style=\"text-align: right;\">\n",
       "      <th></th>\n",
       "      <th>week_X-2</th>\n",
       "      <th>week_X-3</th>\n",
       "      <th>week_X-4</th>\n",
       "      <th>MA_X-4</th>\n",
       "      <th>dayOfWeek</th>\n",
       "      <th>weekend</th>\n",
       "      <th>holiday</th>\n",
       "      <th>Holiday_ID</th>\n",
       "      <th>hourOfDay</th>\n",
       "      <th>T2M_toc</th>\n",
       "      <th>DEMAND</th>\n",
       "    </tr>\n",
       "    <tr>\n",
       "      <th>datetime</th>\n",
       "      <th></th>\n",
       "      <th></th>\n",
       "      <th></th>\n",
       "      <th></th>\n",
       "      <th></th>\n",
       "      <th></th>\n",
       "      <th></th>\n",
       "      <th></th>\n",
       "      <th></th>\n",
       "      <th></th>\n",
       "      <th></th>\n",
       "    </tr>\n",
       "  </thead>\n",
       "  <tbody>\n",
       "    <tr>\n",
       "      <th>2020-06-09 23:00:00</th>\n",
       "      <td>1141.4458</td>\n",
       "      <td>997.7907</td>\n",
       "      <td>1174.9543</td>\n",
       "      <td>1086.63155</td>\n",
       "      <td>4</td>\n",
       "      <td>0</td>\n",
       "      <td>0</td>\n",
       "      <td>0</td>\n",
       "      <td>23</td>\n",
       "      <td>27.118677</td>\n",
       "      <td>1053.3043</td>\n",
       "    </tr>\n",
       "    <tr>\n",
       "      <th>2020-06-10 00:00:00</th>\n",
       "      <td>1102.6683</td>\n",
       "      <td>980.3357</td>\n",
       "      <td>1093.6111</td>\n",
       "      <td>1058.87170</td>\n",
       "      <td>5</td>\n",
       "      <td>0</td>\n",
       "      <td>0</td>\n",
       "      <td>0</td>\n",
       "      <td>0</td>\n",
       "      <td>27.016534</td>\n",
       "      <td>1033.8977</td>\n",
       "    </tr>\n",
       "  </tbody>\n",
       "</table>\n",
       "</div>"
      ],
      "text/plain": [
       "                      week_X-2  week_X-3   week_X-4      MA_X-4  dayOfWeek  \\\n",
       "datetime                                                                     \n",
       "2020-06-09 23:00:00  1141.4458  997.7907  1174.9543  1086.63155          4   \n",
       "2020-06-10 00:00:00  1102.6683  980.3357  1093.6111  1058.87170          5   \n",
       "\n",
       "                     weekend  holiday  Holiday_ID  hourOfDay    T2M_toc  \\\n",
       "datetime                                                                  \n",
       "2020-06-09 23:00:00        0        0           0         23  27.118677   \n",
       "2020-06-10 00:00:00        0        0           0          0  27.016534   \n",
       "\n",
       "                        DEMAND  \n",
       "datetime                        \n",
       "2020-06-09 23:00:00  1053.3043  \n",
       "2020-06-10 00:00:00  1033.8977  "
      ]
     },
     "execution_count": 7,
     "metadata": {},
     "output_type": "execute_result"
    }
   ],
   "source": [
    "df.tail(2)"
   ]
  },
  {
   "cell_type": "code",
   "execution_count": 11,
   "id": "080d6e0a",
   "metadata": {},
   "outputs": [
    {
     "name": "stdout",
     "output_type": "stream",
     "text": [
      "\n",
      "Number of Missing Timestamp=  1 \n",
      "\n",
      "[Timestamp('2015-01-31 00:00:00')]\n"
     ]
    }
   ],
   "source": [
    "missing_Timestamp = pd.date_range('2015-1-31','2020-6-10',freq = 'H').difference(df.index)\n",
    "print('\\nNumber of Missing Timestamp= ',len(missing_Timestamp),'\\n')\n",
    "print(missing_Timestamp.to_list())\n",
    "#da chi kom yi missing okhowo nu da mong missing data na consider kao zaka chi da zamong da start data na makhki dy"
   ]
  },
  {
   "cell_type": "code",
   "execution_count": 14,
   "id": "3f51fbe9",
   "metadata": {},
   "outputs": [
    {
     "data": {
      "text/plain": [
       "0"
      ]
     },
     "execution_count": 14,
     "metadata": {},
     "output_type": "execute_result"
    }
   ],
   "source": [
    "df.isnull().sum().sum()"
   ]
  },
  {
   "cell_type": "markdown",
   "id": "16c1029a",
   "metadata": {},
   "source": [
    "# everything is clear no missing value"
   ]
  }
 ],
 "metadata": {
  "kernelspec": {
   "display_name": "Python [conda env:.conda-jupyter-2022-07-22] *",
   "language": "python",
   "name": "conda-env-.conda-jupyter-2022-07-22-py"
  },
  "language_info": {
   "codemirror_mode": {
    "name": "ipython",
    "version": 3
   },
   "file_extension": ".py",
   "mimetype": "text/x-python",
   "name": "python",
   "nbconvert_exporter": "python",
   "pygments_lexer": "ipython3",
   "version": "3.10.5"
  }
 },
 "nbformat": 4,
 "nbformat_minor": 5
}
