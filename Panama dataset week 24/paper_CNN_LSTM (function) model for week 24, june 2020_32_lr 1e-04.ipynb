{
 "cells": [
  {
   "cell_type": "code",
   "execution_count": 1,
   "id": "4180de53",
   "metadata": {},
   "outputs": [],
   "source": [
    "import os\n",
    "os.chdir('libraries for functions')"
   ]
  },
  {
   "cell_type": "code",
   "execution_count": 2,
   "id": "7e94e3bb",
   "metadata": {},
   "outputs": [],
   "source": [
    "import os\n",
    "os.chdir('pyimagesearch')"
   ]
  },
  {
   "cell_type": "code",
   "execution_count": 17,
   "id": "d70e3d98",
   "metadata": {},
   "outputs": [],
   "source": [
    "import pandas as pd\n",
    "import numpy as np\n",
    "import os\n",
    "import tensorflow as tf\n",
    "import matplotlib.pyplot as plt\n",
    "import matplotlib as mpl\n",
    "from tensorflow.keras import datasets, layers, models\n",
    "import datetime\n",
    "from keras.layers import Dense, LSTM, GRU, Activation, Conv1D\n",
    "from keras.preprocessing.sequence import TimeseriesGenerator\n",
    "from sklearn.preprocessing import MinMaxScaler, StandardScaler\n",
    "from sklearn.model_selection import train_test_split\n",
    "import calendar\n",
    "import datetime as dt\n",
    "from datetime import timedelta, date\n",
    "from pprint import pprint\n",
    "\n",
    "from sklearn.pipeline import Pipeline\n",
    "from sklearn.preprocessing import MinMaxScaler\n",
    "from sklearn.neighbors import KNeighborsRegressor\n",
    "from sklearn.model_selection import cross_val_score\n",
    "from sklearn.metrics import mean_squared_error\n",
    "import joblib\n",
    "from tensorflow.keras.callbacks import ModelCheckpoint\n",
    "from tensorflow.keras.optimizers import Adam\n",
    "from tensorflow.keras.optimizers import SGD\n",
    "from tensorflow.keras.models import load_model\n",
    "from tensorflow.keras.layers import LSTM\n",
    "from tensorflow.keras.layers import BatchNormalization\n",
    "from tensorflow.keras.layers import Conv1D,TimeDistributed\n",
    "from tensorflow.keras.layers import Dense, Dropout, Activation, Flatten,MaxPooling1D,Concatenate,AveragePooling1D, GlobalMaxPooling1D\n",
    "from tensorflow.keras.models import Sequential,Model\n",
    "import pandas as pd\n",
    "import numpy as np\n",
    "import tensorflow.keras.backend as K\n",
    "import tensorflow\n",
    "from tensorflow.keras.layers import Input, Reshape, Dense, Lambda\n",
    "from tensorflow.keras.layers import Layer, Flatten, LeakyReLU, concatenate\n",
    "from tensorflow.keras.regularizers import l2\n",
    "import pickle\n",
    "\n",
    "from scipy.stats import randint as sp_randint\n",
    "from time import time\n",
    "import pickle\n",
    "\n",
    "import warnings\n",
    "warnings.filterwarnings('ignore')"
   ]
  },
  {
   "cell_type": "code",
   "execution_count": 18,
   "id": "c06534e9",
   "metadata": {},
   "outputs": [],
   "source": [
    "from timeseires.CNN1D.GoogLeNet1D import PC\n",
    "from timeseires.utils.to_split import to_split\n",
    "from timeseires.callbacks.EpochCheckpoint import EpochCheckpoint\n",
    "from tensorflow.keras.callbacks import ModelCheckpoint\n",
    "from timeseires.callbacks.TrainingMonitor import TrainingMonitor\n",
    "from tensorflow.keras.optimizers import Adam\n",
    "from tensorflow.keras.optimizers import SGD\n",
    "from tensorflow.keras.models import load_model\n",
    "from tensorflow.keras.layers import LSTM\n",
    "from tensorflow.keras.layers import BatchNormalization\n",
    "from tensorflow.keras.layers import Conv1D,TimeDistributed\n",
    "from tensorflow.keras.layers import Dense, Dropout, Activation, Flatten,MaxPooling1D,Concatenate,AveragePooling1D, GlobalMaxPooling1D\n",
    "from tensorflow.keras.models import Sequential,Model\n",
    "import pandas as pd\n",
    "import time\n",
    "import numpy as np\n",
    "import tensorflow.keras.backend as K\n",
    "import tensorflow\n",
    "from tensorflow.keras.layers import Input, Reshape, Dense, Lambda\n",
    "from tensorflow.keras.layers import Layer, Flatten, LeakyReLU, concatenate\n",
    "from tensorflow.keras.regularizers import l2\n",
    "import pickle"
   ]
  },
  {
   "cell_type": "code",
   "execution_count": 19,
   "id": "be8f535f",
   "metadata": {},
   "outputs": [],
   "source": [
    "time_steps=72\n",
    "num_features=14"
   ]
  },
  {
   "cell_type": "code",
   "execution_count": 20,
   "id": "b0ce96b5",
   "metadata": {},
   "outputs": [],
   "source": [
    "def lstm():\n",
    "    inputs = Input(shape=(time_steps, num_features))\n",
    "    x = Conv1D(128, kernel_size=3,  activation='relu')(inputs)\n",
    "    x = LSTM(48, return_sequences=True)(x)\n",
    "    x = LSTM(32, return_sequences=True)(x)\n",
    "    x = LSTM(16)(x)\n",
    "    x = Dense(10)(x)\n",
    "    x = Activation(\"relu\")(x)\n",
    "    x = Dense(1)(x)\n",
    "    model = Model(inputs, x)\n",
    "    return model"
   ]
  },
  {
   "cell_type": "code",
   "execution_count": 21,
   "id": "c4041c1b",
   "metadata": {},
   "outputs": [
    {
     "name": "stdout",
     "output_type": "stream",
     "text": [
      "Model: \"model_2\"\n",
      "_________________________________________________________________\n",
      " Layer (type)                Output Shape              Param #   \n",
      "=================================================================\n",
      " input_3 (InputLayer)        [(None, 72, 14)]          0         \n",
      "                                                                 \n",
      " conv1d_2 (Conv1D)           (None, 70, 128)           5504      \n",
      "                                                                 \n",
      " lstm_6 (LSTM)               (None, 70, 48)            33984     \n",
      "                                                                 \n",
      " lstm_7 (LSTM)               (None, 70, 32)            10368     \n",
      "                                                                 \n",
      " lstm_8 (LSTM)               (None, 16)                3136      \n",
      "                                                                 \n",
      " dense_4 (Dense)             (None, 10)                170       \n",
      "                                                                 \n",
      " activation_2 (Activation)   (None, 10)                0         \n",
      "                                                                 \n",
      " dense_5 (Dense)             (None, 1)                 11        \n",
      "                                                                 \n",
      "=================================================================\n",
      "Total params: 53,173\n",
      "Trainable params: 53,173\n",
      "Non-trainable params: 0\n",
      "_________________________________________________________________\n"
     ]
    }
   ],
   "source": [
    "model = lstm()\n",
    "model.summary()"
   ]
  },
  {
   "cell_type": "code",
   "execution_count": 22,
   "id": "7381e51f",
   "metadata": {},
   "outputs": [],
   "source": [
    "checkpoints = 'Ihsan_Final checkpoints for week 24_CNN-LSTM/E1-cp-{epoch:04d}-loss{val_loss:.2f}.h5'\n",
    "OUTPUT_PATH = 'Ihsan_Final checkpoints for week 24_CNN-LSTM'\n",
    "FIG_PATH = os.path.sep.join([OUTPUT_PATH,\"history.png\"])\n",
    "JSON_PATH = os.path.sep.join([OUTPUT_PATH,\"history.json\"])"
   ]
  },
  {
   "cell_type": "code",
   "execution_count": 23,
   "id": "97d139ce",
   "metadata": {},
   "outputs": [],
   "source": [
    "model = None\n",
    "start_epoch = 0\n",
    "time_steps=72\n",
    "num_features=14"
   ]
  },
  {
   "cell_type": "code",
   "execution_count": 24,
   "id": "bd5c3887",
   "metadata": {},
   "outputs": [],
   "source": [
    "# construct the callback to save only the *best* model to disk\n",
    "# based on the validation loss\n",
    "EpochCheckpoint1 = ModelCheckpoint(checkpoints,\n",
    "                             monitor=\"val_loss\",\n",
    "                             save_best_only=True, \n",
    "                             verbose=1)\n",
    "TrainingMonitor1=TrainingMonitor(FIG_PATH, jsonPath=JSON_PATH, startAt=start_epoch)\n",
    "\n",
    "# construct the set of callbacks\n",
    "callbacks = [EpochCheckpoint1,TrainingMonitor1]"
   ]
  },
  {
   "cell_type": "code",
   "execution_count": 25,
   "id": "d1dd898c",
   "metadata": {},
   "outputs": [
    {
     "name": "stdout",
     "output_type": "stream",
     "text": [
      "[INFO] compiling model...\n"
     ]
    }
   ],
   "source": [
    "# if there is no specific model checkpoint supplied, then initialize\n",
    "# the network and compile the model\n",
    "if model is None:\n",
    "    print(\"[INFO] compiling model...\")\n",
    "    model = lstm()\n",
    "    opt = Adam(1e-4)\n",
    "    model.compile(loss= 'mae', optimizer='adam', metrics=[\"mae\", \"mape\"])\n",
    "# otherwise, load the checkpoint from disk\n",
    "else:\n",
    "    print(\"[INFO] loading {}...\".format(model))\n",
    "    model = load_model(model)\n",
    "\n",
    "    # update the learning rate\n",
    "    print(\"[INFO] old learning rate: {}\".format(K.get_value(model.optimizer.lr)))\n",
    "    K.set_value(model.optimizer.lr, 1e-4)\n",
    "    print(\"[INFO] new learning rate: {}\".format(K.get_value(model.optimizer.lr)))"
   ]
  },
  {
   "cell_type": "code",
   "execution_count": 26,
   "id": "57df2001",
   "metadata": {},
   "outputs": [],
   "source": [
    "df_tr=pd.read_csv('train_Normalized for week 24.csv')\n",
    "train_set = df_tr[:].values "
   ]
  },
  {
   "cell_type": "code",
   "execution_count": 27,
   "id": "018ff29b",
   "metadata": {},
   "outputs": [],
   "source": [
    "df_v = pd.read_csv('validation_Normalized for week 24.csv')\n",
    "validation_set = df_v[:].values\n",
    "\n",
    "df_te = pd.read_csv('test_Normalized for week 24.csv')\n",
    "test_set = df_te[:].values \n",
    "scaler = pickle.load(open(\"scaler.pkl\", 'rb'))"
   ]
  },
  {
   "cell_type": "code",
   "execution_count": 28,
   "id": "3a8ec275",
   "metadata": {},
   "outputs": [
    {
     "name": "stdout",
     "output_type": "stream",
     "text": [
      "Time Consumed 0.2772855758666992 sec\n"
     ]
    }
   ],
   "source": [
    "start = time.time()\n",
    "train_X , train_y = to_split(train_set, time_steps=time_steps, target_col=0, target_len=1)\n",
    "validation_X, validation_y = to_split(validation_set, time_steps=time_steps, target_col=0, target_len=1)\n",
    "test_X, test_y = to_split(test_set, time_steps=time_steps, target_col=0, target_len=1)\n",
    "print('Time Consumed', time.time()-start, \"sec\")"
   ]
  },
  {
   "cell_type": "code",
   "execution_count": 29,
   "id": "b739a318",
   "metadata": {},
   "outputs": [
    {
     "data": {
      "text/plain": [
       "((37502, 72, 14), (9322, 72, 14))"
      ]
     },
     "execution_count": 29,
     "metadata": {},
     "output_type": "execute_result"
    }
   ],
   "source": [
    "train_X.shape,validation_X.shape"
   ]
  },
  {
   "cell_type": "code",
   "execution_count": 36,
   "id": "3c3ccfaa",
   "metadata": {},
   "outputs": [
    {
     "name": "stdout",
     "output_type": "stream",
     "text": [
      "Epoch 1/50\n",
      "1172/1172 [==============================] - ETA: 0s - loss: 0.0114 - mae: 0.0114 - mape: 16991.3828\n",
      "Epoch 1: val_loss did not improve from 0.01466\n",
      "1172/1172 [==============================] - 116s 96ms/step - loss: 0.0114 - mae: 0.0114 - mape: 16991.3828 - val_loss: 0.0147 - val_mae: 0.0147 - val_mape: 2.7970\n",
      "Epoch 2/50\n",
      "1172/1172 [==============================] - ETA: 0s - loss: 0.0116 - mae: 0.0116 - mape: 17376.2773\n",
      "Epoch 2: val_loss did not improve from 0.01466\n",
      "1172/1172 [==============================] - 115s 98ms/step - loss: 0.0116 - mae: 0.0116 - mape: 17376.2773 - val_loss: 0.0148 - val_mae: 0.0148 - val_mape: 2.8033\n",
      "Epoch 3/50\n",
      "1172/1172 [==============================] - ETA: 0s - loss: 0.0114 - mae: 0.0114 - mape: 17146.6387\n",
      "Epoch 3: val_loss did not improve from 0.01466\n",
      "1172/1172 [==============================] - 114s 98ms/step - loss: 0.0114 - mae: 0.0114 - mape: 17146.6387 - val_loss: 0.0167 - val_mae: 0.0167 - val_mape: 3.1095\n",
      "Epoch 4/50\n",
      "1172/1172 [==============================] - ETA: 0s - loss: 0.0114 - mae: 0.0114 - mape: 17411.6641\n",
      "Epoch 4: val_loss improved from 0.01466 to 0.01435, saving model to Ihsan_Final checkpoints for week 24_CNN-LSTM/E1-cp-0004-loss0.01.h5\n",
      "1172/1172 [==============================] - 115s 98ms/step - loss: 0.0114 - mae: 0.0114 - mape: 17411.6641 - val_loss: 0.0143 - val_mae: 0.0143 - val_mape: 2.7298\n",
      "Epoch 5/50\n",
      "1172/1172 [==============================] - ETA: 0s - loss: 0.0114 - mae: 0.0114 - mape: 17326.2754\n",
      "Epoch 5: val_loss did not improve from 0.01435\n",
      "1172/1172 [==============================] - 115s 98ms/step - loss: 0.0114 - mae: 0.0114 - mape: 17326.2754 - val_loss: 0.0148 - val_mae: 0.0148 - val_mape: 2.8194\n",
      "Epoch 6/50\n",
      "1172/1172 [==============================] - ETA: 0s - loss: 0.0114 - mae: 0.0114 - mape: 17315.8730\n",
      "Epoch 6: val_loss did not improve from 0.01435\n",
      "1172/1172 [==============================] - 115s 98ms/step - loss: 0.0114 - mae: 0.0114 - mape: 17315.8730 - val_loss: 0.0149 - val_mae: 0.0149 - val_mape: 2.8274\n",
      "Epoch 7/50\n",
      "1172/1172 [==============================] - ETA: 0s - loss: 0.0113 - mae: 0.0113 - mape: 17309.3359\n",
      "Epoch 7: val_loss did not improve from 0.01435\n",
      "1172/1172 [==============================] - 115s 98ms/step - loss: 0.0113 - mae: 0.0113 - mape: 17309.3359 - val_loss: 0.0150 - val_mae: 0.0150 - val_mape: 2.8543\n",
      "Epoch 8/50\n",
      "1172/1172 [==============================] - ETA: 0s - loss: 0.0112 - mae: 0.0112 - mape: 17303.3613\n",
      "Epoch 8: val_loss did not improve from 0.01435\n",
      "1172/1172 [==============================] - 115s 98ms/step - loss: 0.0112 - mae: 0.0112 - mape: 17303.3613 - val_loss: 0.0151 - val_mae: 0.0151 - val_mape: 2.8760\n",
      "Epoch 9/50\n",
      "1172/1172 [==============================] - ETA: 0s - loss: 0.0112 - mae: 0.0112 - mape: 17365.7168\n",
      "Epoch 9: val_loss did not improve from 0.01435\n",
      "1172/1172 [==============================] - 114s 98ms/step - loss: 0.0112 - mae: 0.0112 - mape: 17365.7168 - val_loss: 0.0159 - val_mae: 0.0159 - val_mape: 2.9964\n",
      "Epoch 10/50\n",
      "1172/1172 [==============================] - ETA: 0s - loss: 0.0113 - mae: 0.0113 - mape: 17389.5215\n",
      "Epoch 10: val_loss did not improve from 0.01435\n",
      "1172/1172 [==============================] - 114s 97ms/step - loss: 0.0113 - mae: 0.0113 - mape: 17389.5215 - val_loss: 0.0150 - val_mae: 0.0150 - val_mape: 2.9054\n",
      "Epoch 11/50\n",
      "1172/1172 [==============================] - ETA: 0s - loss: 0.0111 - mae: 0.0111 - mape: 17290.0254\n",
      "Epoch 11: val_loss did not improve from 0.01435\n",
      "1172/1172 [==============================] - 115s 98ms/step - loss: 0.0111 - mae: 0.0111 - mape: 17290.0254 - val_loss: 0.0147 - val_mae: 0.0147 - val_mape: 2.8235\n",
      "Epoch 12/50\n",
      "1172/1172 [==============================] - ETA: 0s - loss: 0.0111 - mae: 0.0111 - mape: 17185.5449\n",
      "Epoch 12: val_loss did not improve from 0.01435\n",
      "1172/1172 [==============================] - 115s 98ms/step - loss: 0.0111 - mae: 0.0111 - mape: 17185.5449 - val_loss: 0.0152 - val_mae: 0.0152 - val_mape: 2.9081\n",
      "Epoch 13/50\n",
      "1172/1172 [==============================] - ETA: 0s - loss: 0.0111 - mae: 0.0111 - mape: 17233.5664\n",
      "Epoch 13: val_loss did not improve from 0.01435\n",
      "1172/1172 [==============================] - 115s 98ms/step - loss: 0.0111 - mae: 0.0111 - mape: 17233.5664 - val_loss: 0.0159 - val_mae: 0.0159 - val_mape: 2.9983\n",
      "Epoch 14/50\n",
      "1172/1172 [==============================] - ETA: 0s - loss: 0.0110 - mae: 0.0110 - mape: 17550.3887\n",
      "Epoch 14: val_loss did not improve from 0.01435\n",
      "1172/1172 [==============================] - 115s 98ms/step - loss: 0.0110 - mae: 0.0110 - mape: 17550.3887 - val_loss: 0.0148 - val_mae: 0.0148 - val_mape: 2.8295\n",
      "Epoch 15/50\n",
      "1172/1172 [==============================] - ETA: 0s - loss: 0.0110 - mae: 0.0110 - mape: 17672.5020\n",
      "Epoch 15: val_loss did not improve from 0.01435\n",
      "1172/1172 [==============================] - 115s 98ms/step - loss: 0.0110 - mae: 0.0110 - mape: 17672.5020 - val_loss: 0.0147 - val_mae: 0.0147 - val_mape: 2.8035\n",
      "Epoch 16/50\n",
      "1172/1172 [==============================] - ETA: 0s - loss: 0.0111 - mae: 0.0111 - mape: 17389.7715\n",
      "Epoch 16: val_loss did not improve from 0.01435\n",
      "1172/1172 [==============================] - 115s 98ms/step - loss: 0.0111 - mae: 0.0111 - mape: 17389.7715 - val_loss: 0.0153 - val_mae: 0.0153 - val_mape: 2.9732\n",
      "Epoch 17/50\n",
      "1172/1172 [==============================] - ETA: 0s - loss: 0.0111 - mae: 0.0111 - mape: 17762.1289\n",
      "Epoch 17: val_loss did not improve from 0.01435\n",
      "1172/1172 [==============================] - 115s 98ms/step - loss: 0.0111 - mae: 0.0111 - mape: 17762.1289 - val_loss: 0.0150 - val_mae: 0.0150 - val_mape: 2.8544\n",
      "Epoch 18/50\n",
      "1172/1172 [==============================] - ETA: 0s - loss: 0.0110 - mae: 0.0110 - mape: 17315.0156\n",
      "Epoch 18: val_loss did not improve from 0.01435\n",
      "1172/1172 [==============================] - 115s 98ms/step - loss: 0.0110 - mae: 0.0110 - mape: 17315.0156 - val_loss: 0.0181 - val_mae: 0.0181 - val_mape: 3.2685\n",
      "Epoch 19/50\n",
      "1172/1172 [==============================] - ETA: 0s - loss: 0.0110 - mae: 0.0110 - mape: 17417.1328\n",
      "Epoch 19: val_loss did not improve from 0.01435\n",
      "1172/1172 [==============================] - 115s 99ms/step - loss: 0.0110 - mae: 0.0110 - mape: 17417.1328 - val_loss: 0.0160 - val_mae: 0.0160 - val_mape: 2.9464\n",
      "Epoch 20/50\n",
      "1172/1172 [==============================] - ETA: 0s - loss: 0.0109 - mae: 0.0109 - mape: 17476.8789\n",
      "Epoch 20: val_loss did not improve from 0.01435\n",
      "1172/1172 [==============================] - 114s 97ms/step - loss: 0.0109 - mae: 0.0109 - mape: 17476.8789 - val_loss: 0.0158 - val_mae: 0.0158 - val_mape: 3.0162\n",
      "Epoch 21/50\n",
      "1172/1172 [==============================] - ETA: 0s - loss: 0.0109 - mae: 0.0109 - mape: 17064.0449\n",
      "Epoch 21: val_loss did not improve from 0.01435\n",
      "1172/1172 [==============================] - 115s 98ms/step - loss: 0.0109 - mae: 0.0109 - mape: 17064.0449 - val_loss: 0.0144 - val_mae: 0.0144 - val_mape: 2.7308\n",
      "Epoch 22/50\n",
      "1172/1172 [==============================] - ETA: 0s - loss: 0.0108 - mae: 0.0108 - mape: 17180.9863\n",
      "Epoch 22: val_loss did not improve from 0.01435\n",
      "1172/1172 [==============================] - 116s 99ms/step - loss: 0.0108 - mae: 0.0108 - mape: 17180.9863 - val_loss: 0.0149 - val_mae: 0.0149 - val_mape: 2.8713\n",
      "Epoch 23/50\n",
      "1172/1172 [==============================] - ETA: 0s - loss: 0.0109 - mae: 0.0109 - mape: 17704.2598\n",
      "Epoch 23: val_loss did not improve from 0.01435\n",
      "1172/1172 [==============================] - 111s 95ms/step - loss: 0.0109 - mae: 0.0109 - mape: 17704.2598 - val_loss: 0.0150 - val_mae: 0.0150 - val_mape: 2.8236\n",
      "Epoch 24/50\n",
      "1172/1172 [==============================] - ETA: 0s - loss: 0.0107 - mae: 0.0107 - mape: 17284.6699\n",
      "Epoch 24: val_loss did not improve from 0.01435\n",
      "1172/1172 [==============================] - 106s 91ms/step - loss: 0.0107 - mae: 0.0107 - mape: 17284.6699 - val_loss: 0.0150 - val_mae: 0.0150 - val_mape: 2.8551\n",
      "Epoch 25/50\n",
      "1172/1172 [==============================] - ETA: 0s - loss: 0.0108 - mae: 0.0108 - mape: 17627.2520\n",
      "Epoch 25: val_loss did not improve from 0.01435\n",
      "1172/1172 [==============================] - 106s 90ms/step - loss: 0.0108 - mae: 0.0108 - mape: 17627.2520 - val_loss: 0.0162 - val_mae: 0.0162 - val_mape: 3.0352\n",
      "Epoch 26/50\n",
      "1172/1172 [==============================] - ETA: 0s - loss: 0.0107 - mae: 0.0107 - mape: 17316.9863\n",
      "Epoch 26: val_loss did not improve from 0.01435\n",
      "1172/1172 [==============================] - 107s 91ms/step - loss: 0.0107 - mae: 0.0107 - mape: 17316.9863 - val_loss: 0.0151 - val_mae: 0.0151 - val_mape: 2.8746\n",
      "Epoch 27/50\n",
      "1172/1172 [==============================] - ETA: 0s - loss: 0.0107 - mae: 0.0107 - mape: 17235.0820\n",
      "Epoch 27: val_loss did not improve from 0.01435\n",
      "1172/1172 [==============================] - 104s 88ms/step - loss: 0.0107 - mae: 0.0107 - mape: 17235.0820 - val_loss: 0.0165 - val_mae: 0.0165 - val_mape: 3.0437\n",
      "Epoch 28/50\n",
      "1172/1172 [==============================] - ETA: 0s - loss: 0.0107 - mae: 0.0107 - mape: 17267.5547\n",
      "Epoch 28: val_loss did not improve from 0.01435\n",
      "1172/1172 [==============================] - 93s 79ms/step - loss: 0.0107 - mae: 0.0107 - mape: 17267.5547 - val_loss: 0.0155 - val_mae: 0.0155 - val_mape: 2.9975\n",
      "Epoch 29/50\n",
      "1172/1172 [==============================] - ETA: 0s - loss: 0.0106 - mae: 0.0106 - mape: 17511.3242\n",
      "Epoch 29: val_loss did not improve from 0.01435\n",
      "1172/1172 [==============================] - 91s 78ms/step - loss: 0.0106 - mae: 0.0106 - mape: 17511.3242 - val_loss: 0.0151 - val_mae: 0.0151 - val_mape: 2.8994\n",
      "Epoch 30/50\n",
      "1172/1172 [==============================] - ETA: 0s - loss: 0.0105 - mae: 0.0105 - mape: 17757.9062\n",
      "Epoch 30: val_loss did not improve from 0.01435\n",
      "1172/1172 [==============================] - 89s 76ms/step - loss: 0.0105 - mae: 0.0105 - mape: 17757.9062 - val_loss: 0.0151 - val_mae: 0.0151 - val_mape: 2.9131\n",
      "Epoch 31/50\n",
      "1172/1172 [==============================] - ETA: 0s - loss: 0.0106 - mae: 0.0106 - mape: 17266.8906\n",
      "Epoch 31: val_loss did not improve from 0.01435\n",
      "1172/1172 [==============================] - 87s 74ms/step - loss: 0.0106 - mae: 0.0106 - mape: 17266.8906 - val_loss: 0.0154 - val_mae: 0.0154 - val_mape: 2.9152\n",
      "Epoch 32/50\n",
      "1172/1172 [==============================] - ETA: 0s - loss: 0.0105 - mae: 0.0105 - mape: 17596.9512\n",
      "Epoch 32: val_loss did not improve from 0.01435\n",
      "1172/1172 [==============================] - 88s 75ms/step - loss: 0.0105 - mae: 0.0105 - mape: 17596.9512 - val_loss: 0.0149 - val_mae: 0.0149 - val_mape: 2.8539\n",
      "Epoch 33/50\n",
      "1172/1172 [==============================] - ETA: 0s - loss: 0.0105 - mae: 0.0105 - mape: 17176.5508\n",
      "Epoch 33: val_loss did not improve from 0.01435\n",
      "1172/1172 [==============================] - 88s 75ms/step - loss: 0.0105 - mae: 0.0105 - mape: 17176.5508 - val_loss: 0.0153 - val_mae: 0.0153 - val_mape: 2.9065\n",
      "Epoch 34/50\n",
      "1172/1172 [==============================] - ETA: 0s - loss: 0.0105 - mae: 0.0105 - mape: 17296.8262\n",
      "Epoch 34: val_loss did not improve from 0.01435\n",
      "1172/1172 [==============================] - 87s 74ms/step - loss: 0.0105 - mae: 0.0105 - mape: 17296.8262 - val_loss: 0.0157 - val_mae: 0.0157 - val_mape: 2.9894\n",
      "Epoch 35/50\n",
      "1172/1172 [==============================] - ETA: 0s - loss: 0.0106 - mae: 0.0106 - mape: 17270.7090\n",
      "Epoch 35: val_loss did not improve from 0.01435\n",
      "1172/1172 [==============================] - 88s 75ms/step - loss: 0.0106 - mae: 0.0106 - mape: 17270.7090 - val_loss: 0.0150 - val_mae: 0.0150 - val_mape: 2.8577\n",
      "Epoch 36/50\n",
      "1172/1172 [==============================] - ETA: 0s - loss: 0.0104 - mae: 0.0104 - mape: 17422.0527\n",
      "Epoch 36: val_loss did not improve from 0.01435\n",
      "1172/1172 [==============================] - 88s 75ms/step - loss: 0.0104 - mae: 0.0104 - mape: 17422.0527 - val_loss: 0.0160 - val_mae: 0.0160 - val_mape: 3.0357\n",
      "Epoch 37/50\n",
      "1172/1172 [==============================] - ETA: 0s - loss: 0.0104 - mae: 0.0104 - mape: 17119.1797\n",
      "Epoch 37: val_loss did not improve from 0.01435\n",
      "1172/1172 [==============================] - 90s 76ms/step - loss: 0.0104 - mae: 0.0104 - mape: 17119.1797 - val_loss: 0.0154 - val_mae: 0.0154 - val_mape: 2.9595\n",
      "Epoch 38/50\n",
      "1172/1172 [==============================] - ETA: 0s - loss: 0.0104 - mae: 0.0104 - mape: 17143.8984\n",
      "Epoch 38: val_loss did not improve from 0.01435\n",
      "1172/1172 [==============================] - 88s 75ms/step - loss: 0.0104 - mae: 0.0104 - mape: 17143.8984 - val_loss: 0.0145 - val_mae: 0.0145 - val_mape: 2.7810\n",
      "Epoch 39/50\n",
      "1172/1172 [==============================] - ETA: 0s - loss: 0.0105 - mae: 0.0105 - mape: 17111.0332\n",
      "Epoch 39: val_loss did not improve from 0.01435\n",
      "1172/1172 [==============================] - 88s 75ms/step - loss: 0.0105 - mae: 0.0105 - mape: 17111.0332 - val_loss: 0.0169 - val_mae: 0.0169 - val_mape: 3.1668\n",
      "Epoch 40/50\n",
      "1172/1172 [==============================] - ETA: 0s - loss: 0.0104 - mae: 0.0104 - mape: 17197.9551\n",
      "Epoch 40: val_loss did not improve from 0.01435\n",
      "1172/1172 [==============================] - 88s 75ms/step - loss: 0.0104 - mae: 0.0104 - mape: 17197.9551 - val_loss: 0.0145 - val_mae: 0.0145 - val_mape: 2.7884\n",
      "Epoch 41/50\n",
      "1172/1172 [==============================] - ETA: 0s - loss: 0.0102 - mae: 0.0102 - mape: 17430.8594\n",
      "Epoch 41: val_loss did not improve from 0.01435\n",
      "1172/1172 [==============================] - 88s 75ms/step - loss: 0.0102 - mae: 0.0102 - mape: 17430.8594 - val_loss: 0.0149 - val_mae: 0.0149 - val_mape: 2.8765\n",
      "Epoch 42/50\n",
      "1172/1172 [==============================] - ETA: 0s - loss: 0.0103 - mae: 0.0103 - mape: 17476.5059\n",
      "Epoch 42: val_loss did not improve from 0.01435\n",
      "1172/1172 [==============================] - 87s 74ms/step - loss: 0.0103 - mae: 0.0103 - mape: 17476.5059 - val_loss: 0.0151 - val_mae: 0.0151 - val_mape: 2.8938\n",
      "Epoch 43/50\n",
      "1172/1172 [==============================] - ETA: 0s - loss: 0.0103 - mae: 0.0103 - mape: 17453.6816\n",
      "Epoch 43: val_loss did not improve from 0.01435\n",
      "1172/1172 [==============================] - 87s 74ms/step - loss: 0.0103 - mae: 0.0103 - mape: 17453.6816 - val_loss: 0.0176 - val_mae: 0.0176 - val_mape: 3.2901\n",
      "Epoch 44/50\n",
      "1172/1172 [==============================] - ETA: 0s - loss: 0.0102 - mae: 0.0102 - mape: 17089.8574\n",
      "Epoch 44: val_loss did not improve from 0.01435\n",
      "1172/1172 [==============================] - 88s 75ms/step - loss: 0.0102 - mae: 0.0102 - mape: 17089.8574 - val_loss: 0.0158 - val_mae: 0.0158 - val_mape: 3.0085\n",
      "Epoch 45/50\n",
      "1172/1172 [==============================] - ETA: 0s - loss: 0.0103 - mae: 0.0103 - mape: 17123.3320\n",
      "Epoch 45: val_loss did not improve from 0.01435\n",
      "1172/1172 [==============================] - 87s 75ms/step - loss: 0.0103 - mae: 0.0103 - mape: 17123.3320 - val_loss: 0.0150 - val_mae: 0.0150 - val_mape: 2.8581\n",
      "Epoch 46/50\n",
      "1172/1172 [==============================] - ETA: 0s - loss: 0.0103 - mae: 0.0103 - mape: 17324.6328\n",
      "Epoch 46: val_loss did not improve from 0.01435\n",
      "1172/1172 [==============================] - 88s 75ms/step - loss: 0.0103 - mae: 0.0103 - mape: 17324.6328 - val_loss: 0.0154 - val_mae: 0.0154 - val_mape: 2.9807\n",
      "Epoch 47/50\n",
      "1172/1172 [==============================] - ETA: 0s - loss: 0.0103 - mae: 0.0103 - mape: 17430.6074\n",
      "Epoch 47: val_loss did not improve from 0.01435\n",
      "1172/1172 [==============================] - 87s 75ms/step - loss: 0.0103 - mae: 0.0103 - mape: 17430.6074 - val_loss: 0.0149 - val_mae: 0.0149 - val_mape: 2.8495\n",
      "Epoch 48/50\n",
      "1172/1172 [==============================] - ETA: 0s - loss: 0.0101 - mae: 0.0101 - mape: 17536.1680\n",
      "Epoch 48: val_loss improved from 0.01435 to 0.01407, saving model to Ihsan_Final checkpoints for week 24_CNN-LSTM/E1-cp-0048-loss0.01.h5\n",
      "1172/1172 [==============================] - 88s 75ms/step - loss: 0.0101 - mae: 0.0101 - mape: 17536.1680 - val_loss: 0.0141 - val_mae: 0.0141 - val_mape: 2.6899\n",
      "Epoch 49/50\n",
      "1172/1172 [==============================] - ETA: 0s - loss: 0.0102 - mae: 0.0102 - mape: 16947.2559\n",
      "Epoch 49: val_loss did not improve from 0.01407\n",
      "1172/1172 [==============================] - 88s 75ms/step - loss: 0.0102 - mae: 0.0102 - mape: 16947.2559 - val_loss: 0.0145 - val_mae: 0.0145 - val_mape: 2.7845\n",
      "Epoch 50/50\n",
      "1172/1172 [==============================] - ETA: 0s - loss: 0.0101 - mae: 0.0101 - mape: 17411.6309\n",
      "Epoch 50: val_loss did not improve from 0.01407\n",
      "1172/1172 [==============================] - 84s 72ms/step - loss: 0.0101 - mae: 0.0101 - mape: 17411.6309 - val_loss: 0.0144 - val_mae: 0.0144 - val_mape: 2.7341\n"
     ]
    }
   ],
   "source": [
    "epochs = 50\n",
    "verbose = 1 #0\n",
    "batch_size = 32\n",
    "History = model.fit(train_X,\n",
    "                        train_y,\n",
    "                        batch_size=batch_size,   \n",
    "                        epochs = epochs, \n",
    "                        validation_data = (validation_X,validation_y),\n",
    "                        callbacks=callbacks,\n",
    "                        verbose = verbose)"
   ]
  },
  {
   "cell_type": "code",
   "execution_count": 37,
   "id": "ee9eeb5d",
   "metadata": {},
   "outputs": [],
   "source": [
    "import pickle\n",
    "model = load_model('Ihsan_Final checkpoints for week 24_CNN-LSTM/E1-cp-0048-loss0.01.h5')"
   ]
  },
  {
   "cell_type": "code",
   "execution_count": 38,
   "id": "674fa96c",
   "metadata": {},
   "outputs": [
    {
     "name": "stdout",
     "output_type": "stream",
     "text": [
      "3/3 [==============================] - 1s 17ms/step\n"
     ]
    }
   ],
   "source": [
    "y_pred_scaled   = model.predict(test_X)"
   ]
  },
  {
   "cell_type": "code",
   "execution_count": 39,
   "id": "96527da3",
   "metadata": {},
   "outputs": [],
   "source": [
    "y_pred          = scaler.inverse_transform(y_pred_scaled)\n",
    "y_test_unscaled = scaler.inverse_transform(test_y.reshape(-1, 1))"
   ]
  },
  {
   "cell_type": "code",
   "execution_count": 40,
   "id": "a7cdbd35",
   "metadata": {},
   "outputs": [
    {
     "name": "stdout",
     "output_type": "stream",
     "text": [
      "Mean Absolute Error (MAE): 21.82\n",
      "Median Absolute Error (MedAE): 18.92\n",
      "Mean Squared Error (MSE): 670.85\n",
      "Root Mean Squared Error (RMSE): 25.9\n",
      "Mean Absolute Percentage Error (MAPE): 1.93 %\n",
      "Median Absolute Percentage Error (MDAPE): 1.74 %\n",
      "\n",
      "\n",
      "y_test_unscaled.shape=  (96, 1)\n",
      "y_pred.shape=  (96, 1)\n"
     ]
    }
   ],
   "source": [
    "# Mean Absolute Error (MAE)\n",
    "MAE = np.mean(abs(y_pred - y_test_unscaled))\n",
    "print('Mean Absolute Error (MAE): ' + str(np.round(MAE, 2)))\n",
    "\n",
    "# Median Absolute Error (MedAE)\n",
    "MEDAE = np.median(abs(y_pred - y_test_unscaled))\n",
    "print('Median Absolute Error (MedAE): ' + str(np.round(MEDAE, 2)))\n",
    "\n",
    "# Mean Squared Error (MSE)\n",
    "MSE = np.square(np.subtract(y_pred, y_test_unscaled)).mean()\n",
    "print('Mean Squared Error (MSE): ' + str(np.round(MSE, 2)))\n",
    "\n",
    "# Root Mean Squarred Error (RMSE) \n",
    "RMSE = np.sqrt(np.mean(np.square(y_pred - y_test_unscaled)))\n",
    "print('Root Mean Squared Error (RMSE): ' + str(np.round(RMSE, 2)))\n",
    "\n",
    "# Mean Absolute Percentage Error (MAPE)\n",
    "MAPE = np.mean((np.abs(np.subtract(y_test_unscaled, y_pred)/ y_test_unscaled))) * 100\n",
    "print('Mean Absolute Percentage Error (MAPE): ' + str(np.round(MAPE, 2)) + ' %')\n",
    "\n",
    "# Median Absolute Percentage Error (MDAPE)\n",
    "MDAPE = np.median((np.abs(np.subtract(y_test_unscaled, y_pred)/ y_test_unscaled))) * 100\n",
    "print('Median Absolute Percentage Error (MDAPE): ' + str(np.round(MDAPE, 2)) + ' %')\n",
    "\n",
    "print('\\n\\ny_test_unscaled.shape= ',y_test_unscaled.shape)\n",
    "print('y_pred.shape= ',y_pred.shape)"
   ]
  },
  {
   "cell_type": "code",
   "execution_count": 41,
   "id": "21d03475",
   "metadata": {},
   "outputs": [
    {
     "data": {
      "image/png": "[encoded data removed]",
      "text/plain": [
       "<Figure size 432x288 with 1 Axes>"
      ]
     },
     "metadata": {},
     "output_type": "display_data"
    }
   ],
   "source": [
    "plt.plot(y_test_unscaled, color=\"red\", linewidth=2)\n",
    "plt.plot(y_pred, color=\"blue\", linewidth=2)\n",
    "plt.legend(['Actual load','Predicted CNN-LSTM'])\n",
    "plt.ylabel('Load MWh')\n",
    "plt.xlabel('Hourly samples')\n",
    "plt.show()"
   ]
  },
  {
   "cell_type": "code",
   "execution_count": null,
   "id": "14430012",
   "metadata": {},
   "outputs": [],
   "source": []
  }
 ],
 "metadata": {
  "kernelspec": {
   "display_name": "Python [conda env:.conda-jupyter-2022-07-22] *",
   "language": "python",
   "name": "conda-env-.conda-jupyter-2022-07-22-py"
  },
  "language_info": {
   "codemirror_mode": {
    "name": "ipython",
    "version": 3
   },
   "file_extension": ".py",
   "mimetype": "text/x-python",
   "name": "python",
   "nbconvert_exporter": "python",
   "pygments_lexer": "ipython3",
   "version": "3.10.5"
  }
 },
 "nbformat": 4,
 "nbformat_minor": 5
}
