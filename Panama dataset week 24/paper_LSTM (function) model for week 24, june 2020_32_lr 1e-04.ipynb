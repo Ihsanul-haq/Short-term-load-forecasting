{
 "cells": [
  {
   "cell_type": "code",
   "execution_count": 1,
   "id": "7c296687",
   "metadata": {},
   "outputs": [],
   "source": [
    "import os\n",
    "os.chdir('libraries for functions')"
   ]
  },
  {
   "cell_type": "code",
   "execution_count": 2,
   "id": "7e94e3bb",
   "metadata": {},
   "outputs": [],
   "source": [
    "import os\n",
    "os.chdir('pyimagesearch')"
   ]
  },
  {
   "cell_type": "code",
   "execution_count": 3,
   "id": "d70e3d98",
   "metadata": {},
   "outputs": [],
   "source": [
    "import pandas as pd\n",
    "import numpy as np\n",
    "import os\n",
    "import tensorflow as tf\n",
    "import matplotlib.pyplot as plt\n",
    "import matplotlib as mpl\n",
    "from tensorflow.keras import datasets, layers, models\n",
    "import datetime\n",
    "from keras.layers import Dense, LSTM, GRU, Activation, Conv1D\n",
    "from keras.preprocessing.sequence import TimeseriesGenerator\n",
    "from sklearn.preprocessing import MinMaxScaler, StandardScaler\n",
    "from sklearn.model_selection import train_test_split\n",
    "import calendar\n",
    "import datetime as dt\n",
    "from datetime import timedelta, date\n",
    "from pprint import pprint\n",
    "\n",
    "from sklearn.pipeline import Pipeline\n",
    "from sklearn.preprocessing import MinMaxScaler\n",
    "from sklearn.neighbors import KNeighborsRegressor\n",
    "from sklearn.model_selection import cross_val_score\n",
    "from sklearn.metrics import mean_squared_error\n",
    "import joblib\n",
    "from tensorflow.keras.callbacks import ModelCheckpoint\n",
    "from tensorflow.keras.optimizers import Adam\n",
    "from tensorflow.keras.optimizers import SGD\n",
    "from tensorflow.keras.models import load_model\n",
    "from tensorflow.keras.layers import LSTM\n",
    "from tensorflow.keras.layers import BatchNormalization\n",
    "from tensorflow.keras.layers import Conv1D,TimeDistributed\n",
    "from tensorflow.keras.layers import Dense, Dropout, Activation, Flatten,MaxPooling1D,Concatenate,AveragePooling1D, GlobalMaxPooling1D\n",
    "from tensorflow.keras.models import Sequential,Model\n",
    "import pandas as pd\n",
    "import numpy as np\n",
    "import tensorflow.keras.backend as K\n",
    "import tensorflow\n",
    "from tensorflow.keras.layers import Input, Reshape, Dense, Lambda\n",
    "from tensorflow.keras.layers import Layer, Flatten, LeakyReLU, concatenate\n",
    "from tensorflow.keras.regularizers import l2\n",
    "import pickle\n",
    "\n",
    "from scipy.stats import randint as sp_randint\n",
    "from time import time\n",
    "import pickle\n",
    "\n",
    "import warnings\n",
    "warnings.filterwarnings('ignore')"
   ]
  },
  {
   "cell_type": "code",
   "execution_count": 17,
   "id": "c06534e9",
   "metadata": {},
   "outputs": [],
   "source": [
    "from timeseires.CNN1D.GoogLeNet1D import PC\n",
    "from timeseires.utils.to_split import to_split\n",
    "from timeseires.callbacks.EpochCheckpoint import EpochCheckpoint\n",
    "from tensorflow.keras.callbacks import ModelCheckpoint\n",
    "from timeseires.callbacks.TrainingMonitor import TrainingMonitor\n",
    "from tensorflow.keras.optimizers import Adam\n",
    "from tensorflow.keras.optimizers import SGD\n",
    "from tensorflow.keras.models import load_model\n",
    "from tensorflow.keras.layers import LSTM\n",
    "from tensorflow.keras.layers import BatchNormalization\n",
    "from tensorflow.keras.layers import Conv1D,TimeDistributed\n",
    "from tensorflow.keras.layers import Dense, Dropout, Activation, Flatten,MaxPooling1D,Concatenate,AveragePooling1D, GlobalMaxPooling1D\n",
    "from tensorflow.keras.models import Sequential,Model\n",
    "import pandas as pd\n",
    "import time\n",
    "import numpy as np\n",
    "import tensorflow.keras.backend as K\n",
    "import tensorflow\n",
    "from tensorflow.keras.layers import Input, Reshape, Dense, Lambda\n",
    "from tensorflow.keras.layers import Layer, Flatten, LeakyReLU, concatenate\n",
    "from tensorflow.keras.regularizers import l2\n",
    "import pickle"
   ]
  },
  {
   "cell_type": "code",
   "execution_count": 18,
   "id": "be8f535f",
   "metadata": {},
   "outputs": [],
   "source": [
    "time_steps=72\n",
    "num_features=14"
   ]
  },
  {
   "cell_type": "code",
   "execution_count": 19,
   "id": "b0ce96b5",
   "metadata": {},
   "outputs": [],
   "source": [
    "def lstm():\n",
    "    inputs = Input(shape=(time_steps, num_features))\n",
    "    x = LSTM(48,return_sequences=True)(inputs)\n",
    "    x = LSTM(32,return_sequences=True)(x)\n",
    "    x = LSTM(16)(x)   \n",
    "    x = Dense(10)(x)\n",
    "    x = Activation(\"relu\")(x)\n",
    "    x = Dense(1)(x)\n",
    "    model = Model(inputs, x)\n",
    "    return model"
   ]
  },
  {
   "cell_type": "code",
   "execution_count": 20,
   "id": "c4041c1b",
   "metadata": {},
   "outputs": [
    {
     "name": "stdout",
     "output_type": "stream",
     "text": [
      "Model: \"model_2\"\n",
      "_________________________________________________________________\n",
      " Layer (type)                Output Shape              Param #   \n",
      "=================================================================\n",
      " input_3 (InputLayer)        [(None, 72, 14)]          0         \n",
      "                                                                 \n",
      " lstm_6 (LSTM)               (None, 72, 48)            12096     \n",
      "                                                                 \n",
      " lstm_7 (LSTM)               (None, 72, 32)            10368     \n",
      "                                                                 \n",
      " lstm_8 (LSTM)               (None, 16)                3136      \n",
      "                                                                 \n",
      " dense_4 (Dense)             (None, 10)                170       \n",
      "                                                                 \n",
      " activation_2 (Activation)   (None, 10)                0         \n",
      "                                                                 \n",
      " dense_5 (Dense)             (None, 1)                 11        \n",
      "                                                                 \n",
      "=================================================================\n",
      "Total params: 25,781\n",
      "Trainable params: 25,781\n",
      "Non-trainable params: 0\n",
      "_________________________________________________________________\n"
     ]
    }
   ],
   "source": [
    "model = lstm()\n",
    "model.summary()"
   ]
  },
  {
   "cell_type": "code",
   "execution_count": 21,
   "id": "7381e51f",
   "metadata": {},
   "outputs": [],
   "source": [
    "checkpoints = 'Ihsan_Final checkpoints for week 24_LSTM/E1-cp-{epoch:04d}-loss{val_loss:.2f}.h5'\n",
    "OUTPUT_PATH = 'Ihsan_Final checkpoints for week 24_LSTM'\n",
    "FIG_PATH = os.path.sep.join([OUTPUT_PATH,\"history.png\"])\n",
    "JSON_PATH = os.path.sep.join([OUTPUT_PATH,\"history.json\"])"
   ]
  },
  {
   "cell_type": "code",
   "execution_count": 22,
   "id": "97d139ce",
   "metadata": {},
   "outputs": [],
   "source": [
    "model = None\n",
    "start_epoch = 0\n",
    "time_steps=72\n",
    "num_features=14"
   ]
  },
  {
   "cell_type": "code",
   "execution_count": 23,
   "id": "bd5c3887",
   "metadata": {},
   "outputs": [],
   "source": [
    "# construct the callback to save only the *best* model to disk\n",
    "# based on the validation loss\n",
    "EpochCheckpoint1 = ModelCheckpoint(checkpoints,\n",
    "                             monitor=\"val_loss\",\n",
    "                             save_best_only=True, \n",
    "                             verbose=1)\n",
    "TrainingMonitor1=TrainingMonitor(FIG_PATH, jsonPath=JSON_PATH, startAt=start_epoch)\n",
    "\n",
    "# construct the set of callbacks\n",
    "callbacks = [EpochCheckpoint1,TrainingMonitor1]"
   ]
  },
  {
   "cell_type": "code",
   "execution_count": 24,
   "id": "d1dd898c",
   "metadata": {},
   "outputs": [
    {
     "name": "stdout",
     "output_type": "stream",
     "text": [
      "[INFO] compiling model...\n"
     ]
    }
   ],
   "source": [
    "# if there is no specific model checkpoint supplied, then initialize\n",
    "# the network and compile the model\n",
    "if model is None:\n",
    "    print(\"[INFO] compiling model...\")\n",
    "    model = lstm()\n",
    "    opt = Adam(1e-4)\n",
    "    model.compile(loss= 'mae', optimizer='adam', metrics=[\"mae\", \"mape\"])\n",
    "# otherwise, load the checkpoint from disk\n",
    "else:\n",
    "    print(\"[INFO] loading {}...\".format(model))\n",
    "    model = load_model(model)\n",
    "\n",
    "    # update the learning rate\n",
    "    print(\"[INFO] old learning rate: {}\".format(K.get_value(model.optimizer.lr)))\n",
    "    K.set_value(model.optimizer.lr, 1e-4)\n",
    "    print(\"[INFO] new learning rate: {}\".format(K.get_value(model.optimizer.lr)))"
   ]
  },
  {
   "cell_type": "code",
   "execution_count": 25,
   "id": "57df2001",
   "metadata": {},
   "outputs": [],
   "source": [
    "df_tr=pd.read_csv('train_Normalized for week 24.csv')\n",
    "train_set = df_tr[:].values "
   ]
  },
  {
   "cell_type": "code",
   "execution_count": 26,
   "id": "018ff29b",
   "metadata": {},
   "outputs": [],
   "source": [
    "df_v = pd.read_csv('validation_Normalized for week 24.csv')\n",
    "validation_set = df_v[:].values\n",
    "\n",
    "df_te = pd.read_csv('test_Normalized for week 24.csv')\n",
    "test_set = df_te[:].values \n",
    "scaler = pickle.load(open(\"scaler.pkl\", 'rb'))"
   ]
  },
  {
   "cell_type": "code",
   "execution_count": 27,
   "id": "3a8ec275",
   "metadata": {},
   "outputs": [
    {
     "name": "stdout",
     "output_type": "stream",
     "text": [
      "Time Consumed 0.2875077724456787 sec\n"
     ]
    }
   ],
   "source": [
    "start = time.time()\n",
    "train_X , train_y = to_split(train_set, time_steps=time_steps, target_col=0, target_len=1)\n",
    "validation_X, validation_y = to_split(validation_set, time_steps=time_steps, target_col=0, target_len=1)\n",
    "test_X, test_y = to_split(test_set, time_steps=time_steps, target_col=0, target_len=1)\n",
    "print('Time Consumed', time.time()-start, \"sec\")"
   ]
  },
  {
   "cell_type": "code",
   "execution_count": 28,
   "id": "b739a318",
   "metadata": {},
   "outputs": [
    {
     "data": {
      "text/plain": [
       "((37502, 72, 14), (9322, 72, 14), (37502, 1), (9322, 1))"
      ]
     },
     "execution_count": 28,
     "metadata": {},
     "output_type": "execute_result"
    }
   ],
   "source": [
    "train_X.shape,validation_X.shape,train_y.shape,validation_y.shape"
   ]
  },
  {
   "cell_type": "code",
   "execution_count": 30,
   "id": "3c3ccfaa",
   "metadata": {},
   "outputs": [
    {
     "name": "stdout",
     "output_type": "stream",
     "text": [
      "Epoch 1/50\n",
      "1172/1172 [==============================] - ETA: 0s - loss: 0.0110 - mae: 0.0110 - mape: 17513.2324\n",
      "Epoch 1: val_loss did not improve from 0.01447\n",
      "1172/1172 [==============================] - 114s 97ms/step - loss: 0.0110 - mae: 0.0110 - mape: 17513.2324 - val_loss: 0.0150 - val_mae: 0.0150 - val_mape: 2.8593\n",
      "Epoch 2/50\n",
      "1172/1172 [==============================] - ETA: 0s - loss: 0.0111 - mae: 0.0111 - mape: 17483.5547\n",
      "Epoch 2: val_loss did not improve from 0.01447\n",
      "1172/1172 [==============================] - 114s 98ms/step - loss: 0.0111 - mae: 0.0111 - mape: 17483.5547 - val_loss: 0.0146 - val_mae: 0.0146 - val_mape: 2.7898\n",
      "Epoch 3/50\n",
      "1172/1172 [==============================] - ETA: 0s - loss: 0.0110 - mae: 0.0110 - mape: 17594.3887\n",
      "Epoch 3: val_loss did not improve from 0.01447\n",
      "1172/1172 [==============================] - 113s 96ms/step - loss: 0.0110 - mae: 0.0110 - mape: 17594.3887 - val_loss: 0.0161 - val_mae: 0.0161 - val_mape: 3.1008\n",
      "Epoch 4/50\n",
      "1172/1172 [==============================] - ETA: 0s - loss: 0.0111 - mae: 0.0111 - mape: 17493.9766\n",
      "Epoch 4: val_loss did not improve from 0.01447\n",
      "1172/1172 [==============================] - 114s 97ms/step - loss: 0.0111 - mae: 0.0111 - mape: 17493.9766 - val_loss: 0.0150 - val_mae: 0.0150 - val_mape: 2.8229\n",
      "Epoch 5/50\n",
      "1172/1172 [==============================] - ETA: 0s - loss: 0.0110 - mae: 0.0110 - mape: 17519.8359\n",
      "Epoch 5: val_loss did not improve from 0.01447\n",
      "1172/1172 [==============================] - 113s 97ms/step - loss: 0.0110 - mae: 0.0110 - mape: 17519.8359 - val_loss: 0.0145 - val_mae: 0.0145 - val_mape: 2.7873\n",
      "Epoch 6/50\n",
      "1172/1172 [==============================] - ETA: 0s - loss: 0.0109 - mae: 0.0109 - mape: 17530.8691\n",
      "Epoch 6: val_loss did not improve from 0.01447\n",
      "1172/1172 [==============================] - 113s 97ms/step - loss: 0.0109 - mae: 0.0109 - mape: 17530.8691 - val_loss: 0.0149 - val_mae: 0.0149 - val_mape: 2.8737\n",
      "Epoch 7/50\n",
      "1172/1172 [==============================] - ETA: 0s - loss: 0.0109 - mae: 0.0109 - mape: 17104.4180\n",
      "Epoch 7: val_loss did not improve from 0.01447\n",
      "1172/1172 [==============================] - 114s 97ms/step - loss: 0.0109 - mae: 0.0109 - mape: 17104.4180 - val_loss: 0.0154 - val_mae: 0.0154 - val_mape: 2.9988\n",
      "Epoch 8/50\n",
      "1172/1172 [==============================] - ETA: 0s - loss: 0.0109 - mae: 0.0109 - mape: 17568.4824\n",
      "Epoch 8: val_loss did not improve from 0.01447\n",
      "1172/1172 [==============================] - 114s 97ms/step - loss: 0.0109 - mae: 0.0109 - mape: 17568.4824 - val_loss: 0.0149 - val_mae: 0.0149 - val_mape: 2.8245\n",
      "Epoch 9/50\n",
      "1172/1172 [==============================] - ETA: 0s - loss: 0.0109 - mae: 0.0109 - mape: 17600.0801\n",
      "Epoch 9: val_loss did not improve from 0.01447\n",
      "1172/1172 [==============================] - 114s 97ms/step - loss: 0.0109 - mae: 0.0109 - mape: 17600.0801 - val_loss: 0.0165 - val_mae: 0.0165 - val_mape: 3.1112\n",
      "Epoch 10/50\n",
      "1172/1172 [==============================] - ETA: 0s - loss: 0.0109 - mae: 0.0109 - mape: 17350.0664\n",
      "Epoch 10: val_loss did not improve from 0.01447\n",
      "1172/1172 [==============================] - 113s 97ms/step - loss: 0.0109 - mae: 0.0109 - mape: 17350.0664 - val_loss: 0.0147 - val_mae: 0.0147 - val_mape: 2.8057\n",
      "Epoch 11/50\n",
      "1172/1172 [==============================] - ETA: 0s - loss: 0.0110 - mae: 0.0110 - mape: 17399.8301\n",
      "Epoch 11: val_loss did not improve from 0.01447\n",
      "1172/1172 [==============================] - 113s 96ms/step - loss: 0.0110 - mae: 0.0110 - mape: 17399.8301 - val_loss: 0.0145 - val_mae: 0.0145 - val_mape: 2.7502\n",
      "Epoch 12/50\n",
      "1172/1172 [==============================] - ETA: 0s - loss: 0.0108 - mae: 0.0108 - mape: 17523.6680\n",
      "Epoch 12: val_loss did not improve from 0.01447\n",
      "1172/1172 [==============================] - 114s 97ms/step - loss: 0.0108 - mae: 0.0108 - mape: 17523.6680 - val_loss: 0.0148 - val_mae: 0.0148 - val_mape: 2.8275\n",
      "Epoch 13/50\n",
      "1172/1172 [==============================] - ETA: 0s - loss: 0.0109 - mae: 0.0109 - mape: 17460.9199\n",
      "Epoch 13: val_loss improved from 0.01447 to 0.01417, saving model to Ihsan_Final checkpoints for week 24_LSTM/E1-cp-0013-loss0.01.h5\n",
      "1172/1172 [==============================] - 113s 96ms/step - loss: 0.0109 - mae: 0.0109 - mape: 17460.9199 - val_loss: 0.0142 - val_mae: 0.0142 - val_mape: 2.7033\n",
      "Epoch 14/50\n",
      "1172/1172 [==============================] - ETA: 0s - loss: 0.0108 - mae: 0.0108 - mape: 17950.6992\n",
      "Epoch 14: val_loss did not improve from 0.01417\n",
      "1172/1172 [==============================] - 114s 97ms/step - loss: 0.0108 - mae: 0.0108 - mape: 17950.6992 - val_loss: 0.0150 - val_mae: 0.0150 - val_mape: 2.8795\n",
      "Epoch 15/50\n",
      "1172/1172 [==============================] - ETA: 0s - loss: 0.0108 - mae: 0.0108 - mape: 17625.0879\n",
      "Epoch 15: val_loss did not improve from 0.01417\n",
      "1172/1172 [==============================] - 115s 98ms/step - loss: 0.0108 - mae: 0.0108 - mape: 17625.0879 - val_loss: 0.0154 - val_mae: 0.0154 - val_mape: 2.9414\n",
      "Epoch 16/50\n",
      "1172/1172 [==============================] - ETA: 0s - loss: 0.0107 - mae: 0.0107 - mape: 17413.2520\n",
      "Epoch 16: val_loss did not improve from 0.01417\n",
      "1172/1172 [==============================] - 114s 98ms/step - loss: 0.0107 - mae: 0.0107 - mape: 17413.2520 - val_loss: 0.0149 - val_mae: 0.0149 - val_mape: 2.8242\n",
      "Epoch 17/50\n",
      "1172/1172 [==============================] - ETA: 0s - loss: 0.0108 - mae: 0.0108 - mape: 17558.5820\n",
      "Epoch 17: val_loss did not improve from 0.01417\n",
      "1172/1172 [==============================] - 114s 97ms/step - loss: 0.0108 - mae: 0.0108 - mape: 17558.5820 - val_loss: 0.0152 - val_mae: 0.0152 - val_mape: 2.9194\n",
      "Epoch 18/50\n",
      "1172/1172 [==============================] - ETA: 0s - loss: 0.0108 - mae: 0.0108 - mape: 17640.3594\n",
      "Epoch 18: val_loss did not improve from 0.01417\n",
      "1172/1172 [==============================] - 113s 96ms/step - loss: 0.0108 - mae: 0.0108 - mape: 17640.3594 - val_loss: 0.0147 - val_mae: 0.0147 - val_mape: 2.7931\n",
      "Epoch 19/50\n",
      "1172/1172 [==============================] - ETA: 0s - loss: 0.0107 - mae: 0.0107 - mape: 17419.5000\n",
      "Epoch 19: val_loss did not improve from 0.01417\n",
      "1172/1172 [==============================] - 113s 97ms/step - loss: 0.0107 - mae: 0.0107 - mape: 17419.5000 - val_loss: 0.0147 - val_mae: 0.0147 - val_mape: 2.7513\n",
      "Epoch 20/50\n",
      "1172/1172 [==============================] - ETA: 0s - loss: 0.0107 - mae: 0.0107 - mape: 17180.2109\n",
      "Epoch 20: val_loss did not improve from 0.01417\n",
      "1172/1172 [==============================] - 113s 97ms/step - loss: 0.0107 - mae: 0.0107 - mape: 17180.2109 - val_loss: 0.0149 - val_mae: 0.0149 - val_mape: 2.8799\n",
      "Epoch 21/50\n",
      "1172/1172 [==============================] - ETA: 0s - loss: 0.0108 - mae: 0.0108 - mape: 17639.7500\n",
      "Epoch 21: val_loss did not improve from 0.01417\n",
      "1172/1172 [==============================] - 114s 97ms/step - loss: 0.0108 - mae: 0.0108 - mape: 17639.7500 - val_loss: 0.0164 - val_mae: 0.0164 - val_mape: 3.1011\n",
      "Epoch 22/50\n",
      "1172/1172 [==============================] - ETA: 0s - loss: 0.0107 - mae: 0.0107 - mape: 17506.4551\n",
      "Epoch 22: val_loss did not improve from 0.01417\n",
      "1172/1172 [==============================] - 113s 97ms/step - loss: 0.0107 - mae: 0.0107 - mape: 17506.4551 - val_loss: 0.0143 - val_mae: 0.0143 - val_mape: 2.7556\n",
      "Epoch 23/50\n",
      "1172/1172 [==============================] - ETA: 0s - loss: 0.0106 - mae: 0.0106 - mape: 17543.6582\n",
      "Epoch 23: val_loss did not improve from 0.01417\n",
      "1172/1172 [==============================] - 111s 95ms/step - loss: 0.0106 - mae: 0.0106 - mape: 17543.6582 - val_loss: 0.0155 - val_mae: 0.0155 - val_mape: 2.9434\n",
      "Epoch 24/50\n",
      "1172/1172 [==============================] - ETA: 0s - loss: 0.0107 - mae: 0.0107 - mape: 17427.8438\n",
      "Epoch 24: val_loss did not improve from 0.01417\n",
      "1172/1172 [==============================] - 110s 93ms/step - loss: 0.0107 - mae: 0.0107 - mape: 17427.8438 - val_loss: 0.0143 - val_mae: 0.0143 - val_mape: 2.7444\n",
      "Epoch 25/50\n",
      "1172/1172 [==============================] - ETA: 0s - loss: 0.0106 - mae: 0.0106 - mape: 17629.0273\n",
      "Epoch 25: val_loss did not improve from 0.01417\n",
      "1172/1172 [==============================] - 105s 90ms/step - loss: 0.0106 - mae: 0.0106 - mape: 17629.0273 - val_loss: 0.0143 - val_mae: 0.0143 - val_mape: 2.7682\n",
      "Epoch 26/50\n",
      "1172/1172 [==============================] - ETA: 0s - loss: 0.0106 - mae: 0.0106 - mape: 17281.9590\n",
      "Epoch 26: val_loss did not improve from 0.01417\n",
      "1172/1172 [==============================] - 105s 90ms/step - loss: 0.0106 - mae: 0.0106 - mape: 17281.9590 - val_loss: 0.0146 - val_mae: 0.0146 - val_mape: 2.7788\n",
      "Epoch 27/50\n",
      "1172/1172 [==============================] - ETA: 0s - loss: 0.0105 - mae: 0.0105 - mape: 17458.5312\n",
      "Epoch 27: val_loss did not improve from 0.01417\n",
      "1172/1172 [==============================] - 100s 85ms/step - loss: 0.0105 - mae: 0.0105 - mape: 17458.5312 - val_loss: 0.0146 - val_mae: 0.0146 - val_mape: 2.8149\n",
      "Epoch 28/50\n",
      "1172/1172 [==============================] - ETA: 0s - loss: 0.0105 - mae: 0.0105 - mape: 17488.9043\n",
      "Epoch 28: val_loss did not improve from 0.01417\n",
      "1172/1172 [==============================] - 91s 78ms/step - loss: 0.0105 - mae: 0.0105 - mape: 17488.9043 - val_loss: 0.0151 - val_mae: 0.0151 - val_mape: 2.8568\n",
      "Epoch 29/50\n",
      "1172/1172 [==============================] - ETA: 0s - loss: 0.0105 - mae: 0.0105 - mape: 17486.2969\n",
      "Epoch 29: val_loss improved from 0.01417 to 0.01402, saving model to Ihsan_Final checkpoints for week 24_LSTM/E1-cp-0029-loss0.01.h5\n",
      "1172/1172 [==============================] - 88s 75ms/step - loss: 0.0105 - mae: 0.0105 - mape: 17486.2969 - val_loss: 0.0140 - val_mae: 0.0140 - val_mape: 2.6847\n",
      "Epoch 30/50\n",
      "1172/1172 [==============================] - ETA: 0s - loss: 0.0104 - mae: 0.0104 - mape: 17645.9355\n",
      "Epoch 30: val_loss did not improve from 0.01402\n",
      "1172/1172 [==============================] - 88s 76ms/step - loss: 0.0104 - mae: 0.0104 - mape: 17645.9355 - val_loss: 0.0153 - val_mae: 0.0153 - val_mape: 2.9460\n",
      "Epoch 31/50\n",
      "1172/1172 [==============================] - ETA: 0s - loss: 0.0105 - mae: 0.0105 - mape: 17535.2051\n",
      "Epoch 31: val_loss did not improve from 0.01402\n",
      "1172/1172 [==============================] - 88s 75ms/step - loss: 0.0105 - mae: 0.0105 - mape: 17535.2051 - val_loss: 0.0142 - val_mae: 0.0142 - val_mape: 2.7044\n",
      "Epoch 32/50\n",
      "1172/1172 [==============================] - ETA: 0s - loss: 0.0104 - mae: 0.0104 - mape: 17642.1562\n",
      "Epoch 32: val_loss did not improve from 0.01402\n",
      "1172/1172 [==============================] - 87s 75ms/step - loss: 0.0104 - mae: 0.0104 - mape: 17642.1562 - val_loss: 0.0147 - val_mae: 0.0147 - val_mape: 2.8072\n",
      "Epoch 33/50\n",
      "1172/1172 [==============================] - ETA: 0s - loss: 0.0105 - mae: 0.0105 - mape: 17526.3359\n",
      "Epoch 33: val_loss did not improve from 0.01402\n",
      "1172/1172 [==============================] - 89s 76ms/step - loss: 0.0105 - mae: 0.0105 - mape: 17526.3359 - val_loss: 0.0147 - val_mae: 0.0147 - val_mape: 2.8500\n",
      "Epoch 34/50\n",
      "1172/1172 [==============================] - ETA: 0s - loss: 0.0103 - mae: 0.0103 - mape: 17406.4082\n",
      "Epoch 34: val_loss did not improve from 0.01402\n",
      "1172/1172 [==============================] - 88s 75ms/step - loss: 0.0103 - mae: 0.0103 - mape: 17406.4082 - val_loss: 0.0145 - val_mae: 0.0145 - val_mape: 2.8094\n",
      "Epoch 35/50\n",
      "1172/1172 [==============================] - ETA: 0s - loss: 0.0104 - mae: 0.0104 - mape: 17332.1426\n",
      "Epoch 35: val_loss did not improve from 0.01402\n",
      "1172/1172 [==============================] - 88s 75ms/step - loss: 0.0104 - mae: 0.0104 - mape: 17332.1426 - val_loss: 0.0145 - val_mae: 0.0145 - val_mape: 2.7628\n",
      "Epoch 36/50\n",
      "1172/1172 [==============================] - ETA: 0s - loss: 0.0104 - mae: 0.0104 - mape: 17151.4492\n",
      "Epoch 36: val_loss did not improve from 0.01402\n",
      "1172/1172 [==============================] - 88s 75ms/step - loss: 0.0104 - mae: 0.0104 - mape: 17151.4492 - val_loss: 0.0156 - val_mae: 0.0156 - val_mape: 3.0515\n",
      "Epoch 37/50\n",
      "1172/1172 [==============================] - ETA: 0s - loss: 0.0103 - mae: 0.0103 - mape: 17425.8320\n",
      "Epoch 37: val_loss did not improve from 0.01402\n",
      "1172/1172 [==============================] - 86s 73ms/step - loss: 0.0103 - mae: 0.0103 - mape: 17425.8320 - val_loss: 0.0149 - val_mae: 0.0149 - val_mape: 2.8593\n",
      "Epoch 38/50\n",
      "1172/1172 [==============================] - ETA: 0s - loss: 0.0104 - mae: 0.0104 - mape: 17397.3262\n",
      "Epoch 38: val_loss did not improve from 0.01402\n",
      "1172/1172 [==============================] - 86s 73ms/step - loss: 0.0104 - mae: 0.0104 - mape: 17397.3262 - val_loss: 0.0146 - val_mae: 0.0146 - val_mape: 2.7602\n",
      "Epoch 39/50\n",
      "1172/1172 [==============================] - ETA: 0s - loss: 0.0103 - mae: 0.0103 - mape: 17474.1562\n",
      "Epoch 39: val_loss did not improve from 0.01402\n",
      "1172/1172 [==============================] - 86s 73ms/step - loss: 0.0103 - mae: 0.0103 - mape: 17474.1562 - val_loss: 0.0145 - val_mae: 0.0145 - val_mape: 2.7618\n",
      "Epoch 40/50\n",
      "1172/1172 [==============================] - ETA: 0s - loss: 0.0103 - mae: 0.0103 - mape: 17459.7383\n",
      "Epoch 40: val_loss did not improve from 0.01402\n",
      "1172/1172 [==============================] - 86s 74ms/step - loss: 0.0103 - mae: 0.0103 - mape: 17459.7383 - val_loss: 0.0140 - val_mae: 0.0140 - val_mape: 2.6844\n",
      "Epoch 41/50\n",
      "1172/1172 [==============================] - ETA: 0s - loss: 0.0103 - mae: 0.0103 - mape: 17474.8613\n",
      "Epoch 41: val_loss did not improve from 0.01402\n",
      "1172/1172 [==============================] - 86s 74ms/step - loss: 0.0103 - mae: 0.0103 - mape: 17474.8613 - val_loss: 0.0142 - val_mae: 0.0142 - val_mape: 2.6946\n",
      "Epoch 42/50\n",
      "1172/1172 [==============================] - ETA: 0s - loss: 0.0102 - mae: 0.0102 - mape: 17240.4980\n",
      "Epoch 42: val_loss did not improve from 0.01402\n",
      "1172/1172 [==============================] - 86s 73ms/step - loss: 0.0102 - mae: 0.0102 - mape: 17240.4980 - val_loss: 0.0142 - val_mae: 0.0142 - val_mape: 2.6514\n",
      "Epoch 43/50\n",
      "1172/1172 [==============================] - ETA: 0s - loss: 0.0103 - mae: 0.0103 - mape: 17542.4043\n",
      "Epoch 43: val_loss did not improve from 0.01402\n",
      "1172/1172 [==============================] - 86s 74ms/step - loss: 0.0103 - mae: 0.0103 - mape: 17542.4043 - val_loss: 0.0141 - val_mae: 0.0141 - val_mape: 2.7065\n",
      "Epoch 44/50\n",
      "1172/1172 [==============================] - ETA: 0s - loss: 0.0103 - mae: 0.0103 - mape: 17499.7617\n",
      "Epoch 44: val_loss did not improve from 0.01402\n",
      "1172/1172 [==============================] - 85s 72ms/step - loss: 0.0103 - mae: 0.0103 - mape: 17499.7617 - val_loss: 0.0147 - val_mae: 0.0147 - val_mape: 2.8769\n",
      "Epoch 45/50\n",
      "1172/1172 [==============================] - ETA: 0s - loss: 0.0103 - mae: 0.0103 - mape: 17343.3027\n",
      "Epoch 45: val_loss did not improve from 0.01402\n",
      "1172/1172 [==============================] - 83s 71ms/step - loss: 0.0103 - mae: 0.0103 - mape: 17343.3027 - val_loss: 0.0143 - val_mae: 0.0143 - val_mape: 2.7339\n",
      "Epoch 46/50\n",
      "1172/1172 [==============================] - ETA: 0s - loss: 0.0102 - mae: 0.0102 - mape: 17235.1094\n",
      "Epoch 46: val_loss did not improve from 0.01402\n",
      "1172/1172 [==============================] - 84s 71ms/step - loss: 0.0102 - mae: 0.0102 - mape: 17235.1094 - val_loss: 0.0141 - val_mae: 0.0141 - val_mape: 2.6795\n",
      "Epoch 47/50\n",
      "1172/1172 [==============================] - ETA: 0s - loss: 0.0102 - mae: 0.0102 - mape: 17611.3145\n",
      "Epoch 47: val_loss did not improve from 0.01402\n",
      "1172/1172 [==============================] - 84s 71ms/step - loss: 0.0102 - mae: 0.0102 - mape: 17611.3145 - val_loss: 0.0141 - val_mae: 0.0141 - val_mape: 2.7236\n",
      "Epoch 48/50\n",
      "1172/1172 [==============================] - ETA: 0s - loss: 0.0101 - mae: 0.0101 - mape: 17351.8711\n",
      "Epoch 48: val_loss improved from 0.01402 to 0.01353, saving model to Ihsan_Final checkpoints for week 24_LSTM/E1-cp-0048-loss0.01.h5\n",
      "1172/1172 [==============================] - 83s 71ms/step - loss: 0.0101 - mae: 0.0101 - mape: 17351.8711 - val_loss: 0.0135 - val_mae: 0.0135 - val_mape: 2.5688\n",
      "Epoch 49/50\n",
      "1172/1172 [==============================] - ETA: 0s - loss: 0.0100 - mae: 0.0100 - mape: 17563.3262\n",
      "Epoch 49: val_loss did not improve from 0.01353\n",
      "1172/1172 [==============================] - 84s 71ms/step - loss: 0.0100 - mae: 0.0100 - mape: 17563.3262 - val_loss: 0.0146 - val_mae: 0.0146 - val_mape: 2.7462\n",
      "Epoch 50/50\n",
      "1172/1172 [==============================] - ETA: 0s - loss: 0.0101 - mae: 0.0101 - mape: 17468.5371\n",
      "Epoch 50: val_loss did not improve from 0.01353\n",
      "1172/1172 [==============================] - 83s 71ms/step - loss: 0.0101 - mae: 0.0101 - mape: 17468.5371 - val_loss: 0.0136 - val_mae: 0.0136 - val_mape: 2.5942\n"
     ]
    }
   ],
   "source": [
    "epochs = 50\n",
    "verbose = 1 #0\n",
    "batch_size = 32\n",
    "History = model.fit(train_X,\n",
    "                        train_y,\n",
    "                        batch_size=batch_size,   \n",
    "                        epochs = epochs, \n",
    "                        validation_data = (validation_X,validation_y),\n",
    "                        callbacks=callbacks,\n",
    "                        verbose = verbose)"
   ]
  },
  {
   "cell_type": "code",
   "execution_count": 31,
   "id": "ee9eeb5d",
   "metadata": {},
   "outputs": [],
   "source": [
    "import pickle\n",
    "model = load_model('Ihsan_Final checkpoints for week 24_LSTM/E1-cp-0048-loss0.01.h5')"
   ]
  },
  {
   "cell_type": "code",
   "execution_count": 32,
   "id": "674fa96c",
   "metadata": {},
   "outputs": [
    {
     "name": "stdout",
     "output_type": "stream",
     "text": [
      "3/3 [==============================] - 1s 16ms/step\n"
     ]
    }
   ],
   "source": [
    "y_pred_scaled   = model.predict(test_X)"
   ]
  },
  {
   "cell_type": "code",
   "execution_count": 33,
   "id": "96527da3",
   "metadata": {},
   "outputs": [],
   "source": [
    "y_pred          = scaler.inverse_transform(y_pred_scaled)\n",
    "y_test_unscaled = scaler.inverse_transform(test_y.reshape(-1, 1))"
   ]
  },
  {
   "cell_type": "code",
   "execution_count": 34,
   "id": "943edad7",
   "metadata": {},
   "outputs": [
    {
     "data": {
      "text/plain": [
       "((96, 1), (96, 1))"
      ]
     },
     "execution_count": 34,
     "metadata": {},
     "output_type": "execute_result"
    }
   ],
   "source": [
    "y_pred.shape,y_test_unscaled.shape"
   ]
  },
  {
   "cell_type": "code",
   "execution_count": 35,
   "id": "a7cdbd35",
   "metadata": {},
   "outputs": [
    {
     "name": "stdout",
     "output_type": "stream",
     "text": [
      "Mean Absolute Error (MAE): 16.85\n",
      "Median Absolute Error (MedAE): 14.59\n",
      "Mean Squared Error (MSE): 421.11\n",
      "Root Mean Squared Error (RMSE): 20.52\n",
      "Mean Absolute Percentage Error (MAPE): 1.5 %\n",
      "Median Absolute Percentage Error (MDAPE): 1.34 %\n",
      "\n",
      "\n",
      "y_test_unscaled.shape=  (96, 1)\n",
      "y_pred.shape=  (96, 1)\n"
     ]
    }
   ],
   "source": [
    "# Mean Absolute Error (MAE)\n",
    "MAE = np.mean(abs(y_pred - y_test_unscaled))\n",
    "print('Mean Absolute Error (MAE): ' + str(np.round(MAE, 2)))\n",
    "\n",
    "# Median Absolute Error (MedAE)\n",
    "MEDAE = np.median(abs(y_pred - y_test_unscaled))\n",
    "print('Median Absolute Error (MedAE): ' + str(np.round(MEDAE, 2)))\n",
    "\n",
    "# Mean Squared Error (MSE)\n",
    "MSE = np.square(np.subtract(y_pred, y_test_unscaled)).mean()\n",
    "print('Mean Squared Error (MSE): ' + str(np.round(MSE, 2)))\n",
    "\n",
    "# Root Mean Squarred Error (RMSE) \n",
    "RMSE = np.sqrt(np.mean(np.square(y_pred - y_test_unscaled)))\n",
    "print('Root Mean Squared Error (RMSE): ' + str(np.round(RMSE, 2)))\n",
    "\n",
    "# Mean Absolute Percentage Error (MAPE)\n",
    "MAPE = np.mean((np.abs(np.subtract(y_test_unscaled, y_pred)/ y_test_unscaled))) * 100\n",
    "print('Mean Absolute Percentage Error (MAPE): ' + str(np.round(MAPE, 2)) + ' %')\n",
    "\n",
    "# Median Absolute Percentage Error (MDAPE)\n",
    "MDAPE = np.median((np.abs(np.subtract(y_test_unscaled, y_pred)/ y_test_unscaled))) * 100\n",
    "print('Median Absolute Percentage Error (MDAPE): ' + str(np.round(MDAPE, 2)) + ' %')\n",
    "\n",
    "print('\\n\\ny_test_unscaled.shape= ',y_test_unscaled.shape)\n",
    "print('y_pred.shape= ',y_pred.shape)"
   ]
  },
  {
   "cell_type": "code",
   "execution_count": 36,
   "id": "21d03475",
   "metadata": {
    "scrolled": true
   },
   "outputs": [
    {
     "data": {
      "image/png": "[encoded data removed]",
      "text/plain": [
       "<Figure size 432x288 with 1 Axes>"
      ]
     },
     "metadata": {},
     "output_type": "display_data"
    }
   ],
   "source": [
    "plt.plot(y_test_unscaled, color=\"red\", linewidth=2)\n",
    "plt.plot(y_pred, color=\"black\", linewidth=2)\n",
    "plt.legend(['Actual load','Predicted LSTM'])\n",
    "plt.ylabel('Load MWh')\n",
    "plt.xlabel('Hourly samples')\n",
    "plt.show()"
   ]
  },
  {
   "cell_type": "code",
   "execution_count": null,
   "id": "14430012",
   "metadata": {},
   "outputs": [],
   "source": []
  }
 ],
 "metadata": {
  "kernelspec": {
   "display_name": "Python [conda env:.conda-jupyter-2022-07-22] *",
   "language": "python",
   "name": "conda-env-.conda-jupyter-2022-07-22-py"
  },
  "language_info": {
   "codemirror_mode": {
    "name": "ipython",
    "version": 3
   },
   "file_extension": ".py",
   "mimetype": "text/x-python",
   "name": "python",
   "nbconvert_exporter": "python",
   "pygments_lexer": "ipython3",
   "version": "3.10.5"
  }
 },
 "nbformat": 4,
 "nbformat_minor": 5
}
