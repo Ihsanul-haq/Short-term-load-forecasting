{
 "cells": [
  {
   "cell_type": "code",
   "execution_count": 1,
   "id": "d9ff8d33",
   "metadata": {
    "scrolled": true
   },
   "outputs": [],
   "source": [
    "import numpy as np\n",
    "import pandas as pd\n",
    "from pandas import read_csv\n",
    "import pickle\n",
    "from sklearn.preprocessing import MinMaxScaler, StandardScaler\n",
    "from sklearn.preprocessing import OneHotEncoder"
   ]
  },
  {
   "cell_type": "code",
   "execution_count": 2,
   "id": "be9688f0",
   "metadata": {},
   "outputs": [
    {
     "data": {
      "text/html": [
       "<div>\n",
       "<style scoped>\n",
       "    .dataframe tbody tr th:only-of-type {\n",
       "        vertical-align: middle;\n",
       "    }\n",
       "\n",
       "    .dataframe tbody tr th {\n",
       "        vertical-align: top;\n",
       "    }\n",
       "\n",
       "    .dataframe thead th {\n",
       "        text-align: right;\n",
       "    }\n",
       "</style>\n",
       "<table border=\"1\" class=\"dataframe\">\n",
       "  <thead>\n",
       "    <tr style=\"text-align: right;\">\n",
       "      <th></th>\n",
       "      <th>week_X-2</th>\n",
       "      <th>week_X-3</th>\n",
       "      <th>week_X-4</th>\n",
       "      <th>MA_X-4</th>\n",
       "      <th>dayOfWeek</th>\n",
       "      <th>weekend</th>\n",
       "      <th>holiday</th>\n",
       "      <th>hourOfDay</th>\n",
       "      <th>T2M_toc</th>\n",
       "      <th>DEMAND</th>\n",
       "    </tr>\n",
       "    <tr>\n",
       "      <th>datetime</th>\n",
       "      <th></th>\n",
       "      <th></th>\n",
       "      <th></th>\n",
       "      <th></th>\n",
       "      <th></th>\n",
       "      <th></th>\n",
       "      <th></th>\n",
       "      <th></th>\n",
       "      <th></th>\n",
       "      <th></th>\n",
       "    </tr>\n",
       "  </thead>\n",
       "  <tbody>\n",
       "    <tr>\n",
       "      <th>2015-01-31 01:00:00</th>\n",
       "      <td>962.2865</td>\n",
       "      <td>906.9580</td>\n",
       "      <td>970.3450</td>\n",
       "      <td>938.004850</td>\n",
       "      <td>1</td>\n",
       "      <td>1</td>\n",
       "      <td>0</td>\n",
       "      <td>1</td>\n",
       "      <td>25.308496</td>\n",
       "      <td>954.2018</td>\n",
       "    </tr>\n",
       "    <tr>\n",
       "      <th>2015-01-31 02:00:00</th>\n",
       "      <td>933.3221</td>\n",
       "      <td>863.5135</td>\n",
       "      <td>912.1755</td>\n",
       "      <td>900.284075</td>\n",
       "      <td>1</td>\n",
       "      <td>1</td>\n",
       "      <td>0</td>\n",
       "      <td>2</td>\n",
       "      <td>25.141443</td>\n",
       "      <td>913.8660</td>\n",
       "    </tr>\n",
       "  </tbody>\n",
       "</table>\n",
       "</div>"
      ],
      "text/plain": [
       "                     week_X-2  week_X-3  week_X-4      MA_X-4  dayOfWeek  \\\n",
       "datetime                                                                   \n",
       "2015-01-31 01:00:00  962.2865  906.9580  970.3450  938.004850          1   \n",
       "2015-01-31 02:00:00  933.3221  863.5135  912.1755  900.284075          1   \n",
       "\n",
       "                     weekend  holiday  hourOfDay    T2M_toc    DEMAND  \n",
       "datetime                                                               \n",
       "2015-01-31 01:00:00        1        0          1  25.308496  954.2018  \n",
       "2015-01-31 02:00:00        1        0          2  25.141443  913.8660  "
      ]
     },
     "execution_count": 2,
     "metadata": {},
     "output_type": "execute_result"
    }
   ],
   "source": [
    "df = pd.read_csv('datese_for_normalization_OneHOt.csv', parse_dates = ['datetime'], index_col = ['datetime'])\n",
    "df.head(2)"
   ]
  },
  {
   "cell_type": "code",
   "execution_count": 3,
   "id": "dfea2da0",
   "metadata": {},
   "outputs": [
    {
     "data": {
      "text/plain": [
       "0"
      ]
     },
     "execution_count": 3,
     "metadata": {},
     "output_type": "execute_result"
    }
   ],
   "source": [
    "df.isnull().sum().sum()\n",
    "#no missing values"
   ]
  },
  {
   "cell_type": "code",
   "execution_count": 4,
   "id": "44e67c1d",
   "metadata": {},
   "outputs": [
    {
     "data": {
      "text/plain": [
       "(36720, 10)"
      ]
     },
     "execution_count": 4,
     "metadata": {},
     "output_type": "execute_result"
    }
   ],
   "source": [
    "dataset = df.iloc[:].values \n",
    "dataset.shape"
   ]
  },
  {
   "cell_type": "code",
   "execution_count": 5,
   "id": "7bcce965",
   "metadata": {},
   "outputs": [
    {
     "data": {
      "text/html": [
       "<div>\n",
       "<style scoped>\n",
       "    .dataframe tbody tr th:only-of-type {\n",
       "        vertical-align: middle;\n",
       "    }\n",
       "\n",
       "    .dataframe tbody tr th {\n",
       "        vertical-align: top;\n",
       "    }\n",
       "\n",
       "    .dataframe thead th {\n",
       "        text-align: right;\n",
       "    }\n",
       "</style>\n",
       "<table border=\"1\" class=\"dataframe\">\n",
       "  <thead>\n",
       "    <tr style=\"text-align: right;\">\n",
       "      <th></th>\n",
       "      <th>week_X-2</th>\n",
       "      <th>week_X-3</th>\n",
       "      <th>week_X-4</th>\n",
       "      <th>MA_X-4</th>\n",
       "      <th>dayOfWeek</th>\n",
       "      <th>weekend</th>\n",
       "      <th>holiday</th>\n",
       "      <th>hourOfDay</th>\n",
       "      <th>T2M_toc</th>\n",
       "      <th>DEMAND</th>\n",
       "    </tr>\n",
       "    <tr>\n",
       "      <th>datetime</th>\n",
       "      <th></th>\n",
       "      <th></th>\n",
       "      <th></th>\n",
       "      <th></th>\n",
       "      <th></th>\n",
       "      <th></th>\n",
       "      <th></th>\n",
       "      <th></th>\n",
       "      <th></th>\n",
       "      <th></th>\n",
       "    </tr>\n",
       "  </thead>\n",
       "  <tbody>\n",
       "    <tr>\n",
       "      <th>2019-04-13 01:00:00</th>\n",
       "      <td>1064.7486</td>\n",
       "      <td>1204.5668</td>\n",
       "      <td>1117.8152</td>\n",
       "      <td>1118.15425</td>\n",
       "      <td>1</td>\n",
       "      <td>1</td>\n",
       "      <td>0</td>\n",
       "      <td>1</td>\n",
       "      <td>26.791528</td>\n",
       "      <td>1161.6177</td>\n",
       "    </tr>\n",
       "    <tr>\n",
       "      <th>2019-04-13 02:00:00</th>\n",
       "      <td>1041.7521</td>\n",
       "      <td>1145.5341</td>\n",
       "      <td>1082.5688</td>\n",
       "      <td>1078.06195</td>\n",
       "      <td>1</td>\n",
       "      <td>1</td>\n",
       "      <td>0</td>\n",
       "      <td>2</td>\n",
       "      <td>26.707971</td>\n",
       "      <td>1130.4635</td>\n",
       "    </tr>\n",
       "  </tbody>\n",
       "</table>\n",
       "</div>"
      ],
      "text/plain": [
       "                      week_X-2   week_X-3   week_X-4      MA_X-4  dayOfWeek  \\\n",
       "datetime                                                                      \n",
       "2019-04-13 01:00:00  1064.7486  1204.5668  1117.8152  1118.15425          1   \n",
       "2019-04-13 02:00:00  1041.7521  1145.5341  1082.5688  1078.06195          1   \n",
       "\n",
       "                     weekend  holiday  hourOfDay    T2M_toc     DEMAND  \n",
       "datetime                                                                \n",
       "2019-04-13 01:00:00        1        0          1  26.791528  1161.6177  \n",
       "2019-04-13 02:00:00        1        0          2  26.707971  1130.4635  "
      ]
     },
     "execution_count": 5,
     "metadata": {},
     "output_type": "execute_result"
    }
   ],
   "source": [
    "df2=pd.read_csv('S_test.csv', parse_dates = ['datetime'], index_col = ['datetime'])\n",
    "df2.drop(['Holiday_ID'], axis = 1, inplace = True)\n",
    "df2.head(2)"
   ]
  },
  {
   "cell_type": "markdown",
   "id": "8df2e4b5",
   "metadata": {},
   "source": [
    "# Function to split data For Training, Validation & Test"
   ]
  },
  {
   "cell_type": "code",
   "execution_count": 6,
   "id": "c76c32ef",
   "metadata": {},
   "outputs": [],
   "source": [
    "def t_v_t(dataset,train_p,validation_p,test_p):\n",
    "    '''\n",
    "    \\n\\nt_v_t(dataset,train_p,validation_p,test_p)\\n\n",
    "    dataset = DataFrame\n",
    "    train_p = Percentage of Traing Data\n",
    "    validation_p = Percentage of Validation Data\n",
    "    test_p = Percentage of Test Data\n",
    "    \\n\\nExample:\n",
    "    to call this Function;\n",
    "    train_set , validation_set , test_set = t_v_t(df,70,20,10)\n",
    "    '''\n",
    "    train_p=train_p/100\n",
    "    validation_p=validation_p/100\n",
    "    test_p=test_p/100\n",
    "    train=int(np.round(len(dataset)*train_p))                                 #70\n",
    "    validation=int(np.round(len(dataset)*validation_p))                       #20\n",
    "    test=int(np.round(len(dataset)*test_p))                                   #10\n",
    "    train_set,validation_set,test_set=dataset[:train],dataset[train:train+validation],dataset[train+validation:len(dataset)]\n",
    "    return train_set,validation_set,test_set"
   ]
  },
  {
   "cell_type": "code",
   "execution_count": 7,
   "id": "f2eb60f7",
   "metadata": {},
   "outputs": [
    {
     "name": "stdout",
     "output_type": "stream",
     "text": [
      "\n",
      "    \n",
      "\n",
      "t_v_t(dataset,train_p,validation_p,test_p)\n",
      "\n",
      "    dataset = DataFrame\n",
      "    train_p = Percentage of Traing Data\n",
      "    validation_p = Percentage of Validation Data\n",
      "    test_p = Percentage of Test Data\n",
      "    \n",
      "\n",
      "Example:\n",
      "    to call this Function;\n",
      "    train_set , validation_set , test_set = t_v_t(df,70,20,10)\n",
      "    \n"
     ]
    }
   ],
   "source": [
    "print(t_v_t.__doc__)"
   ]
  },
  {
   "cell_type": "markdown",
   "id": "5f5a9937",
   "metadata": {},
   "source": [
    "# Normalization"
   ]
  },
  {
   "cell_type": "code",
   "execution_count": 8,
   "id": "eb3c275b",
   "metadata": {},
   "outputs": [],
   "source": [
    "train_set , validation_set , test_set = t_v_t(df,80,20,0);"
   ]
  },
  {
   "cell_type": "code",
   "execution_count": 9,
   "id": "847e0696",
   "metadata": {},
   "outputs": [],
   "source": [
    "test_set=df2"
   ]
  },
  {
   "cell_type": "code",
   "execution_count": 10,
   "id": "3991c845",
   "metadata": {},
   "outputs": [
    {
     "name": "stdout",
     "output_type": "stream",
     "text": [
      "(29376, 10)\n",
      "(7344, 10)\n",
      "(168, 10)\n"
     ]
    }
   ],
   "source": [
    "print(train_set.shape)\n",
    "print(validation_set.shape)\n",
    "print(test_set.shape)"
   ]
  },
  {
   "cell_type": "code",
   "execution_count": 11,
   "id": "ee7f2873",
   "metadata": {},
   "outputs": [
    {
     "data": {
      "text/plain": [
       "36720"
      ]
     },
     "execution_count": 11,
     "metadata": {},
     "output_type": "execute_result"
    }
   ],
   "source": [
    "7344+29376 # so true "
   ]
  },
  {
   "cell_type": "markdown",
   "id": "1780b08b",
   "metadata": {},
   "source": [
    "##### MinMax"
   ]
  },
  {
   "cell_type": "code",
   "execution_count": 12,
   "id": "75e43d79",
   "metadata": {},
   "outputs": [],
   "source": [
    "train_set_load1             = train_set['DEMAND'].values.reshape(-1, 1) \n",
    "validation_set_load1        = validation_set['DEMAND'].values.reshape(-1, 1)\n",
    "test_set_load1              = test_set['DEMAND'].values.reshape(-1, 1) \n",
    "\n",
    "scaler = MinMaxScaler(feature_range=(0, 1))\n",
    "scaler.fit(train_set_load1)\n",
    "\n",
    "scaled_train_set_load1      = scaler.transform(train_set_load1)\n",
    "scaled_validation_set_load1 = scaler.transform(validation_set_load1)\n",
    "scaled_test_set_load1       = scaler.transform(test_set_load1)"
   ]
  },
  {
   "cell_type": "code",
   "execution_count": 13,
   "id": "a47f262a",
   "metadata": {},
   "outputs": [],
   "source": [
    "pickle.dump(scaler, open (\"scaler.pkl\",'wb') )"
   ]
  },
  {
   "cell_type": "code",
   "execution_count": 14,
   "id": "aa35f19f",
   "metadata": {},
   "outputs": [
    {
     "data": {
      "text/plain": [
       "(29376, 1)"
      ]
     },
     "execution_count": 14,
     "metadata": {},
     "output_type": "execute_result"
    }
   ],
   "source": [
    "scaled_train_set_load1.shape"
   ]
  },
  {
   "cell_type": "code",
   "execution_count": 15,
   "id": "1ecaf578",
   "metadata": {},
   "outputs": [],
   "source": [
    "train_set_load             = train_set[['week_X-2','week_X-3','week_X-4','MA_X-4','T2M_toc']]              \n",
    "validation_set_load        = validation_set[['week_X-2','week_X-3','week_X-4','MA_X-4','T2M_toc']]\n",
    "test_set_load              = test_set[['week_X-2','week_X-3','week_X-4','MA_X-4','T2M_toc']]\n",
    "#.........................................................................\n",
    "scaler = MinMaxScaler(feature_range=(0, 1))\n",
    "scaler.fit(train_set_load)\n",
    "#.........................................................................\n",
    "scaled_train_set_load      = scaler.transform(train_set_load)\n",
    "scaled_validation_set_load = scaler.transform(validation_set_load)\n",
    "scaled_test_set_load       = scaler.transform(test_set_load)"
   ]
  },
  {
   "cell_type": "code",
   "execution_count": 16,
   "id": "8103cedb",
   "metadata": {},
   "outputs": [
    {
     "data": {
      "text/plain": [
       "(29376, 5)"
      ]
     },
     "execution_count": 16,
     "metadata": {},
     "output_type": "execute_result"
    }
   ],
   "source": [
    "scaled_train_set_load.shape"
   ]
  },
  {
   "cell_type": "code",
   "execution_count": 17,
   "id": "5c508570",
   "metadata": {},
   "outputs": [],
   "source": [
    "scaled_train_set_load          = np.concatenate((scaled_train_set_load1 , scaled_train_set_load),axis=1) \n",
    "scaled_validation_set_load     = np.concatenate((scaled_validation_set_load1 , scaled_validation_set_load),axis=1) \n",
    "scaled_test_set_load           = np.concatenate((scaled_test_set_load1 , scaled_test_set_load),axis=1) "
   ]
  },
  {
   "cell_type": "code",
   "execution_count": 18,
   "id": "bda3a08b",
   "metadata": {},
   "outputs": [
    {
     "data": {
      "text/plain": [
       "(29376, 6)"
      ]
     },
     "execution_count": 18,
     "metadata": {},
     "output_type": "execute_result"
    }
   ],
   "source": [
    "scaled_train_set_load.shape"
   ]
  },
  {
   "cell_type": "markdown",
   "id": "bc5e56be",
   "metadata": {},
   "source": [
    "# ONEHOT Encoding"
   ]
  },
  {
   "cell_type": "code",
   "execution_count": 19,
   "id": "16b15210",
   "metadata": {},
   "outputs": [
    {
     "data": {
      "text/plain": [
       "Index(['week_X-2', 'week_X-3', 'week_X-4', 'MA_X-4', 'dayOfWeek', 'weekend',\n",
       "       'holiday', 'hourOfDay', 'T2M_toc', 'DEMAND'],\n",
       "      dtype='object')"
      ]
     },
     "execution_count": 19,
     "metadata": {},
     "output_type": "execute_result"
    }
   ],
   "source": [
    "train_set.columns"
   ]
  },
  {
   "cell_type": "code",
   "execution_count": 20,
   "id": "4d347e9b",
   "metadata": {},
   "outputs": [
    {
     "data": {
      "text/plain": [
       "(29376, 4)"
      ]
     },
     "execution_count": 20,
     "metadata": {},
     "output_type": "execute_result"
    }
   ],
   "source": [
    "train_setO     = train_set[:].values\n",
    "\n",
    "weekend        = train_setO[:,5:6]\n",
    "holiday        = train_setO[:,6:7]\n",
    "\n",
    "\n",
    "en_weekend     = OneHotEncoder(handle_unknown='ignore')\n",
    "en_holiday     = OneHotEncoder(handle_unknown='ignore')\n",
    "\n",
    "\n",
    "weekendf       = en_weekend.fit(weekend)\n",
    "holidayf       = en_holiday.fit(holiday)\n",
    "\n",
    "weekendt       = weekendf  .transform(weekend).toarray()\n",
    "holidayt       = holidayf.transform(holiday).toarray()\n",
    "\n",
    "train_setO     = np.concatenate((weekendt , holidayt, ),axis=1) \n",
    "train_setO.shape"
   ]
  },
  {
   "cell_type": "code",
   "execution_count": 21,
   "id": "d0c96546",
   "metadata": {},
   "outputs": [
    {
     "data": {
      "text/plain": [
       "(7344, 4)"
      ]
     },
     "execution_count": 21,
     "metadata": {},
     "output_type": "execute_result"
    }
   ],
   "source": [
    "validation_setO = validation_set[:].values\n",
    "\n",
    "\n",
    "weekend        = validation_setO[:,5:6]\n",
    "holiday        = validation_setO[:,6:7]\n",
    "\n",
    "\n",
    "en_weekend     = OneHotEncoder(handle_unknown='ignore')\n",
    "en_holiday     = OneHotEncoder(handle_unknown='ignore')\n",
    "\n",
    "\n",
    "weekendf       = en_weekend.fit(weekend)\n",
    "holidayf       = en_holiday.fit(holiday)\n",
    "\n",
    "weekendt       = weekendf  .transform(weekend).toarray()\n",
    "holidayt       = holidayf.transform(holiday).toarray()\n",
    "\n",
    "val_one_hot = np.concatenate((weekendt , holidayt, ),axis=1)  \n",
    "val_one_hot.shape"
   ]
  },
  {
   "cell_type": "code",
   "execution_count": 22,
   "id": "a070761f",
   "metadata": {},
   "outputs": [
    {
     "data": {
      "text/plain": [
       "(168, 4)"
      ]
     },
     "execution_count": 22,
     "metadata": {},
     "output_type": "execute_result"
    }
   ],
   "source": [
    "test_setO      = test_set[:].values\n",
    "\n",
    "\n",
    "weekend        = test_setO[:,5:6]\n",
    "holiday        = test_setO[:,6:7]\n",
    "\n",
    "\n",
    "en_weekend     = OneHotEncoder(handle_unknown='ignore')\n",
    "en_holiday     = OneHotEncoder(handle_unknown='ignore')\n",
    "\n",
    "\n",
    "weekendf       = en_weekend.fit(weekend)\n",
    "holidayf       = en_holiday.fit(holiday)\n",
    "\n",
    "weekendt       = weekendf  .transform(weekend).toarray()\n",
    "holidayt       = holidayf.transform(holiday).toarray()\n",
    "\n",
    "test_one_hot = np.concatenate((weekendt , holidayt, ),axis=1)   \n",
    "test_one_hot.shape "
   ]
  },
  {
   "cell_type": "code",
   "execution_count": 23,
   "id": "2963d0f7",
   "metadata": {},
   "outputs": [
    {
     "data": {
      "text/plain": [
       "Index(['week_X-2', 'week_X-3', 'week_X-4', 'MA_X-4', 'dayOfWeek', 'weekend',\n",
       "       'holiday', 'hourOfDay', 'T2M_toc', 'DEMAND'],\n",
       "      dtype='object')"
      ]
     },
     "execution_count": 23,
     "metadata": {},
     "output_type": "execute_result"
    }
   ],
   "source": [
    "train_set.columns"
   ]
  },
  {
   "cell_type": "code",
   "execution_count": 24,
   "id": "b75801ae",
   "metadata": {},
   "outputs": [],
   "source": [
    "cyclic_train = train_set[['dayOfWeek','hourOfDay']]\n",
    "cyclic_train = cyclic_train[:].values\n",
    "\n",
    "sin_weekt    = np.sin(2*np.pi*cyclic_train[:,0:1]/6)\n",
    "cos_weekt    = np.cos(2*np.pi*cyclic_train[:,0:1]/6)\n",
    "  \n",
    "sin_hourt    = np.sin(2*np.pi*cyclic_train[:,1:2]/24)\n",
    "cos_hourt    = np.cos(2*np.pi*cyclic_train[:,1:2]/24)\n",
    "\n",
    "cyclic_train = np.concatenate((sin_weekt, cos_weekt, sin_hourt,cos_hourt), axis=1) "
   ]
  },
  {
   "cell_type": "code",
   "execution_count": 25,
   "id": "925e8781",
   "metadata": {},
   "outputs": [],
   "source": [
    "cyclic_validation = validation_set[['dayOfWeek','hourOfDay']]\n",
    "cyclic_validation = cyclic_validation[:].values\n",
    "\n",
    "\n",
    "sin_weekt         = np.sin(2*np.pi*cyclic_validation[:,0:1]/6)\n",
    "cos_weekt         = np.cos(2*np.pi*cyclic_validation[:,0:1]/6)\n",
    "\n",
    "sin_hourt         = np.sin(2*np.pi*cyclic_validation[:,1:2]/24)\n",
    "cos_hourt         = np.cos(2*np.pi*cyclic_validation[:,1:2]/24)\n",
    "\n",
    "cyclic_validation = np.concatenate((sin_weekt, cos_weekt, sin_hourt,cos_hourt), axis=1) "
   ]
  },
  {
   "cell_type": "code",
   "execution_count": 26,
   "id": "8e2707be",
   "metadata": {},
   "outputs": [],
   "source": [
    "cyclic_test = test_set[['dayOfWeek','hourOfDay']]\n",
    "cyclic_test = cyclic_test[:].values\n",
    "\n",
    "\n",
    "sin_weekt   = np.sin(2*np.pi*cyclic_test[:,0:1]/6)\n",
    "cos_weekt   = np.cos(2*np.pi*cyclic_test[:,0:1]/6)\n",
    "\n",
    "sin_hourt   = np.sin(2*np.pi*cyclic_test[:,1:2]/24)\n",
    "cos_hourt   = np.cos(2*np.pi*cyclic_test[:,1:2]/24)\n",
    "\n",
    "cyclic_test = np.concatenate((sin_weekt, cos_weekt, sin_hourt,cos_hourt), axis=1) "
   ]
  },
  {
   "cell_type": "code",
   "execution_count": 27,
   "id": "0623e561",
   "metadata": {},
   "outputs": [],
   "source": [
    "train = np.concatenate((scaled_train_set_load, train_setO, cyclic_train), axis=1)"
   ]
  },
  {
   "cell_type": "code",
   "execution_count": 28,
   "id": "30642220",
   "metadata": {},
   "outputs": [],
   "source": [
    "validation = np.concatenate((scaled_validation_set_load, val_one_hot, cyclic_validation), axis=1)"
   ]
  },
  {
   "cell_type": "code",
   "execution_count": 29,
   "id": "db781621",
   "metadata": {},
   "outputs": [],
   "source": [
    "test = np.concatenate((scaled_test_set_load, test_one_hot, cyclic_test), axis=1)"
   ]
  },
  {
   "cell_type": "code",
   "execution_count": 30,
   "id": "1ab154d9",
   "metadata": {},
   "outputs": [],
   "source": [
    "train_df = pd.DataFrame(data = train.transpose(), index=['DEMAND','week_X-2',\n",
    "                                                       'week_X-3','week_X-4',\n",
    "                                                       'MA_X-4','T2M_toc',\n",
    "                                                       'weekend1','weekend1',\n",
    "                                                       'holiday1','holiday2',\n",
    "                                                       'dayOfWeek1','dayOfWeek2',\n",
    "                                                       'hourOfDay1','hourOfDay2']).transpose()"
   ]
  },
  {
   "cell_type": "code",
   "execution_count": 31,
   "id": "64dfbf91",
   "metadata": {},
   "outputs": [],
   "source": [
    "train_df.to_csv('train_Normalized.csv', index=False)"
   ]
  },
  {
   "cell_type": "code",
   "execution_count": 32,
   "id": "c5036a27",
   "metadata": {},
   "outputs": [],
   "source": [
    "validation_df = pd.DataFrame(data = validation.transpose(), index=['DEMAND','week_X-2',\n",
    "                                                       'week_X-3','week_X-4',\n",
    "                                                       'MA_X-4','T2M_toc',\n",
    "                                                       'weekend1','weekend1',\n",
    "                                                       'holiday1','holiday2',\n",
    "                                                       'dayOfWeek1','dayOfWeek2',\n",
    "                                                       'hourOfDay1','hourOfDay2']).transpose()"
   ]
  },
  {
   "cell_type": "code",
   "execution_count": 33,
   "id": "ff109a38",
   "metadata": {},
   "outputs": [],
   "source": [
    "validation_df.to_csv('validation_Normalized.csv', index=False)"
   ]
  },
  {
   "cell_type": "code",
   "execution_count": 34,
   "id": "25d028f0",
   "metadata": {},
   "outputs": [],
   "source": [
    "test_df = pd.DataFrame(data = test.transpose(), index=['DEMAND','week_X-2',\n",
    "                                                       'week_X-3','week_X-4',\n",
    "                                                       'MA_X-4','T2M_toc',\n",
    "                                                       'weekend1','weekend1',\n",
    "                                                       'holiday1','holiday2',\n",
    "                                                       'dayOfWeek1','dayOfWeek2',\n",
    "                                                       'hourOfDay1','hourOfDay2']).transpose()"
   ]
  },
  {
   "cell_type": "code",
   "execution_count": 35,
   "id": "475cb174",
   "metadata": {},
   "outputs": [],
   "source": [
    "test_df.to_csv('test_Normalized.csv', index=False)"
   ]
  },
  {
   "cell_type": "code",
   "execution_count": 36,
   "id": "6c8077ec",
   "metadata": {},
   "outputs": [
    {
     "data": {
      "text/plain": [
       "(168, 14)"
      ]
     },
     "execution_count": 36,
     "metadata": {},
     "output_type": "execute_result"
    }
   ],
   "source": [
    "test_df.shape"
   ]
  },
  {
   "cell_type": "markdown",
   "id": "5cd0fdd8",
   "metadata": {},
   "source": [
    "# lets move to model section"
   ]
  }
 ],
 "metadata": {
  "kernelspec": {
   "display_name": "Python 3 (ipykernel)",
   "language": "python",
   "name": "python3"
  },
  "language_info": {
   "codemirror_mode": {
    "name": "ipython",
    "version": 3
   },
   "file_extension": ".py",
   "mimetype": "text/x-python",
   "name": "python",
   "nbconvert_exporter": "python",
   "pygments_lexer": "ipython3",
   "version": "3.7.13"
  }
 },
 "nbformat": 4,
 "nbformat_minor": 5
}
