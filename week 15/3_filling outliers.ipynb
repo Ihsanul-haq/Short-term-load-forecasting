{
 "cells": [
  {
   "cell_type": "code",
   "execution_count": 1,
   "id": "4415dd67",
   "metadata": {},
   "outputs": [],
   "source": [
    "import pandas as pd\n",
    "import numpy as np\n",
    "import matplotlib.pyplot as plt\n",
    "#import seaborn as sns\n",
    "%matplotlib inline"
   ]
  },
  {
   "cell_type": "code",
   "execution_count": 4,
   "id": "1ada329e",
   "metadata": {},
   "outputs": [],
   "source": [
    "df = pd.read_csv('Outlier_Identified.csv', parse_dates = ['datetime'], index_col = 'datetime')"
   ]
  },
  {
   "cell_type": "code",
   "execution_count": 7,
   "id": "d0c9ef6e",
   "metadata": {},
   "outputs": [
    {
     "data": {
      "text/plain": [
       "week_X-2      0\n",
       "week_X-3      0\n",
       "week_X-4      0\n",
       "MA_X-4        0\n",
       "dayOfWeek     0\n",
       "weekend       0\n",
       "holiday       0\n",
       "Holiday_ID    0\n",
       "hourOfDay     0\n",
       "T2M_toc       0\n",
       "DEMAND        6\n",
       "dtype: int64"
      ]
     },
     "execution_count": 7,
     "metadata": {},
     "output_type": "execute_result"
    }
   ],
   "source": [
    "df.isnull().sum()"
   ]
  },
  {
   "cell_type": "code",
   "execution_count": 9,
   "id": "1b1dc915",
   "metadata": {},
   "outputs": [],
   "source": [
    "df['DEMAND'].interpolate(method = 'time', inplace = True)"
   ]
  },
  {
   "cell_type": "code",
   "execution_count": 10,
   "id": "29cf50de",
   "metadata": {},
   "outputs": [
    {
     "data": {
      "text/plain": [
       "week_X-2      0\n",
       "week_X-3      0\n",
       "week_X-4      0\n",
       "MA_X-4        0\n",
       "dayOfWeek     0\n",
       "weekend       0\n",
       "holiday       0\n",
       "Holiday_ID    0\n",
       "hourOfDay     0\n",
       "T2M_toc       0\n",
       "DEMAND        0\n",
       "dtype: int64"
      ]
     },
     "execution_count": 10,
     "metadata": {},
     "output_type": "execute_result"
    }
   ],
   "source": [
    "# will fill the remaing by interpolation\n",
    "df.isnull().sum()"
   ]
  },
  {
   "cell_type": "code",
   "execution_count": 11,
   "id": "4af6496e",
   "metadata": {},
   "outputs": [],
   "source": [
    "df.reset_index(inplace = True)"
   ]
  },
  {
   "cell_type": "code",
   "execution_count": 13,
   "id": "b101e69e",
   "metadata": {},
   "outputs": [
    {
     "data": {
      "text/html": [
       "<div>\n",
       "<style scoped>\n",
       "    .dataframe tbody tr th:only-of-type {\n",
       "        vertical-align: middle;\n",
       "    }\n",
       "\n",
       "    .dataframe tbody tr th {\n",
       "        vertical-align: top;\n",
       "    }\n",
       "\n",
       "    .dataframe thead th {\n",
       "        text-align: right;\n",
       "    }\n",
       "</style>\n",
       "<table border=\"1\" class=\"dataframe\">\n",
       "  <thead>\n",
       "    <tr style=\"text-align: right;\">\n",
       "      <th></th>\n",
       "      <th>datetime</th>\n",
       "      <th>week_X-2</th>\n",
       "      <th>week_X-3</th>\n",
       "      <th>week_X-4</th>\n",
       "      <th>MA_X-4</th>\n",
       "      <th>dayOfWeek</th>\n",
       "      <th>weekend</th>\n",
       "      <th>holiday</th>\n",
       "      <th>Holiday_ID</th>\n",
       "      <th>hourOfDay</th>\n",
       "      <th>T2M_toc</th>\n",
       "      <th>DEMAND</th>\n",
       "    </tr>\n",
       "  </thead>\n",
       "  <tbody>\n",
       "    <tr>\n",
       "      <th>0</th>\n",
       "      <td>2015-01-31 01:00:00</td>\n",
       "      <td>962.2865</td>\n",
       "      <td>906.9580</td>\n",
       "      <td>970.3450</td>\n",
       "      <td>938.004850</td>\n",
       "      <td>1</td>\n",
       "      <td>1</td>\n",
       "      <td>0</td>\n",
       "      <td>0</td>\n",
       "      <td>1</td>\n",
       "      <td>25.308496</td>\n",
       "      <td>954.2018</td>\n",
       "    </tr>\n",
       "    <tr>\n",
       "      <th>1</th>\n",
       "      <td>2015-01-31 02:00:00</td>\n",
       "      <td>933.3221</td>\n",
       "      <td>863.5135</td>\n",
       "      <td>912.1755</td>\n",
       "      <td>900.284075</td>\n",
       "      <td>1</td>\n",
       "      <td>1</td>\n",
       "      <td>0</td>\n",
       "      <td>0</td>\n",
       "      <td>2</td>\n",
       "      <td>25.141443</td>\n",
       "      <td>913.8660</td>\n",
       "    </tr>\n",
       "    <tr>\n",
       "      <th>2</th>\n",
       "      <td>2015-01-31 03:00:00</td>\n",
       "      <td>903.9817</td>\n",
       "      <td>848.4447</td>\n",
       "      <td>900.2688</td>\n",
       "      <td>881.704325</td>\n",
       "      <td>1</td>\n",
       "      <td>1</td>\n",
       "      <td>0</td>\n",
       "      <td>0</td>\n",
       "      <td>3</td>\n",
       "      <td>25.006738</td>\n",
       "      <td>903.3637</td>\n",
       "    </tr>\n",
       "    <tr>\n",
       "      <th>3</th>\n",
       "      <td>2015-01-31 04:00:00</td>\n",
       "      <td>900.9995</td>\n",
       "      <td>839.8821</td>\n",
       "      <td>889.9538</td>\n",
       "      <td>876.458825</td>\n",
       "      <td>1</td>\n",
       "      <td>1</td>\n",
       "      <td>0</td>\n",
       "      <td>0</td>\n",
       "      <td>4</td>\n",
       "      <td>24.899713</td>\n",
       "      <td>889.0806</td>\n",
       "    </tr>\n",
       "    <tr>\n",
       "      <th>4</th>\n",
       "      <td>2015-01-31 05:00:00</td>\n",
       "      <td>904.3481</td>\n",
       "      <td>847.1073</td>\n",
       "      <td>893.6865</td>\n",
       "      <td>879.190775</td>\n",
       "      <td>1</td>\n",
       "      <td>1</td>\n",
       "      <td>0</td>\n",
       "      <td>0</td>\n",
       "      <td>5</td>\n",
       "      <td>24.821558</td>\n",
       "      <td>910.1472</td>\n",
       "    </tr>\n",
       "  </tbody>\n",
       "</table>\n",
       "</div>"
      ],
      "text/plain": [
       "             datetime  week_X-2  week_X-3  week_X-4      MA_X-4  dayOfWeek  \\\n",
       "0 2015-01-31 01:00:00  962.2865  906.9580  970.3450  938.004850          1   \n",
       "1 2015-01-31 02:00:00  933.3221  863.5135  912.1755  900.284075          1   \n",
       "2 2015-01-31 03:00:00  903.9817  848.4447  900.2688  881.704325          1   \n",
       "3 2015-01-31 04:00:00  900.9995  839.8821  889.9538  876.458825          1   \n",
       "4 2015-01-31 05:00:00  904.3481  847.1073  893.6865  879.190775          1   \n",
       "\n",
       "   weekend  holiday  Holiday_ID  hourOfDay    T2M_toc    DEMAND  \n",
       "0        1        0           0          1  25.308496  954.2018  \n",
       "1        1        0           0          2  25.141443  913.8660  \n",
       "2        1        0           0          3  25.006738  903.3637  \n",
       "3        1        0           0          4  24.899713  889.0806  \n",
       "4        1        0           0          5  24.821558  910.1472  "
      ]
     },
     "execution_count": 13,
     "metadata": {},
     "output_type": "execute_result"
    }
   ],
   "source": [
    "df.head()"
   ]
  },
  {
   "cell_type": "code",
   "execution_count": 15,
   "id": "d37cadc5",
   "metadata": {},
   "outputs": [],
   "source": [
    "df.to_csv('Values_handaled.csv',index = False)"
   ]
  }
 ],
 "metadata": {
  "kernelspec": {
   "display_name": "Python 3 (ipykernel)",
   "language": "python",
   "name": "python3"
  },
  "language_info": {
   "codemirror_mode": {
    "name": "ipython",
    "version": 3
   },
   "file_extension": ".py",
   "mimetype": "text/x-python",
   "name": "python",
   "nbconvert_exporter": "python",
   "pygments_lexer": "ipython3",
   "version": "3.7.13"
  }
 },
 "nbformat": 4,
 "nbformat_minor": 5
}
