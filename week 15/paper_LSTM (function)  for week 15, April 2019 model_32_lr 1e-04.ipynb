{
 "cells": [
  {
   "cell_type": "code",
   "execution_count": 1,
   "id": "7c296687",
   "metadata": {},
   "outputs": [],
   "source": [
    "import os\n",
    "os.chdir('libraries for functions')"
   ]
  },
  {
   "cell_type": "code",
   "execution_count": 2,
   "id": "7e94e3bb",
   "metadata": {},
   "outputs": [],
   "source": [
    "import os\n",
    "os.chdir('pyimagesearch')"
   ]
  },
  {
   "cell_type": "code",
   "execution_count": 3,
   "id": "d70e3d98",
   "metadata": {},
   "outputs": [],
   "source": [
    "import pandas as pd\n",
    "import numpy as np\n",
    "import os\n",
    "import tensorflow as tf\n",
    "import matplotlib.pyplot as plt\n",
    "import matplotlib as mpl\n",
    "from tensorflow.keras import datasets, layers, models\n",
    "import datetime\n",
    "from keras.layers import Dense, LSTM, GRU, Activation, Conv1D\n",
    "from keras.preprocessing.sequence import TimeseriesGenerator\n",
    "from sklearn.preprocessing import MinMaxScaler, StandardScaler\n",
    "from sklearn.model_selection import train_test_split\n",
    "import calendar\n",
    "import datetime as dt\n",
    "from datetime import timedelta, date\n",
    "from pprint import pprint\n",
    "\n",
    "from sklearn.pipeline import Pipeline\n",
    "from sklearn.preprocessing import MinMaxScaler\n",
    "from sklearn.neighbors import KNeighborsRegressor\n",
    "from sklearn.model_selection import cross_val_score\n",
    "from sklearn.metrics import mean_squared_error\n",
    "import joblib\n",
    "from tensorflow.keras.callbacks import ModelCheckpoint\n",
    "from tensorflow.keras.optimizers import Adam\n",
    "from tensorflow.keras.optimizers import SGD\n",
    "from tensorflow.keras.models import load_model\n",
    "from tensorflow.keras.layers import LSTM\n",
    "from tensorflow.keras.layers import BatchNormalization\n",
    "from tensorflow.keras.layers import Conv1D,TimeDistributed\n",
    "from tensorflow.keras.layers import Dense, Dropout, Activation, Flatten,MaxPooling1D,Concatenate,AveragePooling1D, GlobalMaxPooling1D\n",
    "from tensorflow.keras.models import Sequential,Model\n",
    "import pandas as pd\n",
    "import numpy as np\n",
    "import tensorflow.keras.backend as K\n",
    "import tensorflow\n",
    "from tensorflow.keras.layers import Input, Reshape, Dense, Lambda\n",
    "from tensorflow.keras.layers import Layer, Flatten, LeakyReLU, concatenate\n",
    "from tensorflow.keras.regularizers import l2\n",
    "import pickle\n",
    "\n",
    "from scipy.stats import randint as sp_randint\n",
    "from time import time\n",
    "import pickle\n",
    "\n",
    "import warnings\n",
    "warnings.filterwarnings('ignore')"
   ]
  },
  {
   "cell_type": "code",
   "execution_count": 22,
   "id": "c06534e9",
   "metadata": {},
   "outputs": [],
   "source": [
    "from timeseires.CNN1D.GoogLeNet1D import PC\n",
    "from timeseires.utils.to_split import to_split\n",
    "from timeseires.callbacks.EpochCheckpoint import EpochCheckpoint\n",
    "from tensorflow.keras.callbacks import ModelCheckpoint\n",
    "from timeseires.callbacks.TrainingMonitor import TrainingMonitor\n",
    "from tensorflow.keras.optimizers import Adam\n",
    "from tensorflow.keras.optimizers import SGD\n",
    "from tensorflow.keras.models import load_model\n",
    "from tensorflow.keras.layers import LSTM\n",
    "from tensorflow.keras.layers import BatchNormalization\n",
    "from tensorflow.keras.layers import Conv1D,TimeDistributed\n",
    "from tensorflow.keras.layers import Dense, Dropout, Activation, Flatten,MaxPooling1D,Concatenate,AveragePooling1D, GlobalMaxPooling1D\n",
    "from tensorflow.keras.models import Sequential,Model\n",
    "import pandas as pd\n",
    "import time\n",
    "import numpy as np\n",
    "import tensorflow.keras.backend as K\n",
    "import tensorflow\n",
    "from tensorflow.keras.layers import Input, Reshape, Dense, Lambda\n",
    "from tensorflow.keras.layers import Layer, Flatten, LeakyReLU, concatenate\n",
    "from tensorflow.keras.regularizers import l2\n",
    "import pickle"
   ]
  },
  {
   "cell_type": "code",
   "execution_count": 23,
   "id": "be8f535f",
   "metadata": {},
   "outputs": [],
   "source": [
    "time_steps=72\n",
    "num_features=14"
   ]
  },
  {
   "cell_type": "code",
   "execution_count": 24,
   "id": "b0ce96b5",
   "metadata": {},
   "outputs": [],
   "source": [
    "def lstm():\n",
    "    inputs = Input(shape=(time_steps, num_features))\n",
    "    x = LSTM(48,return_sequences=True)(inputs)\n",
    "    x = LSTM(16)(x)   \n",
    "    x = Dense(10)(x)\n",
    "    x = Activation(\"relu\")(x)\n",
    "    x = Dense(1)(x)\n",
    "    model = Model(inputs, x)\n",
    "    return model"
   ]
  },
  {
   "cell_type": "code",
   "execution_count": 25,
   "id": "c4041c1b",
   "metadata": {},
   "outputs": [
    {
     "name": "stdout",
     "output_type": "stream",
     "text": [
      "Model: \"model_2\"\n",
      "_________________________________________________________________\n",
      " Layer (type)                Output Shape              Param #   \n",
      "=================================================================\n",
      " input_3 (InputLayer)        [(None, 72, 14)]          0         \n",
      "                                                                 \n",
      " lstm_4 (LSTM)               (None, 72, 48)            12096     \n",
      "                                                                 \n",
      " lstm_5 (LSTM)               (None, 16)                4160      \n",
      "                                                                 \n",
      " dense_4 (Dense)             (None, 10)                170       \n",
      "                                                                 \n",
      " activation_2 (Activation)   (None, 10)                0         \n",
      "                                                                 \n",
      " dense_5 (Dense)             (None, 1)                 11        \n",
      "                                                                 \n",
      "=================================================================\n",
      "Total params: 16,437\n",
      "Trainable params: 16,437\n",
      "Non-trainable params: 0\n",
      "_________________________________________________________________\n"
     ]
    }
   ],
   "source": [
    "model = lstm()\n",
    "model.summary()"
   ]
  },
  {
   "cell_type": "code",
   "execution_count": 26,
   "id": "7381e51f",
   "metadata": {},
   "outputs": [],
   "source": [
    "checkpoints = 'Ihsan_Final checkpoints for 1st Dataset_lstm_32_lr 1e-04/E1-cp-{epoch:04d}-loss{val_loss:.2f}.h5'\n",
    "OUTPUT_PATH = 'Ihsan_Final checkpoints for 1st Dataset_lstm_32_lr 1e-04'\n",
    "FIG_PATH = os.path.sep.join([OUTPUT_PATH,\"history.png\"])\n",
    "JSON_PATH = os.path.sep.join([OUTPUT_PATH,\"history.json\"])"
   ]
  },
  {
   "cell_type": "code",
   "execution_count": 27,
   "id": "97d139ce",
   "metadata": {},
   "outputs": [],
   "source": [
    "model = None\n",
    "start_epoch = 0\n",
    "time_steps=72\n",
    "num_features=14"
   ]
  },
  {
   "cell_type": "code",
   "execution_count": 28,
   "id": "bd5c3887",
   "metadata": {},
   "outputs": [],
   "source": [
    "# construct the callback to save only the *best* model to disk\n",
    "# based on the validation loss\n",
    "EpochCheckpoint1 = ModelCheckpoint(checkpoints,\n",
    "                             monitor=\"val_loss\",\n",
    "                             save_best_only=True, \n",
    "                             verbose=1)\n",
    "TrainingMonitor1=TrainingMonitor(FIG_PATH, jsonPath=JSON_PATH, startAt=start_epoch)\n",
    "\n",
    "# construct the set of callbacks\n",
    "callbacks = [EpochCheckpoint1,TrainingMonitor1]"
   ]
  },
  {
   "cell_type": "code",
   "execution_count": 29,
   "id": "d1dd898c",
   "metadata": {},
   "outputs": [
    {
     "name": "stdout",
     "output_type": "stream",
     "text": [
      "[INFO] compiling model...\n"
     ]
    }
   ],
   "source": [
    "# if there is no specific model checkpoint supplied, then initialize\n",
    "# the network and compile the model\n",
    "if model is None:\n",
    "    print(\"[INFO] compiling model...\")\n",
    "    model = lstm()\n",
    "    opt = Adam(1e-4)\n",
    "    model.compile(loss= 'mae', optimizer='adam', metrics=[\"mae\", \"mape\"])\n",
    "# otherwise, load the checkpoint from disk\n",
    "else:\n",
    "    print(\"[INFO] loading {}...\".format(model))\n",
    "    model = load_model(model)\n",
    "\n",
    "    # update the learning rate\n",
    "    print(\"[INFO] old learning rate: {}\".format(K.get_value(model.optimizer.lr)))\n",
    "    K.set_value(model.optimizer.lr, 1e-1)\n",
    "    print(\"[INFO] new learning rate: {}\".format(K.get_value(model.optimizer.lr)))"
   ]
  },
  {
   "cell_type": "code",
   "execution_count": 30,
   "id": "57df2001",
   "metadata": {},
   "outputs": [],
   "source": [
    "df_tr=pd.read_csv('train_Normalized.csv')\n",
    "train_set = df_tr[:].values "
   ]
  },
  {
   "cell_type": "code",
   "execution_count": 31,
   "id": "018ff29b",
   "metadata": {},
   "outputs": [],
   "source": [
    "df_v = pd.read_csv('validation_Normalized.csv')\n",
    "validation_set = df_v[:].values\n",
    "\n",
    "df_te = pd.read_csv('test_Normalized.csv')\n",
    "test_set = df_te[:].values \n",
    "scaler = pickle.load(open(\"scaler.pkl\", 'rb'))"
   ]
  },
  {
   "cell_type": "code",
   "execution_count": 32,
   "id": "3a8ec275",
   "metadata": {},
   "outputs": [
    {
     "name": "stdout",
     "output_type": "stream",
     "text": [
      "Time Consumed 0.24151945114135742 sec\n"
     ]
    }
   ],
   "source": [
    "start = time.time()\n",
    "train_X , train_y = to_split(train_set, time_steps=time_steps, target_col=0, target_len=1)\n",
    "validation_X, validation_y = to_split(validation_set, time_steps=time_steps, target_col=0, target_len=1)\n",
    "test_X, test_y = to_split(test_set, time_steps=time_steps, target_col=0, target_len=1)\n",
    "print('Time Consumed', time.time()-start, \"sec\")"
   ]
  },
  {
   "cell_type": "code",
   "execution_count": 33,
   "id": "b739a318",
   "metadata": {},
   "outputs": [
    {
     "data": {
      "text/plain": [
       "((29304, 72, 14), (7272, 72, 14))"
      ]
     },
     "execution_count": 33,
     "metadata": {},
     "output_type": "execute_result"
    }
   ],
   "source": [
    "train_X.shape,validation_X.shape"
   ]
  },
  {
   "cell_type": "code",
   "execution_count": 40,
   "id": "3c3ccfaa",
   "metadata": {},
   "outputs": [
    {
     "name": "stdout",
     "output_type": "stream",
     "text": [
      "Epoch 1/50\n",
      "916/916 [==============================] - ETA: 0s - loss: 0.0123 - mae: 0.0123 - mape: 23403.8379\n",
      "Epoch 1: val_loss did not improve from 0.01157\n",
      "916/916 [==============================] - 63s 66ms/step - loss: 0.0123 - mae: 0.0123 - mape: 23403.8379 - val_loss: 0.0119 - val_mae: 0.0119 - val_mape: 2.0857\n",
      "Epoch 2/50\n",
      "916/916 [==============================] - ETA: 0s - loss: 0.0123 - mae: 0.0123 - mape: 24102.1387\n",
      "Epoch 2: val_loss did not improve from 0.01157\n",
      "916/916 [==============================] - 59s 64ms/step - loss: 0.0123 - mae: 0.0123 - mape: 24102.1387 - val_loss: 0.0117 - val_mae: 0.0117 - val_mape: 2.0325\n",
      "Epoch 3/50\n",
      "916/916 [==============================] - ETA: 0s - loss: 0.0122 - mae: 0.0122 - mape: 23777.7520\n",
      "Epoch 3: val_loss did not improve from 0.01157\n",
      "916/916 [==============================] - 59s 65ms/step - loss: 0.0122 - mae: 0.0122 - mape: 23777.7520 - val_loss: 0.0135 - val_mae: 0.0135 - val_mape: 2.3120\n",
      "Epoch 4/50\n",
      "916/916 [==============================] - ETA: 0s - loss: 0.0123 - mae: 0.0123 - mape: 23805.9297\n",
      "Epoch 4: val_loss did not improve from 0.01157\n",
      "916/916 [==============================] - 59s 65ms/step - loss: 0.0123 - mae: 0.0123 - mape: 23805.9297 - val_loss: 0.0139 - val_mae: 0.0139 - val_mape: 2.4825\n",
      "Epoch 5/50\n",
      "916/916 [==============================] - ETA: 0s - loss: 0.0124 - mae: 0.0124 - mape: 24014.6758\n",
      "Epoch 5: val_loss did not improve from 0.01157\n",
      "916/916 [==============================] - 59s 64ms/step - loss: 0.0124 - mae: 0.0124 - mape: 24014.6758 - val_loss: 0.0125 - val_mae: 0.0125 - val_mape: 2.1605\n",
      "Epoch 6/50\n",
      "916/916 [==============================] - ETA: 0s - loss: 0.0122 - mae: 0.0122 - mape: 24026.7266\n",
      "Epoch 6: val_loss did not improve from 0.01157\n",
      "916/916 [==============================] - 59s 65ms/step - loss: 0.0122 - mae: 0.0122 - mape: 24026.7266 - val_loss: 0.0116 - val_mae: 0.0116 - val_mape: 2.0258\n",
      "Epoch 7/50\n",
      "916/916 [==============================] - ETA: 0s - loss: 0.0122 - mae: 0.0122 - mape: 23709.9863\n",
      "Epoch 7: val_loss did not improve from 0.01157\n",
      "916/916 [==============================] - 58s 64ms/step - loss: 0.0122 - mae: 0.0122 - mape: 23709.9863 - val_loss: 0.0132 - val_mae: 0.0132 - val_mape: 2.3210\n",
      "Epoch 8/50\n",
      "916/916 [==============================] - ETA: 0s - loss: 0.0122 - mae: 0.0122 - mape: 23541.6133\n",
      "Epoch 8: val_loss improved from 0.01157 to 0.01121, saving model to Ihsan_Final checkpoints for 1st Dataset_lstm_32_lr 1e-04/E1-cp-0008-loss0.01.h5\n",
      "916/916 [==============================] - 59s 64ms/step - loss: 0.0122 - mae: 0.0122 - mape: 23541.6133 - val_loss: 0.0112 - val_mae: 0.0112 - val_mape: 1.9518\n",
      "Epoch 9/50\n",
      "916/916 [==============================] - ETA: 0s - loss: 0.0120 - mae: 0.0120 - mape: 24151.4277\n",
      "Epoch 9: val_loss did not improve from 0.01121\n",
      "916/916 [==============================] - 59s 65ms/step - loss: 0.0120 - mae: 0.0120 - mape: 24151.4277 - val_loss: 0.0115 - val_mae: 0.0115 - val_mape: 2.0284\n",
      "Epoch 10/50\n",
      "916/916 [==============================] - ETA: 0s - loss: 0.0121 - mae: 0.0121 - mape: 23849.0723\n",
      "Epoch 10: val_loss did not improve from 0.01121\n",
      "916/916 [==============================] - 58s 64ms/step - loss: 0.0121 - mae: 0.0121 - mape: 23849.0723 - val_loss: 0.0119 - val_mae: 0.0119 - val_mape: 2.0856\n",
      "Epoch 11/50\n",
      "916/916 [==============================] - ETA: 0s - loss: 0.0120 - mae: 0.0120 - mape: 23716.2168\n",
      "Epoch 11: val_loss did not improve from 0.01121\n",
      "916/916 [==============================] - 59s 65ms/step - loss: 0.0120 - mae: 0.0120 - mape: 23716.2168 - val_loss: 0.0125 - val_mae: 0.0125 - val_mape: 2.1727\n",
      "Epoch 12/50\n",
      "916/916 [==============================] - ETA: 0s - loss: 0.0120 - mae: 0.0120 - mape: 23470.8047\n",
      "Epoch 12: val_loss improved from 0.01121 to 0.01116, saving model to Ihsan_Final checkpoints for 1st Dataset_lstm_32_lr 1e-04/E1-cp-0012-loss0.01.h5\n",
      "916/916 [==============================] - 59s 65ms/step - loss: 0.0120 - mae: 0.0120 - mape: 23470.8047 - val_loss: 0.0112 - val_mae: 0.0112 - val_mape: 1.9549\n",
      "Epoch 13/50\n",
      "916/916 [==============================] - ETA: 0s - loss: 0.0119 - mae: 0.0119 - mape: 23788.1914\n",
      "Epoch 13: val_loss did not improve from 0.01116\n",
      "916/916 [==============================] - 59s 64ms/step - loss: 0.0119 - mae: 0.0119 - mape: 23788.1914 - val_loss: 0.0121 - val_mae: 0.0121 - val_mape: 2.0964\n",
      "Epoch 14/50\n",
      "916/916 [==============================] - ETA: 0s - loss: 0.0119 - mae: 0.0119 - mape: 24437.7500\n",
      "Epoch 14: val_loss did not improve from 0.01116\n",
      "916/916 [==============================] - 59s 65ms/step - loss: 0.0119 - mae: 0.0119 - mape: 24437.7500 - val_loss: 0.0122 - val_mae: 0.0122 - val_mape: 2.1538\n",
      "Epoch 15/50\n",
      "916/916 [==============================] - ETA: 0s - loss: 0.0120 - mae: 0.0120 - mape: 23799.0078\n",
      "Epoch 15: val_loss did not improve from 0.01116\n",
      "916/916 [==============================] - 59s 65ms/step - loss: 0.0120 - mae: 0.0120 - mape: 23799.0078 - val_loss: 0.0121 - val_mae: 0.0121 - val_mape: 2.1126\n",
      "Epoch 16/50\n",
      "916/916 [==============================] - ETA: 0s - loss: 0.0119 - mae: 0.0119 - mape: 23731.4180\n",
      "Epoch 16: val_loss did not improve from 0.01116\n",
      "916/916 [==============================] - 59s 64ms/step - loss: 0.0119 - mae: 0.0119 - mape: 23731.4180 - val_loss: 0.0114 - val_mae: 0.0114 - val_mape: 1.9739\n",
      "Epoch 17/50\n",
      "916/916 [==============================] - ETA: 0s - loss: 0.0119 - mae: 0.0119 - mape: 23827.9844\n",
      "Epoch 17: val_loss improved from 0.01116 to 0.01114, saving model to Ihsan_Final checkpoints for 1st Dataset_lstm_32_lr 1e-04/E1-cp-0017-loss0.01.h5\n",
      "916/916 [==============================] - 59s 65ms/step - loss: 0.0119 - mae: 0.0119 - mape: 23827.9844 - val_loss: 0.0111 - val_mae: 0.0111 - val_mape: 1.9487\n",
      "Epoch 18/50\n",
      "916/916 [==============================] - ETA: 0s - loss: 0.0120 - mae: 0.0120 - mape: 23484.9375\n",
      "Epoch 18: val_loss improved from 0.01114 to 0.01096, saving model to Ihsan_Final checkpoints for 1st Dataset_lstm_32_lr 1e-04/E1-cp-0018-loss0.01.h5\n",
      "916/916 [==============================] - 59s 64ms/step - loss: 0.0120 - mae: 0.0120 - mape: 23484.9375 - val_loss: 0.0110 - val_mae: 0.0110 - val_mape: 1.9220\n",
      "Epoch 19/50\n",
      "916/916 [==============================] - ETA: 0s - loss: 0.0118 - mae: 0.0118 - mape: 23371.4219\n",
      "Epoch 19: val_loss did not improve from 0.01096\n",
      "916/916 [==============================] - 59s 65ms/step - loss: 0.0118 - mae: 0.0118 - mape: 23371.4219 - val_loss: 0.0112 - val_mae: 0.0112 - val_mape: 1.9543\n",
      "Epoch 20/50\n",
      "916/916 [==============================] - ETA: 0s - loss: 0.0118 - mae: 0.0118 - mape: 24141.9141\n",
      "Epoch 20: val_loss did not improve from 0.01096\n",
      "916/916 [==============================] - 59s 65ms/step - loss: 0.0118 - mae: 0.0118 - mape: 24141.9141 - val_loss: 0.0117 - val_mae: 0.0117 - val_mape: 2.0349\n",
      "Epoch 21/50\n",
      "916/916 [==============================] - ETA: 0s - loss: 0.0118 - mae: 0.0118 - mape: 23606.2598\n",
      "Epoch 21: val_loss did not improve from 0.01096\n",
      "916/916 [==============================] - 59s 65ms/step - loss: 0.0118 - mae: 0.0118 - mape: 23606.2598 - val_loss: 0.0118 - val_mae: 0.0118 - val_mape: 2.0977\n",
      "Epoch 22/50\n",
      "916/916 [==============================] - ETA: 0s - loss: 0.0119 - mae: 0.0119 - mape: 23916.4023\n",
      "Epoch 22: val_loss did not improve from 0.01096\n",
      "916/916 [==============================] - 60s 65ms/step - loss: 0.0119 - mae: 0.0119 - mape: 23916.4023 - val_loss: 0.0135 - val_mae: 0.0135 - val_mape: 2.2914\n",
      "Epoch 23/50\n",
      "916/916 [==============================] - ETA: 0s - loss: 0.0117 - mae: 0.0117 - mape: 23771.2637\n",
      "Epoch 23: val_loss did not improve from 0.01096\n",
      "916/916 [==============================] - 59s 65ms/step - loss: 0.0117 - mae: 0.0117 - mape: 23771.2637 - val_loss: 0.0119 - val_mae: 0.0119 - val_mape: 2.0426\n",
      "Epoch 24/50\n",
      "916/916 [==============================] - ETA: 0s - loss: 0.0117 - mae: 0.0117 - mape: 23920.0000\n",
      "Epoch 24: val_loss did not improve from 0.01096\n",
      "916/916 [==============================] - 59s 65ms/step - loss: 0.0117 - mae: 0.0117 - mape: 23920.0000 - val_loss: 0.0117 - val_mae: 0.0117 - val_mape: 2.0441\n",
      "Epoch 25/50\n",
      "916/916 [==============================] - ETA: 0s - loss: 0.0118 - mae: 0.0118 - mape: 24267.1348\n",
      "Epoch 25: val_loss did not improve from 0.01096\n",
      "916/916 [==============================] - 59s 65ms/step - loss: 0.0118 - mae: 0.0118 - mape: 24267.1348 - val_loss: 0.0114 - val_mae: 0.0114 - val_mape: 1.9854\n",
      "Epoch 26/50\n",
      "916/916 [==============================] - ETA: 0s - loss: 0.0117 - mae: 0.0117 - mape: 23943.5312\n",
      "Epoch 26: val_loss did not improve from 0.01096\n",
      "916/916 [==============================] - 59s 64ms/step - loss: 0.0117 - mae: 0.0117 - mape: 23943.5312 - val_loss: 0.0112 - val_mae: 0.0112 - val_mape: 1.9516\n",
      "Epoch 27/50\n",
      "916/916 [==============================] - ETA: 0s - loss: 0.0118 - mae: 0.0118 - mape: 23737.2402\n",
      "Epoch 27: val_loss did not improve from 0.01096\n",
      "916/916 [==============================] - 59s 65ms/step - loss: 0.0118 - mae: 0.0118 - mape: 23737.2402 - val_loss: 0.0115 - val_mae: 0.0115 - val_mape: 1.9914\n",
      "Epoch 28/50\n",
      "916/916 [==============================] - ETA: 0s - loss: 0.0117 - mae: 0.0117 - mape: 24191.9082\n",
      "Epoch 28: val_loss did not improve from 0.01096\n",
      "916/916 [==============================] - 59s 64ms/step - loss: 0.0117 - mae: 0.0117 - mape: 24191.9082 - val_loss: 0.0130 - val_mae: 0.0130 - val_mape: 2.1986\n",
      "Epoch 29/50\n",
      "916/916 [==============================] - ETA: 0s - loss: 0.0118 - mae: 0.0118 - mape: 23621.3652\n",
      "Epoch 29: val_loss did not improve from 0.01096\n",
      "916/916 [==============================] - 59s 65ms/step - loss: 0.0118 - mae: 0.0118 - mape: 23621.3652 - val_loss: 0.0132 - val_mae: 0.0132 - val_mape: 2.3013\n",
      "Epoch 30/50\n",
      "916/916 [==============================] - ETA: 0s - loss: 0.0117 - mae: 0.0117 - mape: 23835.6934\n",
      "Epoch 30: val_loss did not improve from 0.01096\n",
      "916/916 [==============================] - 59s 64ms/step - loss: 0.0117 - mae: 0.0117 - mape: 23835.6934 - val_loss: 0.0120 - val_mae: 0.0120 - val_mape: 2.0878\n",
      "Epoch 31/50\n",
      "916/916 [==============================] - ETA: 0s - loss: 0.0117 - mae: 0.0117 - mape: 23813.5762\n",
      "Epoch 31: val_loss did not improve from 0.01096\n",
      "916/916 [==============================] - 59s 65ms/step - loss: 0.0117 - mae: 0.0117 - mape: 23813.5762 - val_loss: 0.0112 - val_mae: 0.0112 - val_mape: 1.9723\n",
      "Epoch 32/50\n",
      "916/916 [==============================] - ETA: 0s - loss: 0.0116 - mae: 0.0116 - mape: 23498.1602\n",
      "Epoch 32: val_loss did not improve from 0.01096\n",
      "916/916 [==============================] - 59s 64ms/step - loss: 0.0116 - mae: 0.0116 - mape: 23498.1602 - val_loss: 0.0119 - val_mae: 0.0119 - val_mape: 2.0951\n",
      "Epoch 33/50\n",
      "916/916 [==============================] - ETA: 0s - loss: 0.0116 - mae: 0.0116 - mape: 24081.0723\n",
      "Epoch 33: val_loss did not improve from 0.01096\n",
      "916/916 [==============================] - 60s 65ms/step - loss: 0.0116 - mae: 0.0116 - mape: 24081.0723 - val_loss: 0.0117 - val_mae: 0.0117 - val_mape: 2.0517\n",
      "Epoch 34/50\n",
      "916/916 [==============================] - ETA: 0s - loss: 0.0116 - mae: 0.0116 - mape: 23984.5625\n",
      "Epoch 34: val_loss did not improve from 0.01096\n",
      "916/916 [==============================] - 59s 64ms/step - loss: 0.0116 - mae: 0.0116 - mape: 23984.5625 - val_loss: 0.0110 - val_mae: 0.0110 - val_mape: 1.9145\n",
      "Epoch 35/50\n",
      "916/916 [==============================] - ETA: 0s - loss: 0.0116 - mae: 0.0116 - mape: 24028.2500\n",
      "Epoch 35: val_loss did not improve from 0.01096\n",
      "916/916 [==============================] - 60s 65ms/step - loss: 0.0116 - mae: 0.0116 - mape: 24028.2500 - val_loss: 0.0115 - val_mae: 0.0115 - val_mape: 2.0073\n",
      "Epoch 36/50\n",
      "916/916 [==============================] - ETA: 0s - loss: 0.0115 - mae: 0.0115 - mape: 24015.2129\n",
      "Epoch 36: val_loss did not improve from 0.01096\n",
      "916/916 [==============================] - 59s 64ms/step - loss: 0.0115 - mae: 0.0115 - mape: 24015.2129 - val_loss: 0.0111 - val_mae: 0.0111 - val_mape: 1.9458\n",
      "Epoch 37/50\n",
      "916/916 [==============================] - ETA: 0s - loss: 0.0115 - mae: 0.0115 - mape: 23788.3418\n",
      "Epoch 37: val_loss did not improve from 0.01096\n",
      "916/916 [==============================] - 59s 65ms/step - loss: 0.0115 - mae: 0.0115 - mape: 23788.3418 - val_loss: 0.0142 - val_mae: 0.0142 - val_mape: 2.4493\n",
      "Epoch 38/50\n",
      "916/916 [==============================] - ETA: 0s - loss: 0.0116 - mae: 0.0116 - mape: 23708.3086\n",
      "Epoch 38: val_loss did not improve from 0.01096\n",
      "916/916 [==============================] - 60s 65ms/step - loss: 0.0116 - mae: 0.0116 - mape: 23708.3086 - val_loss: 0.0113 - val_mae: 0.0113 - val_mape: 1.9921\n",
      "Epoch 39/50\n",
      "916/916 [==============================] - ETA: 0s - loss: 0.0116 - mae: 0.0116 - mape: 23833.4844\n",
      "Epoch 39: val_loss did not improve from 0.01096\n",
      "916/916 [==============================] - 59s 64ms/step - loss: 0.0116 - mae: 0.0116 - mape: 23833.4844 - val_loss: 0.0111 - val_mae: 0.0111 - val_mape: 1.9394\n",
      "Epoch 40/50\n",
      "916/916 [==============================] - ETA: 0s - loss: 0.0116 - mae: 0.0116 - mape: 24117.9375\n",
      "Epoch 40: val_loss did not improve from 0.01096\n",
      "916/916 [==============================] - 59s 64ms/step - loss: 0.0116 - mae: 0.0116 - mape: 24117.9375 - val_loss: 0.0112 - val_mae: 0.0112 - val_mape: 1.9484\n",
      "Epoch 41/50\n",
      "916/916 [==============================] - ETA: 0s - loss: 0.0116 - mae: 0.0116 - mape: 24302.5273\n",
      "Epoch 41: val_loss did not improve from 0.01096\n",
      "916/916 [==============================] - 59s 65ms/step - loss: 0.0116 - mae: 0.0116 - mape: 24302.5273 - val_loss: 0.0117 - val_mae: 0.0117 - val_mape: 2.0593\n",
      "Epoch 42/50\n",
      "916/916 [==============================] - ETA: 0s - loss: 0.0115 - mae: 0.0115 - mape: 23906.9121\n",
      "Epoch 42: val_loss did not improve from 0.01096\n",
      "916/916 [==============================] - 59s 65ms/step - loss: 0.0115 - mae: 0.0115 - mape: 23906.9121 - val_loss: 0.0115 - val_mae: 0.0115 - val_mape: 2.0096\n",
      "Epoch 43/50\n",
      "916/916 [==============================] - ETA: 0s - loss: 0.0115 - mae: 0.0115 - mape: 23940.3574\n",
      "Epoch 43: val_loss did not improve from 0.01096\n",
      "916/916 [==============================] - 58s 63ms/step - loss: 0.0115 - mae: 0.0115 - mape: 23940.3574 - val_loss: 0.0112 - val_mae: 0.0112 - val_mape: 1.9529\n",
      "Epoch 44/50\n",
      "916/916 [==============================] - ETA: 0s - loss: 0.0114 - mae: 0.0114 - mape: 23534.8027\n",
      "Epoch 44: val_loss did not improve from 0.01096\n",
      "916/916 [==============================] - 56s 62ms/step - loss: 0.0114 - mae: 0.0114 - mape: 23534.8027 - val_loss: 0.0110 - val_mae: 0.0110 - val_mape: 1.9290\n",
      "Epoch 45/50\n",
      "916/916 [==============================] - ETA: 0s - loss: 0.0114 - mae: 0.0114 - mape: 24094.7676\n",
      "Epoch 45: val_loss did not improve from 0.01096\n",
      "916/916 [==============================] - 56s 61ms/step - loss: 0.0114 - mae: 0.0114 - mape: 24094.7676 - val_loss: 0.0121 - val_mae: 0.0121 - val_mape: 2.1698\n",
      "Epoch 46/50\n",
      "915/916 [============================>.] - ETA: 0s - loss: 0.0113 - mae: 0.0113 - mape: 23689.8379\n",
      "Epoch 46: val_loss improved from 0.01096 to 0.01088, saving model to Ihsan_Final checkpoints for 1st Dataset_lstm_32_lr 1e-04/E1-cp-0046-loss0.01.h5\n",
      "916/916 [==============================] - 56s 61ms/step - loss: 0.0113 - mae: 0.0113 - mape: 23670.4375 - val_loss: 0.0109 - val_mae: 0.0109 - val_mape: 1.9008\n",
      "Epoch 47/50\n",
      "916/916 [==============================] - ETA: 0s - loss: 0.0114 - mae: 0.0114 - mape: 24042.5137\n",
      "Epoch 47: val_loss did not improve from 0.01088\n",
      "916/916 [==============================] - 56s 61ms/step - loss: 0.0114 - mae: 0.0114 - mape: 24042.5137 - val_loss: 0.0115 - val_mae: 0.0115 - val_mape: 2.0048\n",
      "Epoch 48/50\n",
      "916/916 [==============================] - ETA: 0s - loss: 0.0114 - mae: 0.0114 - mape: 23707.5664\n",
      "Epoch 48: val_loss did not improve from 0.01088\n",
      "916/916 [==============================] - 56s 62ms/step - loss: 0.0114 - mae: 0.0114 - mape: 23707.5664 - val_loss: 0.0110 - val_mae: 0.0110 - val_mape: 1.9165\n",
      "Epoch 49/50\n",
      "916/916 [==============================] - ETA: 0s - loss: 0.0113 - mae: 0.0113 - mape: 23675.5527\n",
      "Epoch 49: val_loss did not improve from 0.01088\n",
      "916/916 [==============================] - 55s 60ms/step - loss: 0.0113 - mae: 0.0113 - mape: 23675.5527 - val_loss: 0.0125 - val_mae: 0.0125 - val_mape: 2.1509\n",
      "Epoch 50/50\n",
      "916/916 [==============================] - ETA: 0s - loss: 0.0115 - mae: 0.0115 - mape: 24117.4121\n",
      "Epoch 50: val_loss did not improve from 0.01088\n",
      "916/916 [==============================] - 55s 60ms/step - loss: 0.0115 - mae: 0.0115 - mape: 24117.4121 - val_loss: 0.0122 - val_mae: 0.0122 - val_mape: 2.1245\n"
     ]
    }
   ],
   "source": [
    "epochs = 50\n",
    "verbose = 1 #0\n",
    "batch_size = 32\n",
    "History = model.fit(train_X,\n",
    "                        train_y,\n",
    "                        batch_size=batch_size,   \n",
    "                        epochs = epochs, \n",
    "                        validation_data = (validation_X,validation_y),\n",
    "                        callbacks=callbacks,\n",
    "                        verbose = verbose)"
   ]
  },
  {
   "cell_type": "code",
   "execution_count": 41,
   "id": "ee9eeb5d",
   "metadata": {},
   "outputs": [],
   "source": [
    "import pickle\n",
    "model = load_model('Ihsan_Final checkpoints for 1st Dataset_lstm_32_lr 1e-04/E1-cp-0046-loss0.01.h5')"
   ]
  },
  {
   "cell_type": "code",
   "execution_count": 42,
   "id": "674fa96c",
   "metadata": {},
   "outputs": [
    {
     "name": "stdout",
     "output_type": "stream",
     "text": [
      "3/3 [==============================] - 1s 20ms/step\n"
     ]
    }
   ],
   "source": [
    "y_pred_scaled   = model.predict(test_X)"
   ]
  },
  {
   "cell_type": "code",
   "execution_count": 43,
   "id": "96527da3",
   "metadata": {},
   "outputs": [],
   "source": [
    "y_pred          = scaler.inverse_transform(y_pred_scaled)\n",
    "y_test_unscaled = scaler.inverse_transform(test_y.reshape(-1, 1))"
   ]
  },
  {
   "cell_type": "code",
   "execution_count": 44,
   "id": "a7cdbd35",
   "metadata": {},
   "outputs": [
    {
     "name": "stdout",
     "output_type": "stream",
     "text": [
      "Mean Absolute Error (MAE): 13.01\n",
      "Median Absolute Error (MedAE): 10.62\n",
      "Mean Squared Error (MSE): 275.54\n",
      "Root Mean Squared Error (RMSE): 16.6\n",
      "Mean Absolute Percentage Error (MAPE): 1.01 %\n",
      "Median Absolute Percentage Error (MDAPE): 0.89 %\n",
      "\n",
      "\n",
      "y_test_unscaled.shape=  (96, 1)\n",
      "y_pred.shape=  (96, 1)\n"
     ]
    }
   ],
   "source": [
    "# Mean Absolute Error (MAE)\n",
    "MAE = np.mean(abs(y_pred - y_test_unscaled))\n",
    "print('Mean Absolute Error (MAE): ' + str(np.round(MAE, 2)))\n",
    "\n",
    "# Median Absolute Error (MedAE)\n",
    "MEDAE = np.median(abs(y_pred - y_test_unscaled))\n",
    "print('Median Absolute Error (MedAE): ' + str(np.round(MEDAE, 2)))\n",
    "\n",
    "# Mean Squared Error (MSE)\n",
    "MSE = np.square(np.subtract(y_pred, y_test_unscaled)).mean()\n",
    "print('Mean Squared Error (MSE): ' + str(np.round(MSE, 2)))\n",
    "\n",
    "# Root Mean Squarred Error (RMSE) \n",
    "RMSE = np.sqrt(np.mean(np.square(y_pred - y_test_unscaled)))\n",
    "print('Root Mean Squared Error (RMSE): ' + str(np.round(RMSE, 2)))\n",
    "\n",
    "# Mean Absolute Percentage Error (MAPE)\n",
    "MAPE = np.mean((np.abs(np.subtract(y_test_unscaled, y_pred)/ y_test_unscaled))) * 100\n",
    "print('Mean Absolute Percentage Error (MAPE): ' + str(np.round(MAPE, 2)) + ' %')\n",
    "\n",
    "# Median Absolute Percentage Error (MDAPE)\n",
    "MDAPE = np.median((np.abs(np.subtract(y_test_unscaled, y_pred)/ y_test_unscaled))) * 100\n",
    "print('Median Absolute Percentage Error (MDAPE): ' + str(np.round(MDAPE, 2)) + ' %')\n",
    "\n",
    "print('\\n\\ny_test_unscaled.shape= ',y_test_unscaled.shape)\n",
    "print('y_pred.shape= ',y_pred.shape)"
   ]
  },
  {
   "cell_type": "code",
   "execution_count": 45,
   "id": "21d03475",
   "metadata": {},
   "outputs": [
    {
     "data": {
      "image/png": "[encoded data removed]",
      "text/plain": [
       "<Figure size 432x288 with 1 Axes>"
      ]
     },
     "metadata": {},
     "output_type": "display_data"
    }
   ],
   "source": [
    "plt.plot(y_test_unscaled, color=\"red\", linewidth=2)\n",
    "plt.plot(y_pred, color=\"black\", linewidth=2)\n",
    "plt.legend(['Actual load','Predicted LSTM'])\n",
    "plt.ylabel('Load MWh')\n",
    "plt.xlabel('Hourly samples')\n",
    "plt.show()"
   ]
  },
  {
   "cell_type": "code",
   "execution_count": null,
   "id": "14430012",
   "metadata": {},
   "outputs": [],
   "source": []
  }
 ],
 "metadata": {
  "kernelspec": {
   "display_name": "Python [conda env:.conda-jupyter-2022-07-22] *",
   "language": "python",
   "name": "conda-env-.conda-jupyter-2022-07-22-py"
  },
  "language_info": {
   "codemirror_mode": {
    "name": "ipython",
    "version": 3
   },
   "file_extension": ".py",
   "mimetype": "text/x-python",
   "name": "python",
   "nbconvert_exporter": "python",
   "pygments_lexer": "ipython3",
   "version": "3.10.5"
  }
 },
 "nbformat": 4,
 "nbformat_minor": 5
}
