{
 "cells": [
  {
   "cell_type": "code",
   "execution_count": 1,
   "id": "be76588a",
   "metadata": {},
   "outputs": [],
   "source": [
    "import os\n",
    "os.chdir('libraries for functions')"
   ]
  },
  {
   "cell_type": "code",
   "execution_count": 2,
   "id": "7e94e3bb",
   "metadata": {},
   "outputs": [],
   "source": [
    "import os\n",
    "os.chdir('pyimagesearch')"
   ]
  },
  {
   "cell_type": "code",
   "execution_count": 17,
   "id": "d70e3d98",
   "metadata": {},
   "outputs": [],
   "source": [
    "import pandas as pd\n",
    "import numpy as np\n",
    "import os\n",
    "import tensorflow as tf\n",
    "import matplotlib.pyplot as plt\n",
    "import matplotlib as mpl\n",
    "from tensorflow.keras import datasets, layers, models\n",
    "import datetime\n",
    "from keras.layers import Dense, LSTM, GRU, Activation, Conv1D\n",
    "from keras.preprocessing.sequence import TimeseriesGenerator\n",
    "from sklearn.preprocessing import MinMaxScaler, StandardScaler\n",
    "from sklearn.model_selection import train_test_split\n",
    "import calendar\n",
    "import datetime as dt\n",
    "from datetime import timedelta, date\n",
    "from pprint import pprint\n",
    "\n",
    "from sklearn.pipeline import Pipeline\n",
    "from sklearn.preprocessing import MinMaxScaler\n",
    "from sklearn.neighbors import KNeighborsRegressor\n",
    "from sklearn.model_selection import cross_val_score\n",
    "from sklearn.metrics import mean_squared_error\n",
    "import joblib\n",
    "from tensorflow.keras.callbacks import ModelCheckpoint\n",
    "from tensorflow.keras.optimizers import Adam\n",
    "from tensorflow.keras.optimizers import SGD\n",
    "from tensorflow.keras.models import load_model\n",
    "from tensorflow.keras.layers import LSTM\n",
    "from tensorflow.keras.layers import BatchNormalization\n",
    "from tensorflow.keras.layers import Conv1D,TimeDistributed\n",
    "from tensorflow.keras.layers import Dense, Dropout, Activation, Flatten,MaxPooling1D,Concatenate,AveragePooling1D, GlobalMaxPooling1D\n",
    "from tensorflow.keras.models import Sequential,Model\n",
    "import pandas as pd\n",
    "import numpy as np\n",
    "import tensorflow.keras.backend as K\n",
    "import tensorflow\n",
    "from tensorflow.keras.layers import Input, Reshape, Dense, Lambda\n",
    "from tensorflow.keras.layers import Layer, Flatten, LeakyReLU, concatenate\n",
    "from tensorflow.keras.regularizers import l2\n",
    "import pickle\n",
    "\n",
    "from scipy.stats import randint as sp_randint\n",
    "from time import time\n",
    "import pickle\n",
    "\n",
    "import warnings\n",
    "warnings.filterwarnings('ignore')"
   ]
  },
  {
   "cell_type": "code",
   "execution_count": 18,
   "id": "c06534e9",
   "metadata": {},
   "outputs": [],
   "source": [
    "from timeseires.CNN1D.GoogLeNet1D import PC\n",
    "from timeseires.utils.to_split import to_split\n",
    "from timeseires.callbacks.EpochCheckpoint import EpochCheckpoint\n",
    "from tensorflow.keras.callbacks import ModelCheckpoint\n",
    "from timeseires.callbacks.TrainingMonitor import TrainingMonitor\n",
    "from tensorflow.keras.optimizers import Adam\n",
    "from tensorflow.keras.optimizers import SGD\n",
    "from tensorflow.keras.models import load_model\n",
    "from tensorflow.keras.layers import LSTM\n",
    "from tensorflow.keras.layers import BatchNormalization\n",
    "from tensorflow.keras.layers import Conv1D,TimeDistributed\n",
    "from tensorflow.keras.layers import Dense, Dropout, Activation, Flatten,MaxPooling1D,Concatenate,AveragePooling1D, GlobalMaxPooling1D\n",
    "from tensorflow.keras.models import Sequential,Model\n",
    "import pandas as pd\n",
    "import time\n",
    "import numpy as np\n",
    "import tensorflow.keras.backend as K\n",
    "import tensorflow\n",
    "from tensorflow.keras.layers import Input, Reshape, Dense, Lambda\n",
    "from tensorflow.keras.layers import Layer, Flatten, LeakyReLU, concatenate\n",
    "from tensorflow.keras.regularizers import l2\n",
    "import pickle"
   ]
  },
  {
   "cell_type": "code",
   "execution_count": 19,
   "id": "be8f535f",
   "metadata": {},
   "outputs": [],
   "source": [
    "time_steps=72\n",
    "num_features=14"
   ]
  },
  {
   "cell_type": "code",
   "execution_count": 20,
   "id": "b0ce96b5",
   "metadata": {},
   "outputs": [],
   "source": [
    "def lstm():\n",
    "    inputs = Input(shape=(time_steps, num_features))\n",
    "    x = Conv1D(256, kernel_size=3,  activation='relu')(inputs)\n",
    "    x = GRU(48, return_sequences=True)(x)\n",
    "    x = GRU(32, return_sequences=True)(x)\n",
    "    x = GRU(16)(x)\n",
    "    x = Dense(10)(x)\n",
    "    x = Activation(\"relu\")(x)\n",
    "    x = Dense(1)(x)\n",
    "    model = Model(inputs, x)\n",
    "    return model"
   ]
  },
  {
   "cell_type": "code",
   "execution_count": 21,
   "id": "c4041c1b",
   "metadata": {},
   "outputs": [
    {
     "name": "stdout",
     "output_type": "stream",
     "text": [
      "Model: \"model_2\"\n",
      "_________________________________________________________________\n",
      " Layer (type)                Output Shape              Param #   \n",
      "=================================================================\n",
      " input_3 (InputLayer)        [(None, 72, 14)]          0         \n",
      "                                                                 \n",
      " conv1d_2 (Conv1D)           (None, 70, 256)           11008     \n",
      "                                                                 \n",
      " gru_6 (GRU)                 (None, 70, 48)            44064     \n",
      "                                                                 \n",
      " gru_7 (GRU)                 (None, 70, 32)            7872      \n",
      "                                                                 \n",
      " gru_8 (GRU)                 (None, 16)                2400      \n",
      "                                                                 \n",
      " dense_4 (Dense)             (None, 10)                170       \n",
      "                                                                 \n",
      " activation_2 (Activation)   (None, 10)                0         \n",
      "                                                                 \n",
      " dense_5 (Dense)             (None, 1)                 11        \n",
      "                                                                 \n",
      "=================================================================\n",
      "Total params: 65,525\n",
      "Trainable params: 65,525\n",
      "Non-trainable params: 0\n",
      "_________________________________________________________________\n"
     ]
    }
   ],
   "source": [
    "model = lstm()\n",
    "model.summary()"
   ]
  },
  {
   "cell_type": "code",
   "execution_count": 22,
   "id": "7381e51f",
   "metadata": {},
   "outputs": [],
   "source": [
    "checkpoints = 'Ihsan_Final checkpoints for 1st Dataset cnn-gru_32_lr 1e-04/E1-cp-{epoch:04d}-loss{val_loss:.2f}.h5'\n",
    "OUTPUT_PATH = 'Ihsan_Final checkpoints for 1st Dataset cnn-gru_32_lr 1e-04'\n",
    "FIG_PATH = os.path.sep.join([OUTPUT_PATH,\"history.png\"])\n",
    "JSON_PATH = os.path.sep.join([OUTPUT_PATH,\"history.json\"])"
   ]
  },
  {
   "cell_type": "code",
   "execution_count": 23,
   "id": "97d139ce",
   "metadata": {},
   "outputs": [],
   "source": [
    "model = None\n",
    "start_epoch = 0\n",
    "time_steps=72\n",
    "num_features=14"
   ]
  },
  {
   "cell_type": "code",
   "execution_count": 24,
   "id": "bd5c3887",
   "metadata": {},
   "outputs": [],
   "source": [
    "# construct the callback to save only the *best* model to disk\n",
    "# based on the validation loss\n",
    "EpochCheckpoint1 = ModelCheckpoint(checkpoints,\n",
    "                             monitor=\"val_loss\",\n",
    "                             save_best_only=True, \n",
    "                             verbose=1)\n",
    "TrainingMonitor1=TrainingMonitor(FIG_PATH, jsonPath=JSON_PATH, startAt=start_epoch)\n",
    "\n",
    "# construct the set of callbacks\n",
    "callbacks = [EpochCheckpoint1,TrainingMonitor1]"
   ]
  },
  {
   "cell_type": "code",
   "execution_count": 25,
   "id": "d1dd898c",
   "metadata": {},
   "outputs": [
    {
     "name": "stdout",
     "output_type": "stream",
     "text": [
      "[INFO] compiling model...\n"
     ]
    }
   ],
   "source": [
    "# if there is no specific model checkpoint supplied, then initialize\n",
    "# the network and compile the model\n",
    "if model is None:\n",
    "    print(\"[INFO] compiling model...\")\n",
    "    model = lstm()\n",
    "    opt = Adam(1e-4)\n",
    "    model.compile(loss= 'mae', optimizer='adam', metrics=[\"mae\", \"mape\"])\n",
    "# otherwise, load the checkpoint from disk\n",
    "else:\n",
    "    print(\"[INFO] loading {}...\".format(model))\n",
    "    model = load_model(model)\n",
    "\n",
    "    # update the learning rate\n",
    "    print(\"[INFO] old learning rate: {}\".format(K.get_value(model.optimizer.lr)))\n",
    "    K.set_value(model.optimizer.lr, 1e-4)\n",
    "    print(\"[INFO] new learning rate: {}\".format(K.get_value(model.optimizer.lr)))"
   ]
  },
  {
   "cell_type": "code",
   "execution_count": 26,
   "id": "57df2001",
   "metadata": {},
   "outputs": [],
   "source": [
    "df_tr=pd.read_csv('train_Normalized.csv')\n",
    "train_set = df_tr[:].values "
   ]
  },
  {
   "cell_type": "code",
   "execution_count": 27,
   "id": "018ff29b",
   "metadata": {},
   "outputs": [],
   "source": [
    "df_v = pd.read_csv('validation_Normalized.csv')\n",
    "validation_set = df_v[:].values\n",
    "\n",
    "df_te = pd.read_csv('test_Normalized.csv')\n",
    "test_set = df_te[:].values \n",
    "scaler = pickle.load(open(\"scaler.pkl\", 'rb'))"
   ]
  },
  {
   "cell_type": "code",
   "execution_count": 28,
   "id": "3a8ec275",
   "metadata": {},
   "outputs": [
    {
     "name": "stdout",
     "output_type": "stream",
     "text": [
      "Time Consumed 0.23103022575378418 sec\n"
     ]
    }
   ],
   "source": [
    "start = time.time()\n",
    "train_X , train_y = to_split(train_set, time_steps=time_steps, target_col=0, target_len=1)\n",
    "validation_X, validation_y = to_split(validation_set, time_steps=time_steps, target_col=0, target_len=1)\n",
    "test_X, test_y = to_split(test_set, time_steps=time_steps, target_col=0, target_len=1)\n",
    "print('Time Consumed', time.time()-start, \"sec\")"
   ]
  },
  {
   "cell_type": "code",
   "execution_count": 29,
   "id": "b739a318",
   "metadata": {},
   "outputs": [
    {
     "data": {
      "text/plain": [
       "((29304, 72, 14), (7272, 72, 14))"
      ]
     },
     "execution_count": 29,
     "metadata": {},
     "output_type": "execute_result"
    }
   ],
   "source": [
    "train_X.shape,validation_X.shape"
   ]
  },
  {
   "cell_type": "code",
   "execution_count": 31,
   "id": "3c3ccfaa",
   "metadata": {},
   "outputs": [
    {
     "name": "stdout",
     "output_type": "stream",
     "text": [
      "Epoch 1/50\n",
      "916/916 [==============================] - ETA: 0s - loss: 0.0120 - mae: 0.0120 - mape: 23951.0723\n",
      "Epoch 1: val_loss did not improve from 0.01140\n",
      "916/916 [==============================] - 93s 101ms/step - loss: 0.0120 - mae: 0.0120 - mape: 23951.0723 - val_loss: 0.0128 - val_mae: 0.0128 - val_mape: 2.1284\n",
      "Epoch 2/50\n",
      "916/916 [==============================] - ETA: 0s - loss: 0.0121 - mae: 0.0121 - mape: 23710.0762\n",
      "Epoch 2: val_loss did not improve from 0.01140\n",
      "916/916 [==============================] - 97s 106ms/step - loss: 0.0121 - mae: 0.0121 - mape: 23710.0762 - val_loss: 0.0126 - val_mae: 0.0126 - val_mape: 2.1733\n",
      "Epoch 3/50\n",
      "916/916 [==============================] - ETA: 0s - loss: 0.0119 - mae: 0.0119 - mape: 23807.0254\n",
      "Epoch 3: val_loss did not improve from 0.01140\n",
      "916/916 [==============================] - 103s 112ms/step - loss: 0.0119 - mae: 0.0119 - mape: 23807.0254 - val_loss: 0.0133 - val_mae: 0.0133 - val_mape: 2.3532\n",
      "Epoch 4/50\n",
      "916/916 [==============================] - ETA: 0s - loss: 0.0120 - mae: 0.0120 - mape: 24393.9336\n",
      "Epoch 4: val_loss improved from 0.01140 to 0.01133, saving model to Ihsan_Final checkpoints for 1st Dataset cnn-gru_32_lr 1e-04/E1-cp-0004-loss0.01.h5\n",
      "916/916 [==============================] - 98s 107ms/step - loss: 0.0120 - mae: 0.0120 - mape: 24393.9336 - val_loss: 0.0113 - val_mae: 0.0113 - val_mape: 1.9982\n",
      "Epoch 5/50\n",
      "916/916 [==============================] - ETA: 0s - loss: 0.0117 - mae: 0.0117 - mape: 23981.7539\n",
      "Epoch 5: val_loss improved from 0.01133 to 0.01133, saving model to Ihsan_Final checkpoints for 1st Dataset cnn-gru_32_lr 1e-04/E1-cp-0005-loss0.01.h5\n",
      "916/916 [==============================] - 98s 107ms/step - loss: 0.0117 - mae: 0.0117 - mape: 23981.7539 - val_loss: 0.0113 - val_mae: 0.0113 - val_mape: 1.9823\n",
      "Epoch 6/50\n",
      "916/916 [==============================] - ETA: 0s - loss: 0.0119 - mae: 0.0119 - mape: 24217.7070\n",
      "Epoch 6: val_loss improved from 0.01133 to 0.01068, saving model to Ihsan_Final checkpoints for 1st Dataset cnn-gru_32_lr 1e-04/E1-cp-0006-loss0.01.h5\n",
      "916/916 [==============================] - 98s 107ms/step - loss: 0.0119 - mae: 0.0119 - mape: 24217.7070 - val_loss: 0.0107 - val_mae: 0.0107 - val_mape: 1.8777\n",
      "Epoch 7/50\n",
      "916/916 [==============================] - ETA: 0s - loss: 0.0116 - mae: 0.0116 - mape: 23799.1426\n",
      "Epoch 7: val_loss did not improve from 0.01068\n",
      "916/916 [==============================] - 97s 106ms/step - loss: 0.0116 - mae: 0.0116 - mape: 23799.1426 - val_loss: 0.0119 - val_mae: 0.0119 - val_mape: 2.1052\n",
      "Epoch 8/50\n",
      "916/916 [==============================] - ETA: 0s - loss: 0.0117 - mae: 0.0117 - mape: 23691.2695\n",
      "Epoch 8: val_loss did not improve from 0.01068\n",
      "916/916 [==============================] - 97s 106ms/step - loss: 0.0117 - mae: 0.0117 - mape: 23691.2695 - val_loss: 0.0113 - val_mae: 0.0113 - val_mape: 1.9543\n",
      "Epoch 9/50\n",
      "916/916 [==============================] - ETA: 0s - loss: 0.0116 - mae: 0.0116 - mape: 23953.0020\n",
      "Epoch 9: val_loss did not improve from 0.01068\n",
      "916/916 [==============================] - 97s 106ms/step - loss: 0.0116 - mae: 0.0116 - mape: 23953.0020 - val_loss: 0.0108 - val_mae: 0.0108 - val_mape: 1.9043\n",
      "Epoch 10/50\n",
      "916/916 [==============================] - ETA: 0s - loss: 0.0116 - mae: 0.0116 - mape: 23968.0898\n",
      "Epoch 10: val_loss did not improve from 0.01068\n",
      "916/916 [==============================] - 98s 107ms/step - loss: 0.0116 - mae: 0.0116 - mape: 23968.0898 - val_loss: 0.0112 - val_mae: 0.0112 - val_mape: 1.9632\n",
      "Epoch 11/50\n",
      "916/916 [==============================] - ETA: 0s - loss: 0.0115 - mae: 0.0115 - mape: 23701.8164\n",
      "Epoch 11: val_loss did not improve from 0.01068\n",
      "916/916 [==============================] - 97s 106ms/step - loss: 0.0115 - mae: 0.0115 - mape: 23701.8164 - val_loss: 0.0127 - val_mae: 0.0127 - val_mape: 2.1872\n",
      "Epoch 12/50\n",
      "916/916 [==============================] - ETA: 0s - loss: 0.0115 - mae: 0.0115 - mape: 24435.6426\n",
      "Epoch 12: val_loss did not improve from 0.01068\n",
      "916/916 [==============================] - 97s 106ms/step - loss: 0.0115 - mae: 0.0115 - mape: 24435.6426 - val_loss: 0.0120 - val_mae: 0.0120 - val_mape: 2.0973\n",
      "Epoch 13/50\n",
      "916/916 [==============================] - ETA: 0s - loss: 0.0116 - mae: 0.0116 - mape: 23839.3867\n",
      "Epoch 13: val_loss did not improve from 0.01068\n",
      "916/916 [==============================] - 97s 106ms/step - loss: 0.0116 - mae: 0.0116 - mape: 23839.3867 - val_loss: 0.0114 - val_mae: 0.0114 - val_mape: 1.9821\n",
      "Epoch 14/50\n",
      "916/916 [==============================] - ETA: 0s - loss: 0.0116 - mae: 0.0116 - mape: 23930.9238\n",
      "Epoch 14: val_loss did not improve from 0.01068\n",
      "916/916 [==============================] - 98s 107ms/step - loss: 0.0116 - mae: 0.0116 - mape: 23930.9238 - val_loss: 0.0137 - val_mae: 0.0137 - val_mape: 2.3763\n",
      "Epoch 15/50\n",
      "916/916 [==============================] - ETA: 0s - loss: 0.0114 - mae: 0.0114 - mape: 23866.6094\n",
      "Epoch 15: val_loss did not improve from 0.01068\n",
      "916/916 [==============================] - 97s 106ms/step - loss: 0.0114 - mae: 0.0114 - mape: 23866.6094 - val_loss: 0.0113 - val_mae: 0.0113 - val_mape: 2.0046\n",
      "Epoch 16/50\n",
      "916/916 [==============================] - ETA: 0s - loss: 0.0117 - mae: 0.0117 - mape: 23885.1191\n",
      "Epoch 16: val_loss did not improve from 0.01068\n",
      "916/916 [==============================] - 98s 107ms/step - loss: 0.0117 - mae: 0.0117 - mape: 23885.1191 - val_loss: 0.0153 - val_mae: 0.0153 - val_mape: 2.6040\n",
      "Epoch 17/50\n",
      "916/916 [==============================] - ETA: 0s - loss: 0.0116 - mae: 0.0116 - mape: 23883.6973\n",
      "Epoch 17: val_loss did not improve from 0.01068\n",
      "916/916 [==============================] - 98s 107ms/step - loss: 0.0116 - mae: 0.0116 - mape: 23883.6973 - val_loss: 0.0129 - val_mae: 0.0129 - val_mape: 2.2436\n",
      "Epoch 18/50\n",
      "916/916 [==============================] - ETA: 0s - loss: 0.0115 - mae: 0.0115 - mape: 24049.5215\n",
      "Epoch 18: val_loss did not improve from 0.01068\n",
      "916/916 [==============================] - 98s 107ms/step - loss: 0.0115 - mae: 0.0115 - mape: 24049.5215 - val_loss: 0.0113 - val_mae: 0.0113 - val_mape: 1.9616\n",
      "Epoch 19/50\n",
      "916/916 [==============================] - ETA: 0s - loss: 0.0113 - mae: 0.0113 - mape: 23740.4141\n",
      "Epoch 19: val_loss did not improve from 0.01068\n",
      "916/916 [==============================] - 98s 107ms/step - loss: 0.0113 - mae: 0.0113 - mape: 23740.4141 - val_loss: 0.0115 - val_mae: 0.0115 - val_mape: 2.0115\n",
      "Epoch 20/50\n",
      "916/916 [==============================] - ETA: 0s - loss: 0.0113 - mae: 0.0113 - mape: 24002.9434\n",
      "Epoch 20: val_loss did not improve from 0.01068\n",
      "916/916 [==============================] - 97s 106ms/step - loss: 0.0113 - mae: 0.0113 - mape: 24002.9434 - val_loss: 0.0116 - val_mae: 0.0116 - val_mape: 2.0378\n",
      "Epoch 21/50\n",
      "916/916 [==============================] - ETA: 0s - loss: 0.0114 - mae: 0.0114 - mape: 23773.8262\n",
      "Epoch 21: val_loss did not improve from 0.01068\n",
      "916/916 [==============================] - 97s 106ms/step - loss: 0.0114 - mae: 0.0114 - mape: 23773.8262 - val_loss: 0.0121 - val_mae: 0.0121 - val_mape: 2.0911\n",
      "Epoch 22/50\n",
      "916/916 [==============================] - ETA: 0s - loss: 0.0113 - mae: 0.0113 - mape: 24359.6152\n",
      "Epoch 22: val_loss did not improve from 0.01068\n",
      "916/916 [==============================] - 98s 107ms/step - loss: 0.0113 - mae: 0.0113 - mape: 24359.6152 - val_loss: 0.0128 - val_mae: 0.0128 - val_mape: 2.3001\n",
      "Epoch 23/50\n",
      "916/916 [==============================] - ETA: 0s - loss: 0.0114 - mae: 0.0114 - mape: 24296.9297\n",
      "Epoch 23: val_loss did not improve from 0.01068\n",
      "916/916 [==============================] - 97s 106ms/step - loss: 0.0114 - mae: 0.0114 - mape: 24296.9297 - val_loss: 0.0110 - val_mae: 0.0110 - val_mape: 1.9182\n",
      "Epoch 24/50\n",
      "916/916 [==============================] - ETA: 0s - loss: 0.0115 - mae: 0.0115 - mape: 24080.8242\n",
      "Epoch 24: val_loss did not improve from 0.01068\n",
      "916/916 [==============================] - 97s 106ms/step - loss: 0.0115 - mae: 0.0115 - mape: 24080.8242 - val_loss: 0.0112 - val_mae: 0.0112 - val_mape: 1.9582\n",
      "Epoch 25/50\n",
      "916/916 [==============================] - ETA: 0s - loss: 0.0112 - mae: 0.0112 - mape: 23845.8535\n",
      "Epoch 25: val_loss did not improve from 0.01068\n",
      "916/916 [==============================] - 98s 107ms/step - loss: 0.0112 - mae: 0.0112 - mape: 23845.8535 - val_loss: 0.0113 - val_mae: 0.0113 - val_mape: 1.9835\n",
      "Epoch 26/50\n",
      "916/916 [==============================] - ETA: 0s - loss: 0.0113 - mae: 0.0113 - mape: 24143.3203\n",
      "Epoch 26: val_loss did not improve from 0.01068\n",
      "916/916 [==============================] - 97s 106ms/step - loss: 0.0113 - mae: 0.0113 - mape: 24143.3203 - val_loss: 0.0115 - val_mae: 0.0115 - val_mape: 2.0414\n",
      "Epoch 27/50\n",
      "916/916 [==============================] - ETA: 0s - loss: 0.0110 - mae: 0.0110 - mape: 23921.4102\n",
      "Epoch 27: val_loss did not improve from 0.01068\n",
      "916/916 [==============================] - 96s 104ms/step - loss: 0.0110 - mae: 0.0110 - mape: 23921.4102 - val_loss: 0.0110 - val_mae: 0.0110 - val_mape: 1.9568\n",
      "Epoch 28/50\n",
      "916/916 [==============================] - ETA: 0s - loss: 0.0112 - mae: 0.0112 - mape: 24220.8730\n",
      "Epoch 28: val_loss did not improve from 0.01068\n",
      "916/916 [==============================] - 95s 103ms/step - loss: 0.0112 - mae: 0.0112 - mape: 24220.8730 - val_loss: 0.0124 - val_mae: 0.0124 - val_mape: 2.1078\n",
      "Epoch 29/50\n",
      "916/916 [==============================] - ETA: 0s - loss: 0.0112 - mae: 0.0112 - mape: 24118.2812\n",
      "Epoch 29: val_loss did not improve from 0.01068\n",
      "916/916 [==============================] - 94s 102ms/step - loss: 0.0112 - mae: 0.0112 - mape: 24118.2812 - val_loss: 0.0128 - val_mae: 0.0128 - val_mape: 2.3028\n",
      "Epoch 30/50\n",
      "916/916 [==============================] - ETA: 0s - loss: 0.0111 - mae: 0.0111 - mape: 24089.5098\n",
      "Epoch 30: val_loss did not improve from 0.01068\n",
      "916/916 [==============================] - 93s 102ms/step - loss: 0.0111 - mae: 0.0111 - mape: 24089.5098 - val_loss: 0.0110 - val_mae: 0.0110 - val_mape: 1.9627\n",
      "Epoch 31/50\n",
      "916/916 [==============================] - ETA: 0s - loss: 0.0112 - mae: 0.0112 - mape: 24145.5840\n",
      "Epoch 31: val_loss did not improve from 0.01068\n",
      "916/916 [==============================] - 94s 103ms/step - loss: 0.0112 - mae: 0.0112 - mape: 24145.5840 - val_loss: 0.0114 - val_mae: 0.0114 - val_mape: 1.9844\n",
      "Epoch 32/50\n",
      "916/916 [==============================] - ETA: 0s - loss: 0.0112 - mae: 0.0112 - mape: 24050.8535\n",
      "Epoch 32: val_loss did not improve from 0.01068\n",
      "916/916 [==============================] - 88s 97ms/step - loss: 0.0112 - mae: 0.0112 - mape: 24050.8535 - val_loss: 0.0116 - val_mae: 0.0116 - val_mape: 2.0137\n",
      "Epoch 33/50\n",
      "916/916 [==============================] - ETA: 0s - loss: 0.0110 - mae: 0.0110 - mape: 23842.7598\n",
      "Epoch 33: val_loss did not improve from 0.01068\n",
      "916/916 [==============================] - 87s 95ms/step - loss: 0.0110 - mae: 0.0110 - mape: 23842.7598 - val_loss: 0.0111 - val_mae: 0.0111 - val_mape: 1.9373\n",
      "Epoch 34/50\n",
      "916/916 [==============================] - ETA: 0s - loss: 0.0112 - mae: 0.0112 - mape: 24212.6230\n",
      "Epoch 34: val_loss did not improve from 0.01068\n",
      "916/916 [==============================] - 86s 93ms/step - loss: 0.0112 - mae: 0.0112 - mape: 24212.6230 - val_loss: 0.0110 - val_mae: 0.0110 - val_mape: 1.9560\n",
      "Epoch 35/50\n",
      "916/916 [==============================] - ETA: 0s - loss: 0.0111 - mae: 0.0111 - mape: 23968.5762\n",
      "Epoch 35: val_loss did not improve from 0.01068\n",
      "916/916 [==============================] - 85s 92ms/step - loss: 0.0111 - mae: 0.0111 - mape: 23968.5762 - val_loss: 0.0114 - val_mae: 0.0114 - val_mape: 2.0478\n",
      "Epoch 36/50\n",
      "916/916 [==============================] - ETA: 0s - loss: 0.0111 - mae: 0.0111 - mape: 24397.2598\n",
      "Epoch 36: val_loss did not improve from 0.01068\n",
      "916/916 [==============================] - 80s 87ms/step - loss: 0.0111 - mae: 0.0111 - mape: 24397.2598 - val_loss: 0.0119 - val_mae: 0.0119 - val_mape: 2.0380\n",
      "Epoch 37/50\n",
      "916/916 [==============================] - ETA: 0s - loss: 0.0110 - mae: 0.0110 - mape: 23981.9551\n",
      "Epoch 37: val_loss did not improve from 0.01068\n",
      "916/916 [==============================] - 80s 88ms/step - loss: 0.0110 - mae: 0.0110 - mape: 23981.9551 - val_loss: 0.0117 - val_mae: 0.0117 - val_mape: 2.0450\n",
      "Epoch 38/50\n",
      "916/916 [==============================] - ETA: 0s - loss: 0.0110 - mae: 0.0110 - mape: 23707.1074\n",
      "Epoch 38: val_loss did not improve from 0.01068\n",
      "916/916 [==============================] - 79s 86ms/step - loss: 0.0110 - mae: 0.0110 - mape: 23707.1074 - val_loss: 0.0110 - val_mae: 0.0110 - val_mape: 1.9532\n",
      "Epoch 39/50\n",
      "916/916 [==============================] - ETA: 0s - loss: 0.0109 - mae: 0.0109 - mape: 24223.3105\n",
      "Epoch 39: val_loss did not improve from 0.01068\n",
      "916/916 [==============================] - 79s 87ms/step - loss: 0.0109 - mae: 0.0109 - mape: 24223.3105 - val_loss: 0.0112 - val_mae: 0.0112 - val_mape: 1.9933\n",
      "Epoch 40/50\n",
      "916/916 [==============================] - ETA: 0s - loss: 0.0111 - mae: 0.0111 - mape: 23881.9141\n",
      "Epoch 40: val_loss did not improve from 0.01068\n",
      "916/916 [==============================] - 79s 87ms/step - loss: 0.0111 - mae: 0.0111 - mape: 23881.9141 - val_loss: 0.0118 - val_mae: 0.0118 - val_mape: 2.0555\n",
      "Epoch 41/50\n",
      "916/916 [==============================] - ETA: 0s - loss: 0.0110 - mae: 0.0110 - mape: 24105.8125\n",
      "Epoch 41: val_loss did not improve from 0.01068\n",
      "916/916 [==============================] - 78s 86ms/step - loss: 0.0110 - mae: 0.0110 - mape: 24105.8125 - val_loss: 0.0117 - val_mae: 0.0117 - val_mape: 2.0379\n",
      "Epoch 42/50\n",
      "916/916 [==============================] - ETA: 0s - loss: 0.0109 - mae: 0.0109 - mape: 23769.0137\n",
      "Epoch 42: val_loss did not improve from 0.01068\n",
      "916/916 [==============================] - 73s 80ms/step - loss: 0.0109 - mae: 0.0109 - mape: 23769.0137 - val_loss: 0.0109 - val_mae: 0.0109 - val_mape: 1.9067\n",
      "Epoch 43/50\n",
      "916/916 [==============================] - ETA: 0s - loss: 0.0108 - mae: 0.0108 - mape: 23837.9824\n",
      "Epoch 43: val_loss did not improve from 0.01068\n",
      "916/916 [==============================] - 73s 79ms/step - loss: 0.0108 - mae: 0.0108 - mape: 23837.9824 - val_loss: 0.0111 - val_mae: 0.0111 - val_mape: 1.9638\n",
      "Epoch 44/50\n",
      "916/916 [==============================] - ETA: 0s - loss: 0.0108 - mae: 0.0108 - mape: 23812.9258\n",
      "Epoch 44: val_loss did not improve from 0.01068\n",
      "916/916 [==============================] - 74s 80ms/step - loss: 0.0108 - mae: 0.0108 - mape: 23812.9258 - val_loss: 0.0112 - val_mae: 0.0112 - val_mape: 1.9564\n",
      "Epoch 45/50\n",
      "916/916 [==============================] - ETA: 0s - loss: 0.0108 - mae: 0.0108 - mape: 24211.9531\n",
      "Epoch 45: val_loss did not improve from 0.01068\n",
      "916/916 [==============================] - 73s 80ms/step - loss: 0.0108 - mae: 0.0108 - mape: 24211.9531 - val_loss: 0.0109 - val_mae: 0.0109 - val_mape: 1.9232\n",
      "Epoch 46/50\n",
      "916/916 [==============================] - ETA: 0s - loss: 0.0109 - mae: 0.0109 - mape: 23685.2441\n",
      "Epoch 46: val_loss did not improve from 0.01068\n",
      "916/916 [==============================] - 73s 80ms/step - loss: 0.0109 - mae: 0.0109 - mape: 23685.2441 - val_loss: 0.0113 - val_mae: 0.0113 - val_mape: 1.9740\n",
      "Epoch 47/50\n",
      "916/916 [==============================] - ETA: 0s - loss: 0.0107 - mae: 0.0107 - mape: 23494.8730\n",
      "Epoch 47: val_loss did not improve from 0.01068\n",
      "916/916 [==============================] - 73s 80ms/step - loss: 0.0107 - mae: 0.0107 - mape: 23494.8730 - val_loss: 0.0110 - val_mae: 0.0110 - val_mape: 1.9364\n",
      "Epoch 48/50\n",
      "916/916 [==============================] - ETA: 0s - loss: 0.0106 - mae: 0.0106 - mape: 24215.2559\n",
      "Epoch 48: val_loss did not improve from 0.01068\n",
      "916/916 [==============================] - 74s 80ms/step - loss: 0.0106 - mae: 0.0106 - mape: 24215.2559 - val_loss: 0.0119 - val_mae: 0.0119 - val_mape: 2.0702\n",
      "Epoch 49/50\n",
      "916/916 [==============================] - ETA: 0s - loss: 0.0109 - mae: 0.0109 - mape: 23576.8984\n",
      "Epoch 49: val_loss did not improve from 0.01068\n",
      "916/916 [==============================] - 74s 80ms/step - loss: 0.0109 - mae: 0.0109 - mape: 23576.8984 - val_loss: 0.0108 - val_mae: 0.0108 - val_mape: 1.9027\n",
      "Epoch 50/50\n",
      "916/916 [==============================] - ETA: 0s - loss: 0.0109 - mae: 0.0109 - mape: 23742.9688\n",
      "Epoch 50: val_loss did not improve from 0.01068\n",
      "916/916 [==============================] - 73s 80ms/step - loss: 0.0109 - mae: 0.0109 - mape: 23742.9688 - val_loss: 0.0116 - val_mae: 0.0116 - val_mape: 1.9960\n"
     ]
    }
   ],
   "source": [
    "epochs = 50\n",
    "verbose = 1 #0\n",
    "batch_size = 32\n",
    "History = model.fit(train_X,\n",
    "                        train_y,\n",
    "                        batch_size=batch_size,   \n",
    "                        epochs = epochs, \n",
    "                        validation_data = (validation_X,validation_y),\n",
    "                        callbacks=callbacks,\n",
    "                        verbose = verbose)"
   ]
  },
  {
   "cell_type": "code",
   "execution_count": 32,
   "id": "ee9eeb5d",
   "metadata": {},
   "outputs": [],
   "source": [
    "import pickle\n",
    "model = load_model('Ihsan_Final checkpoints for 1st Dataset cnn-gru_32_lr 1e-04/E1-cp-0006-loss0.01.h5')"
   ]
  },
  {
   "cell_type": "code",
   "execution_count": 33,
   "id": "674fa96c",
   "metadata": {},
   "outputs": [
    {
     "name": "stdout",
     "output_type": "stream",
     "text": [
      "3/3 [==============================] - 1s 21ms/step\n"
     ]
    }
   ],
   "source": [
    "y_pred_scaled   = model.predict(test_X)"
   ]
  },
  {
   "cell_type": "code",
   "execution_count": 34,
   "id": "96527da3",
   "metadata": {},
   "outputs": [],
   "source": [
    "y_pred          = scaler.inverse_transform(y_pred_scaled)\n",
    "y_test_unscaled = scaler.inverse_transform(test_y.reshape(-1, 1))"
   ]
  },
  {
   "cell_type": "code",
   "execution_count": 35,
   "id": "a7cdbd35",
   "metadata": {},
   "outputs": [
    {
     "name": "stdout",
     "output_type": "stream",
     "text": [
      "Mean Absolute Error (MAE): 12.82\n",
      "Median Absolute Error (MedAE): 11.03\n",
      "Mean Squared Error (MSE): 255.87\n",
      "Root Mean Squared Error (RMSE): 16.0\n",
      "Mean Absolute Percentage Error (MAPE): 1.0 %\n",
      "Median Absolute Percentage Error (MDAPE): 0.84 %\n",
      "\n",
      "\n",
      "y_test_unscaled.shape=  (96, 1)\n",
      "y_pred.shape=  (96, 1)\n"
     ]
    }
   ],
   "source": [
    "# Mean Absolute Error (MAE)\n",
    "MAE = np.mean(abs(y_pred - y_test_unscaled))\n",
    "print('Mean Absolute Error (MAE): ' + str(np.round(MAE, 2)))\n",
    "\n",
    "# Median Absolute Error (MedAE)\n",
    "MEDAE = np.median(abs(y_pred - y_test_unscaled))\n",
    "print('Median Absolute Error (MedAE): ' + str(np.round(MEDAE, 2)))\n",
    "\n",
    "# Mean Squared Error (MSE)\n",
    "MSE = np.square(np.subtract(y_pred, y_test_unscaled)).mean()\n",
    "print('Mean Squared Error (MSE): ' + str(np.round(MSE, 2)))\n",
    "\n",
    "# Root Mean Squarred Error (RMSE) \n",
    "RMSE = np.sqrt(np.mean(np.square(y_pred - y_test_unscaled)))\n",
    "print('Root Mean Squared Error (RMSE): ' + str(np.round(RMSE, 2)))\n",
    "\n",
    "# Mean Absolute Percentage Error (MAPE)\n",
    "MAPE = np.mean((np.abs(np.subtract(y_test_unscaled, y_pred)/ y_test_unscaled))) * 100\n",
    "print('Mean Absolute Percentage Error (MAPE): ' + str(np.round(MAPE, 2)) + ' %')\n",
    "\n",
    "# Median Absolute Percentage Error (MDAPE)\n",
    "MDAPE = np.median((np.abs(np.subtract(y_test_unscaled, y_pred)/ y_test_unscaled))) * 100\n",
    "print('Median Absolute Percentage Error (MDAPE): ' + str(np.round(MDAPE, 2)) + ' %')\n",
    "\n",
    "print('\\n\\ny_test_unscaled.shape= ',y_test_unscaled.shape)\n",
    "print('y_pred.shape= ',y_pred.shape)"
   ]
  },
  {
   "cell_type": "code",
   "execution_count": 36,
   "id": "21d03475",
   "metadata": {},
   "outputs": [
    {
     "data": {
      "image/png": "[encoded data removed]",
      "text/plain": [
       "<Figure size 432x288 with 1 Axes>"
      ]
     },
     "metadata": {},
     "output_type": "display_data"
    }
   ],
   "source": [
    "plt.plot(y_test_unscaled, color=\"red\", linewidth=2)\n",
    "plt.plot(y_pred, color=\"purple\", linewidth=2)\n",
    "plt.legend(['Actual load','Predicted CNN-GRU'])\n",
    "plt.ylabel('Load MWh')\n",
    "plt.xlabel('Hourly samples')\n",
    "plt.show()"
   ]
  },
  {
   "cell_type": "code",
   "execution_count": null,
   "id": "14430012",
   "metadata": {},
   "outputs": [],
   "source": []
  }
 ],
 "metadata": {
  "kernelspec": {
   "display_name": "Python [conda env:.conda-jupyter-2022-07-22] *",
   "language": "python",
   "name": "conda-env-.conda-jupyter-2022-07-22-py"
  },
  "language_info": {
   "codemirror_mode": {
    "name": "ipython",
    "version": 3
   },
   "file_extension": ".py",
   "mimetype": "text/x-python",
   "name": "python",
   "nbconvert_exporter": "python",
   "pygments_lexer": "ipython3",
   "version": "3.10.5"
  }
 },
 "nbformat": 4,
 "nbformat_minor": 5
}
