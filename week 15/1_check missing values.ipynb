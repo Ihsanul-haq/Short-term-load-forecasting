{
 "cells": [
  {
   "cell_type": "code",
   "execution_count": 1,
   "id": "c9ca65d1",
   "metadata": {},
   "outputs": [],
   "source": [
    "import pandas as pd\n",
    "import numpy as np"
   ]
  },
  {
   "cell_type": "code",
   "execution_count": 6,
   "id": "0f465698",
   "metadata": {},
   "outputs": [
    {
     "data": {
      "text/html": [
       "<div>\n",
       "<style scoped>\n",
       "    .dataframe tbody tr th:only-of-type {\n",
       "        vertical-align: middle;\n",
       "    }\n",
       "\n",
       "    .dataframe tbody tr th {\n",
       "        vertical-align: top;\n",
       "    }\n",
       "\n",
       "    .dataframe thead th {\n",
       "        text-align: right;\n",
       "    }\n",
       "</style>\n",
       "<table border=\"1\" class=\"dataframe\">\n",
       "  <thead>\n",
       "    <tr style=\"text-align: right;\">\n",
       "      <th></th>\n",
       "      <th>week_X-2</th>\n",
       "      <th>week_X-3</th>\n",
       "      <th>week_X-4</th>\n",
       "      <th>MA_X-4</th>\n",
       "      <th>dayOfWeek</th>\n",
       "      <th>weekend</th>\n",
       "      <th>holiday</th>\n",
       "      <th>Holiday_ID</th>\n",
       "      <th>hourOfDay</th>\n",
       "      <th>T2M_toc</th>\n",
       "      <th>DEMAND</th>\n",
       "    </tr>\n",
       "    <tr>\n",
       "      <th>datetime</th>\n",
       "      <th></th>\n",
       "      <th></th>\n",
       "      <th></th>\n",
       "      <th></th>\n",
       "      <th></th>\n",
       "      <th></th>\n",
       "      <th></th>\n",
       "      <th></th>\n",
       "      <th></th>\n",
       "      <th></th>\n",
       "      <th></th>\n",
       "    </tr>\n",
       "  </thead>\n",
       "  <tbody>\n",
       "    <tr>\n",
       "      <th>2015-01-31 01:00:00</th>\n",
       "      <td>962.2865</td>\n",
       "      <td>906.9580</td>\n",
       "      <td>970.3450</td>\n",
       "      <td>938.004850</td>\n",
       "      <td>1</td>\n",
       "      <td>1</td>\n",
       "      <td>0</td>\n",
       "      <td>0</td>\n",
       "      <td>1</td>\n",
       "      <td>25.308496</td>\n",
       "      <td>954.2018</td>\n",
       "    </tr>\n",
       "    <tr>\n",
       "      <th>2015-01-31 02:00:00</th>\n",
       "      <td>933.3221</td>\n",
       "      <td>863.5135</td>\n",
       "      <td>912.1755</td>\n",
       "      <td>900.284075</td>\n",
       "      <td>1</td>\n",
       "      <td>1</td>\n",
       "      <td>0</td>\n",
       "      <td>0</td>\n",
       "      <td>2</td>\n",
       "      <td>25.141443</td>\n",
       "      <td>913.8660</td>\n",
       "    </tr>\n",
       "  </tbody>\n",
       "</table>\n",
       "</div>"
      ],
      "text/plain": [
       "                     week_X-2  week_X-3  week_X-4      MA_X-4  dayOfWeek  \\\n",
       "datetime                                                                   \n",
       "2015-01-31 01:00:00  962.2865  906.9580  970.3450  938.004850          1   \n",
       "2015-01-31 02:00:00  933.3221  863.5135  912.1755  900.284075          1   \n",
       "\n",
       "                     weekend  holiday  Holiday_ID  hourOfDay    T2M_toc  \\\n",
       "datetime                                                                  \n",
       "2015-01-31 01:00:00        1        0           0          1  25.308496   \n",
       "2015-01-31 02:00:00        1        0           0          2  25.141443   \n",
       "\n",
       "                       DEMAND  \n",
       "datetime                       \n",
       "2015-01-31 01:00:00  954.2018  \n",
       "2015-01-31 02:00:00  913.8660  "
      ]
     },
     "execution_count": 6,
     "metadata": {},
     "output_type": "execute_result"
    }
   ],
   "source": [
    "df = pd.read_csv('S_train.csv',index_col = ['datetime'], parse_dates = True)\n",
    "df.head(2)"
   ]
  },
  {
   "cell_type": "code",
   "execution_count": 7,
   "id": "de8b83c2",
   "metadata": {},
   "outputs": [
    {
     "name": "stdout",
     "output_type": "stream",
     "text": [
      "Data Points=  36720\n"
     ]
    }
   ],
   "source": [
    "print('Data Points= ',len(df))"
   ]
  },
  {
   "cell_type": "code",
   "execution_count": 8,
   "id": "dcc9f5b9",
   "metadata": {},
   "outputs": [
    {
     "name": "stdout",
     "output_type": "stream",
     "text": [
      "<class 'pandas.core.frame.DataFrame'>\n",
      "DatetimeIndex: 36720 entries, 2015-01-31 01:00:00 to 2019-04-10 00:00:00\n",
      "Data columns (total 11 columns):\n",
      " #   Column      Non-Null Count  Dtype  \n",
      "---  ------      --------------  -----  \n",
      " 0   week_X-2    36720 non-null  float64\n",
      " 1   week_X-3    36720 non-null  float64\n",
      " 2   week_X-4    36720 non-null  float64\n",
      " 3   MA_X-4      36720 non-null  float64\n",
      " 4   dayOfWeek   36720 non-null  int64  \n",
      " 5   weekend     36720 non-null  int64  \n",
      " 6   holiday     36720 non-null  int64  \n",
      " 7   Holiday_ID  36720 non-null  int64  \n",
      " 8   hourOfDay   36720 non-null  int64  \n",
      " 9   T2M_toc     36720 non-null  float64\n",
      " 10  DEMAND      36720 non-null  float64\n",
      "dtypes: float64(6), int64(5)\n",
      "memory usage: 3.4 MB\n"
     ]
    }
   ],
   "source": [
    "df.info()"
   ]
  },
  {
   "cell_type": "code",
   "execution_count": 13,
   "id": "78dd7b17",
   "metadata": {},
   "outputs": [
    {
     "data": {
      "text/html": [
       "<div>\n",
       "<style scoped>\n",
       "    .dataframe tbody tr th:only-of-type {\n",
       "        vertical-align: middle;\n",
       "    }\n",
       "\n",
       "    .dataframe tbody tr th {\n",
       "        vertical-align: top;\n",
       "    }\n",
       "\n",
       "    .dataframe thead th {\n",
       "        text-align: right;\n",
       "    }\n",
       "</style>\n",
       "<table border=\"1\" class=\"dataframe\">\n",
       "  <thead>\n",
       "    <tr style=\"text-align: right;\">\n",
       "      <th></th>\n",
       "      <th>week_X-2</th>\n",
       "      <th>week_X-3</th>\n",
       "      <th>week_X-4</th>\n",
       "      <th>MA_X-4</th>\n",
       "      <th>dayOfWeek</th>\n",
       "      <th>weekend</th>\n",
       "      <th>holiday</th>\n",
       "      <th>Holiday_ID</th>\n",
       "      <th>hourOfDay</th>\n",
       "      <th>T2M_toc</th>\n",
       "      <th>DEMAND</th>\n",
       "    </tr>\n",
       "    <tr>\n",
       "      <th>datetime</th>\n",
       "      <th></th>\n",
       "      <th></th>\n",
       "      <th></th>\n",
       "      <th></th>\n",
       "      <th></th>\n",
       "      <th></th>\n",
       "      <th></th>\n",
       "      <th></th>\n",
       "      <th></th>\n",
       "      <th></th>\n",
       "      <th></th>\n",
       "    </tr>\n",
       "  </thead>\n",
       "  <tbody>\n",
       "    <tr>\n",
       "      <th>2015-01-31 01:00:00</th>\n",
       "      <td>962.2865</td>\n",
       "      <td>906.958</td>\n",
       "      <td>970.345</td>\n",
       "      <td>938.00485</td>\n",
       "      <td>1</td>\n",
       "      <td>1</td>\n",
       "      <td>0</td>\n",
       "      <td>0</td>\n",
       "      <td>1</td>\n",
       "      <td>25.308496</td>\n",
       "      <td>954.2018</td>\n",
       "    </tr>\n",
       "  </tbody>\n",
       "</table>\n",
       "</div>"
      ],
      "text/plain": [
       "                     week_X-2  week_X-3  week_X-4     MA_X-4  dayOfWeek  \\\n",
       "datetime                                                                  \n",
       "2015-01-31 01:00:00  962.2865   906.958   970.345  938.00485          1   \n",
       "\n",
       "                     weekend  holiday  Holiday_ID  hourOfDay    T2M_toc  \\\n",
       "datetime                                                                  \n",
       "2015-01-31 01:00:00        1        0           0          1  25.308496   \n",
       "\n",
       "                       DEMAND  \n",
       "datetime                       \n",
       "2015-01-31 01:00:00  954.2018  "
      ]
     },
     "execution_count": 13,
     "metadata": {},
     "output_type": "execute_result"
    }
   ],
   "source": [
    "df = df.sort_index(ascending = True)\n",
    "df.head(1)"
   ]
  },
  {
   "cell_type": "code",
   "execution_count": 15,
   "id": "deca3819",
   "metadata": {},
   "outputs": [
    {
     "data": {
      "text/html": [
       "<div>\n",
       "<style scoped>\n",
       "    .dataframe tbody tr th:only-of-type {\n",
       "        vertical-align: middle;\n",
       "    }\n",
       "\n",
       "    .dataframe tbody tr th {\n",
       "        vertical-align: top;\n",
       "    }\n",
       "\n",
       "    .dataframe thead th {\n",
       "        text-align: right;\n",
       "    }\n",
       "</style>\n",
       "<table border=\"1\" class=\"dataframe\">\n",
       "  <thead>\n",
       "    <tr style=\"text-align: right;\">\n",
       "      <th></th>\n",
       "      <th>week_X-2</th>\n",
       "      <th>week_X-3</th>\n",
       "      <th>week_X-4</th>\n",
       "      <th>MA_X-4</th>\n",
       "      <th>dayOfWeek</th>\n",
       "      <th>weekend</th>\n",
       "      <th>holiday</th>\n",
       "      <th>Holiday_ID</th>\n",
       "      <th>hourOfDay</th>\n",
       "      <th>T2M_toc</th>\n",
       "      <th>DEMAND</th>\n",
       "    </tr>\n",
       "    <tr>\n",
       "      <th>datetime</th>\n",
       "      <th></th>\n",
       "      <th></th>\n",
       "      <th></th>\n",
       "      <th></th>\n",
       "      <th></th>\n",
       "      <th></th>\n",
       "      <th></th>\n",
       "      <th></th>\n",
       "      <th></th>\n",
       "      <th></th>\n",
       "      <th></th>\n",
       "    </tr>\n",
       "  </thead>\n",
       "  <tbody>\n",
       "    <tr>\n",
       "      <th>2019-04-09 23:00:00</th>\n",
       "      <td>1200.3537</td>\n",
       "      <td>1209.2950</td>\n",
       "      <td>1165.0237</td>\n",
       "      <td>1199.699525</td>\n",
       "      <td>4</td>\n",
       "      <td>0</td>\n",
       "      <td>0</td>\n",
       "      <td>0</td>\n",
       "      <td>23</td>\n",
       "      <td>27.830194</td>\n",
       "      <td>1232.4521</td>\n",
       "    </tr>\n",
       "    <tr>\n",
       "      <th>2019-04-10 00:00:00</th>\n",
       "      <td>1141.5161</td>\n",
       "      <td>1149.9883</td>\n",
       "      <td>1099.2100</td>\n",
       "      <td>1130.238133</td>\n",
       "      <td>5</td>\n",
       "      <td>0</td>\n",
       "      <td>0</td>\n",
       "      <td>0</td>\n",
       "      <td>0</td>\n",
       "      <td>27.522791</td>\n",
       "      <td>1155.5925</td>\n",
       "    </tr>\n",
       "  </tbody>\n",
       "</table>\n",
       "</div>"
      ],
      "text/plain": [
       "                      week_X-2   week_X-3   week_X-4       MA_X-4  dayOfWeek  \\\n",
       "datetime                                                                       \n",
       "2019-04-09 23:00:00  1200.3537  1209.2950  1165.0237  1199.699525          4   \n",
       "2019-04-10 00:00:00  1141.5161  1149.9883  1099.2100  1130.238133          5   \n",
       "\n",
       "                     weekend  holiday  Holiday_ID  hourOfDay    T2M_toc  \\\n",
       "datetime                                                                  \n",
       "2019-04-09 23:00:00        0        0           0         23  27.830194   \n",
       "2019-04-10 00:00:00        0        0           0          0  27.522791   \n",
       "\n",
       "                        DEMAND  \n",
       "datetime                        \n",
       "2019-04-09 23:00:00  1232.4521  \n",
       "2019-04-10 00:00:00  1155.5925  "
      ]
     },
     "execution_count": 15,
     "metadata": {},
     "output_type": "execute_result"
    }
   ],
   "source": [
    "df.tail(2)"
   ]
  },
  {
   "cell_type": "code",
   "execution_count": 16,
   "id": "fc35dbe4",
   "metadata": {},
   "outputs": [
    {
     "name": "stdout",
     "output_type": "stream",
     "text": [
      "\n",
      "Number of Missing Timestamp=  1 \n",
      "\n",
      "[Timestamp('2015-01-31 00:00:00')]\n"
     ]
    }
   ],
   "source": [
    "missing_Timestamp = pd.date_range('2015-1-31','2019-4-10',freq = 'H').difference(df.index)\n",
    "print('\\nNumber of Missing Timestamp= ',len(missing_Timestamp),'\\n')\n",
    "print(missing_Timestamp.to_list())\n",
    "#da chi kom yi missing okhowo nu da mong missing data na consider kao zaka chi da zamong da start data na makhki dy"
   ]
  },
  {
   "cell_type": "code",
   "execution_count": 19,
   "id": "76249bf6",
   "metadata": {},
   "outputs": [
    {
     "data": {
      "text/plain": [
       "0"
      ]
     },
     "execution_count": 19,
     "metadata": {},
     "output_type": "execute_result"
    }
   ],
   "source": [
    "df.isnull().sum().sum()"
   ]
  },
  {
   "cell_type": "markdown",
   "id": "016d46fd",
   "metadata": {},
   "source": [
    "# every thing is clear no missing data"
   ]
  }
 ],
 "metadata": {
  "kernelspec": {
   "display_name": "Python 3 (ipykernel)",
   "language": "python",
   "name": "python3"
  },
  "language_info": {
   "codemirror_mode": {
    "name": "ipython",
    "version": 3
   },
   "file_extension": ".py",
   "mimetype": "text/x-python",
   "name": "python",
   "nbconvert_exporter": "python",
   "pygments_lexer": "ipython3",
   "version": "3.7.13"
  }
 },
 "nbformat": 4,
 "nbformat_minor": 5
}
