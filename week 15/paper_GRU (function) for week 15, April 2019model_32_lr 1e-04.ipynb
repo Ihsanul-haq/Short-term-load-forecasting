{
 "cells": [
  {
   "cell_type": "code",
   "execution_count": 1,
   "id": "7c296687",
   "metadata": {},
   "outputs": [],
   "source": [
    "import os\n",
    "os.chdir('libraries for functions')"
   ]
  },
  {
   "cell_type": "code",
   "execution_count": 2,
   "id": "7e94e3bb",
   "metadata": {},
   "outputs": [],
   "source": [
    "import os\n",
    "os.chdir('pyimagesearch')"
   ]
  },
  {
   "cell_type": "code",
   "execution_count": 3,
   "id": "d70e3d98",
   "metadata": {},
   "outputs": [],
   "source": [
    "import pandas as pd\n",
    "import numpy as np\n",
    "import os\n",
    "import tensorflow as tf\n",
    "import matplotlib.pyplot as plt\n",
    "import matplotlib as mpl\n",
    "from tensorflow.keras import datasets, layers, models\n",
    "import datetime\n",
    "from keras.layers import Dense, LSTM, GRU, Activation, Conv1D\n",
    "from keras.preprocessing.sequence import TimeseriesGenerator\n",
    "from sklearn.preprocessing import MinMaxScaler, StandardScaler\n",
    "from sklearn.model_selection import train_test_split\n",
    "import calendar\n",
    "import datetime as dt\n",
    "from datetime import timedelta, date\n",
    "from pprint import pprint\n",
    "\n",
    "from sklearn.pipeline import Pipeline\n",
    "from sklearn.preprocessing import MinMaxScaler\n",
    "from sklearn.neighbors import KNeighborsRegressor\n",
    "from sklearn.model_selection import cross_val_score\n",
    "from sklearn.metrics import mean_squared_error\n",
    "import joblib\n",
    "from tensorflow.keras.callbacks import ModelCheckpoint\n",
    "from tensorflow.keras.optimizers import Adam\n",
    "from tensorflow.keras.optimizers import SGD\n",
    "from tensorflow.keras.models import load_model\n",
    "from tensorflow.keras.layers import LSTM\n",
    "from tensorflow.keras.layers import BatchNormalization\n",
    "from tensorflow.keras.layers import Conv1D,TimeDistributed\n",
    "from tensorflow.keras.layers import Dense, Dropout, Activation, Flatten,MaxPooling1D,Concatenate,AveragePooling1D, GlobalMaxPooling1D\n",
    "from tensorflow.keras.models import Sequential,Model\n",
    "import pandas as pd\n",
    "import numpy as np\n",
    "import tensorflow.keras.backend as K\n",
    "import tensorflow\n",
    "from tensorflow.keras.layers import Input, Reshape, Dense, Lambda\n",
    "from tensorflow.keras.layers import Layer, Flatten, LeakyReLU, concatenate\n",
    "from tensorflow.keras.regularizers import l2\n",
    "import pickle\n",
    "\n",
    "from scipy.stats import randint as sp_randint\n",
    "from time import time\n",
    "import pickle\n",
    "\n",
    "import warnings\n",
    "warnings.filterwarnings('ignore')"
   ]
  },
  {
   "cell_type": "code",
   "execution_count": 22,
   "id": "c06534e9",
   "metadata": {},
   "outputs": [],
   "source": [
    "from timeseires.CNN1D.GoogLeNet1D import PC\n",
    "from timeseires.utils.to_split import to_split\n",
    "from timeseires.callbacks.EpochCheckpoint import EpochCheckpoint\n",
    "from tensorflow.keras.callbacks import ModelCheckpoint\n",
    "from timeseires.callbacks.TrainingMonitor import TrainingMonitor\n",
    "from tensorflow.keras.optimizers import Adam\n",
    "from tensorflow.keras.optimizers import SGD\n",
    "from tensorflow.keras.models import load_model\n",
    "from tensorflow.keras.layers import LSTM\n",
    "from tensorflow.keras.layers import BatchNormalization\n",
    "from tensorflow.keras.layers import Conv1D,TimeDistributed\n",
    "from tensorflow.keras.layers import Dense, Dropout, Activation, Flatten,MaxPooling1D,Concatenate,AveragePooling1D, GlobalMaxPooling1D\n",
    "from tensorflow.keras.models import Sequential,Model\n",
    "import pandas as pd\n",
    "import time\n",
    "import numpy as np\n",
    "import tensorflow.keras.backend as K\n",
    "import tensorflow\n",
    "from tensorflow.keras.layers import Input, Reshape, Dense, Lambda\n",
    "from tensorflow.keras.layers import Layer, Flatten, LeakyReLU, concatenate\n",
    "from tensorflow.keras.regularizers import l2\n",
    "import pickle"
   ]
  },
  {
   "cell_type": "code",
   "execution_count": 23,
   "id": "be8f535f",
   "metadata": {},
   "outputs": [],
   "source": [
    "time_steps=72\n",
    "num_features=14"
   ]
  },
  {
   "cell_type": "code",
   "execution_count": 24,
   "id": "b0ce96b5",
   "metadata": {},
   "outputs": [],
   "source": [
    "def lstm():\n",
    "    inputs = Input(shape=(time_steps, num_features))\n",
    "    x = GRU(48,return_sequences=True)(inputs)\n",
    "    x = GRU(16)(x)\n",
    "    x = Dense(10)(x)\n",
    "    x = Activation(\"relu\")(x)\n",
    "    x = Dense(1)(x)\n",
    "    model = Model(inputs, x)\n",
    "    return model"
   ]
  },
  {
   "cell_type": "code",
   "execution_count": 25,
   "id": "c4041c1b",
   "metadata": {},
   "outputs": [
    {
     "name": "stdout",
     "output_type": "stream",
     "text": [
      "Model: \"model_2\"\n",
      "_________________________________________________________________\n",
      " Layer (type)                Output Shape              Param #   \n",
      "=================================================================\n",
      " input_3 (InputLayer)        [(None, 72, 14)]          0         \n",
      "                                                                 \n",
      " gru_4 (GRU)                 (None, 72, 48)            9216      \n",
      "                                                                 \n",
      " gru_5 (GRU)                 (None, 16)                3168      \n",
      "                                                                 \n",
      " dense_4 (Dense)             (None, 10)                170       \n",
      "                                                                 \n",
      " activation_2 (Activation)   (None, 10)                0         \n",
      "                                                                 \n",
      " dense_5 (Dense)             (None, 1)                 11        \n",
      "                                                                 \n",
      "=================================================================\n",
      "Total params: 12,565\n",
      "Trainable params: 12,565\n",
      "Non-trainable params: 0\n",
      "_________________________________________________________________\n"
     ]
    }
   ],
   "source": [
    "model = lstm()\n",
    "model.summary()"
   ]
  },
  {
   "cell_type": "code",
   "execution_count": 26,
   "id": "7381e51f",
   "metadata": {},
   "outputs": [],
   "source": [
    "checkpoints = 'Ihsan_Final checkpoints for 1st Dataset_GRU_32_lr 1e-04/E1-cp-{epoch:04d}-loss{val_loss:.2f}.h5'\n",
    "OUTPUT_PATH = 'Ihsan_Final checkpoints for 1st Dataset_GRU_32_lr 1e-04'\n",
    "FIG_PATH = os.path.sep.join([OUTPUT_PATH,\"history.png\"])\n",
    "JSON_PATH = os.path.sep.join([OUTPUT_PATH,\"history.json\"])"
   ]
  },
  {
   "cell_type": "code",
   "execution_count": 27,
   "id": "97d139ce",
   "metadata": {},
   "outputs": [],
   "source": [
    "model = None\n",
    "start_epoch = 0\n",
    "time_steps=72\n",
    "num_features=14"
   ]
  },
  {
   "cell_type": "code",
   "execution_count": 28,
   "id": "bd5c3887",
   "metadata": {},
   "outputs": [],
   "source": [
    "# construct the callback to save only the *best* model to disk\n",
    "# based on the validation loss\n",
    "EpochCheckpoint1 = ModelCheckpoint(checkpoints,\n",
    "                             monitor=\"val_loss\",\n",
    "                             save_best_only=True, \n",
    "                             verbose=1)\n",
    "TrainingMonitor1=TrainingMonitor(FIG_PATH, jsonPath=JSON_PATH, startAt=start_epoch)\n",
    "\n",
    "# construct the set of callbacks\n",
    "callbacks = [EpochCheckpoint1,TrainingMonitor1]"
   ]
  },
  {
   "cell_type": "code",
   "execution_count": 29,
   "id": "d1dd898c",
   "metadata": {},
   "outputs": [
    {
     "name": "stdout",
     "output_type": "stream",
     "text": [
      "[INFO] compiling model...\n"
     ]
    }
   ],
   "source": [
    "# if there is no specific model checkpoint supplied, then initialize\n",
    "# the network and compile the model\n",
    "if model is None:\n",
    "    print(\"[INFO] compiling model...\")\n",
    "    model = lstm()\n",
    "    opt = Adam(1e-4)\n",
    "    model.compile(loss= 'mae', optimizer='adam', metrics=[\"mae\", \"mape\"])\n",
    "# otherwise, load the checkpoint from disk\n",
    "else:\n",
    "    print(\"[INFO] loading {}...\".format(model))\n",
    "    model = load_model(model)\n",
    "\n",
    "    # update the learning rate\n",
    "    print(\"[INFO] old learning rate: {}\".format(K.get_value(model.optimizer.lr)))\n",
    "    K.set_value(model.optimizer.lr, 1e-4)\n",
    "    print(\"[INFO] new learning rate: {}\".format(K.get_value(model.optimizer.lr)))"
   ]
  },
  {
   "cell_type": "code",
   "execution_count": 30,
   "id": "57df2001",
   "metadata": {},
   "outputs": [],
   "source": [
    "df_tr=pd.read_csv('train_Normalized.csv')\n",
    "train_set = df_tr[:].values "
   ]
  },
  {
   "cell_type": "code",
   "execution_count": 31,
   "id": "018ff29b",
   "metadata": {},
   "outputs": [],
   "source": [
    "df_v = pd.read_csv('validation_Normalized.csv')\n",
    "validation_set = df_v[:].values\n",
    "\n",
    "df_te = pd.read_csv('test_Normalized.csv')\n",
    "test_set = df_te[:].values \n",
    "scaler = pickle.load(open(\"scaler.pkl\", 'rb'))"
   ]
  },
  {
   "cell_type": "code",
   "execution_count": 32,
   "id": "3a8ec275",
   "metadata": {},
   "outputs": [
    {
     "name": "stdout",
     "output_type": "stream",
     "text": [
      "Time Consumed 0.22914862632751465 sec\n"
     ]
    }
   ],
   "source": [
    "start = time.time()\n",
    "train_X , train_y = to_split(train_set, time_steps=time_steps, target_col=0, target_len=1)\n",
    "validation_X, validation_y = to_split(validation_set, time_steps=time_steps, target_col=0, target_len=1)\n",
    "test_X, test_y = to_split(test_set, time_steps=time_steps, target_col=0, target_len=1)\n",
    "print('Time Consumed', time.time()-start, \"sec\")"
   ]
  },
  {
   "cell_type": "code",
   "execution_count": 33,
   "id": "b739a318",
   "metadata": {},
   "outputs": [
    {
     "data": {
      "text/plain": [
       "((29304, 72, 14), (7272, 72, 14))"
      ]
     },
     "execution_count": 33,
     "metadata": {},
     "output_type": "execute_result"
    }
   ],
   "source": [
    "train_X.shape,validation_X.shape"
   ]
  },
  {
   "cell_type": "code",
   "execution_count": 40,
   "id": "3c3ccfaa",
   "metadata": {},
   "outputs": [
    {
     "name": "stdout",
     "output_type": "stream",
     "text": [
      "Epoch 1/50\n",
      "916/916 [==============================] - ETA: 0s - loss: 0.0117 - mae: 0.0117 - mape: 23964.6875\n",
      "Epoch 1: val_loss did not improve from 0.01105\n",
      "916/916 [==============================] - 66s 69ms/step - loss: 0.0117 - mae: 0.0117 - mape: 23964.6875 - val_loss: 0.0112 - val_mae: 0.0112 - val_mape: 1.9615\n",
      "Epoch 2/50\n",
      "916/916 [==============================] - ETA: 0s - loss: 0.0119 - mae: 0.0119 - mape: 23975.4688\n",
      "Epoch 2: val_loss did not improve from 0.01105\n",
      "916/916 [==============================] - 63s 68ms/step - loss: 0.0119 - mae: 0.0119 - mape: 23975.4688 - val_loss: 0.0118 - val_mae: 0.0118 - val_mape: 2.0485\n",
      "Epoch 3/50\n",
      "916/916 [==============================] - ETA: 0s - loss: 0.0117 - mae: 0.0117 - mape: 24066.3809\n",
      "Epoch 3: val_loss did not improve from 0.01105\n",
      "916/916 [==============================] - 63s 69ms/step - loss: 0.0117 - mae: 0.0117 - mape: 24066.3809 - val_loss: 0.0120 - val_mae: 0.0120 - val_mape: 2.0778\n",
      "Epoch 4/50\n",
      "916/916 [==============================] - ETA: 0s - loss: 0.0116 - mae: 0.0116 - mape: 23939.0117\n",
      "Epoch 4: val_loss did not improve from 0.01105\n",
      "916/916 [==============================] - 62s 68ms/step - loss: 0.0116 - mae: 0.0116 - mape: 23939.0117 - val_loss: 0.0113 - val_mae: 0.0113 - val_mape: 1.9618\n",
      "Epoch 5/50\n",
      "916/916 [==============================] - ETA: 0s - loss: 0.0116 - mae: 0.0116 - mape: 23594.8496\n",
      "Epoch 5: val_loss did not improve from 0.01105\n",
      "916/916 [==============================] - 63s 68ms/step - loss: 0.0116 - mae: 0.0116 - mape: 23594.8496 - val_loss: 0.0118 - val_mae: 0.0118 - val_mape: 2.0813\n",
      "Epoch 6/50\n",
      "916/916 [==============================] - ETA: 0s - loss: 0.0116 - mae: 0.0116 - mape: 23641.8145\n",
      "Epoch 6: val_loss improved from 0.01105 to 0.01089, saving model to Ihsan_Final checkpoints for 1st Dataset_GRU_32_lr 1e-04/E1-cp-0006-loss0.01.h5\n",
      "916/916 [==============================] - 62s 68ms/step - loss: 0.0116 - mae: 0.0116 - mape: 23641.8145 - val_loss: 0.0109 - val_mae: 0.0109 - val_mape: 1.9127\n",
      "Epoch 7/50\n",
      "916/916 [==============================] - ETA: 0s - loss: 0.0116 - mae: 0.0116 - mape: 23661.6309\n",
      "Epoch 7: val_loss did not improve from 0.01089\n",
      "916/916 [==============================] - 62s 68ms/step - loss: 0.0116 - mae: 0.0116 - mape: 23661.6309 - val_loss: 0.0109 - val_mae: 0.0109 - val_mape: 1.9227\n",
      "Epoch 8/50\n",
      "916/916 [==============================] - ETA: 0s - loss: 0.0114 - mae: 0.0114 - mape: 24161.2578\n",
      "Epoch 8: val_loss did not improve from 0.01089\n",
      "916/916 [==============================] - 62s 68ms/step - loss: 0.0114 - mae: 0.0114 - mape: 24161.2578 - val_loss: 0.0111 - val_mae: 0.0111 - val_mape: 1.9471\n",
      "Epoch 9/50\n",
      "916/916 [==============================] - ETA: 0s - loss: 0.0115 - mae: 0.0115 - mape: 23702.2324\n",
      "Epoch 9: val_loss improved from 0.01089 to 0.01075, saving model to Ihsan_Final checkpoints for 1st Dataset_GRU_32_lr 1e-04/E1-cp-0009-loss0.01.h5\n",
      "916/916 [==============================] - 62s 68ms/step - loss: 0.0115 - mae: 0.0115 - mape: 23702.2324 - val_loss: 0.0107 - val_mae: 0.0107 - val_mape: 1.8874\n",
      "Epoch 10/50\n",
      "916/916 [==============================] - ETA: 0s - loss: 0.0114 - mae: 0.0114 - mape: 24293.2676\n",
      "Epoch 10: val_loss did not improve from 0.01075\n",
      "916/916 [==============================] - 62s 68ms/step - loss: 0.0114 - mae: 0.0114 - mape: 24293.2676 - val_loss: 0.0111 - val_mae: 0.0111 - val_mape: 1.9298\n",
      "Epoch 11/50\n",
      "916/916 [==============================] - ETA: 0s - loss: 0.0116 - mae: 0.0116 - mape: 24028.8418\n",
      "Epoch 11: val_loss did not improve from 0.01075\n",
      "916/916 [==============================] - 62s 68ms/step - loss: 0.0116 - mae: 0.0116 - mape: 24028.8418 - val_loss: 0.0115 - val_mae: 0.0115 - val_mape: 2.0578\n",
      "Epoch 12/50\n",
      "916/916 [==============================] - ETA: 0s - loss: 0.0113 - mae: 0.0113 - mape: 23977.5898\n",
      "Epoch 12: val_loss improved from 0.01075 to 0.01066, saving model to Ihsan_Final checkpoints for 1st Dataset_GRU_32_lr 1e-04/E1-cp-0012-loss0.01.h5\n",
      "916/916 [==============================] - 62s 67ms/step - loss: 0.0113 - mae: 0.0113 - mape: 23977.5898 - val_loss: 0.0107 - val_mae: 0.0107 - val_mape: 1.8912\n",
      "Epoch 13/50\n",
      "916/916 [==============================] - ETA: 0s - loss: 0.0112 - mae: 0.0112 - mape: 23826.1992\n",
      "Epoch 13: val_loss did not improve from 0.01066\n",
      "916/916 [==============================] - 62s 68ms/step - loss: 0.0112 - mae: 0.0112 - mape: 23826.1992 - val_loss: 0.0124 - val_mae: 0.0124 - val_mape: 2.1868\n",
      "Epoch 14/50\n",
      "916/916 [==============================] - ETA: 0s - loss: 0.0114 - mae: 0.0114 - mape: 24106.7969\n",
      "Epoch 14: val_loss did not improve from 0.01066\n",
      "916/916 [==============================] - 63s 69ms/step - loss: 0.0114 - mae: 0.0114 - mape: 24106.7969 - val_loss: 0.0108 - val_mae: 0.0108 - val_mape: 1.9064\n",
      "Epoch 15/50\n",
      "916/916 [==============================] - ETA: 0s - loss: 0.0113 - mae: 0.0113 - mape: 24150.7109\n",
      "Epoch 15: val_loss did not improve from 0.01066\n",
      "916/916 [==============================] - 62s 68ms/step - loss: 0.0113 - mae: 0.0113 - mape: 24150.7109 - val_loss: 0.0114 - val_mae: 0.0114 - val_mape: 2.0094\n",
      "Epoch 16/50\n",
      "916/916 [==============================] - ETA: 0s - loss: 0.0113 - mae: 0.0113 - mape: 23756.1797\n",
      "Epoch 16: val_loss improved from 0.01066 to 0.01061, saving model to Ihsan_Final checkpoints for 1st Dataset_GRU_32_lr 1e-04/E1-cp-0016-loss0.01.h5\n",
      "916/916 [==============================] - 63s 69ms/step - loss: 0.0113 - mae: 0.0113 - mape: 23756.1797 - val_loss: 0.0106 - val_mae: 0.0106 - val_mape: 1.8707\n",
      "Epoch 17/50\n",
      "916/916 [==============================] - ETA: 0s - loss: 0.0112 - mae: 0.0112 - mape: 24341.7383\n",
      "Epoch 17: val_loss did not improve from 0.01061\n",
      "916/916 [==============================] - 61s 67ms/step - loss: 0.0112 - mae: 0.0112 - mape: 24341.7383 - val_loss: 0.0111 - val_mae: 0.0111 - val_mape: 1.9390\n",
      "Epoch 18/50\n",
      "916/916 [==============================] - ETA: 0s - loss: 0.0114 - mae: 0.0114 - mape: 23905.6758\n",
      "Epoch 18: val_loss did not improve from 0.01061\n",
      "916/916 [==============================] - 62s 68ms/step - loss: 0.0114 - mae: 0.0114 - mape: 23905.6758 - val_loss: 0.0106 - val_mae: 0.0106 - val_mape: 1.8724\n",
      "Epoch 19/50\n",
      "916/916 [==============================] - ETA: 0s - loss: 0.0112 - mae: 0.0112 - mape: 23537.2012\n",
      "Epoch 19: val_loss did not improve from 0.01061\n",
      "916/916 [==============================] - 62s 68ms/step - loss: 0.0112 - mae: 0.0112 - mape: 23537.2012 - val_loss: 0.0106 - val_mae: 0.0106 - val_mape: 1.8810\n",
      "Epoch 20/50\n",
      "916/916 [==============================] - ETA: 0s - loss: 0.0112 - mae: 0.0112 - mape: 23818.0332\n",
      "Epoch 20: val_loss did not improve from 0.01061\n",
      "916/916 [==============================] - 62s 68ms/step - loss: 0.0112 - mae: 0.0112 - mape: 23818.0332 - val_loss: 0.0128 - val_mae: 0.0128 - val_mape: 2.2092\n",
      "Epoch 21/50\n",
      "916/916 [==============================] - ETA: 0s - loss: 0.0113 - mae: 0.0113 - mape: 24499.3730\n",
      "Epoch 21: val_loss did not improve from 0.01061\n",
      "916/916 [==============================] - 62s 68ms/step - loss: 0.0113 - mae: 0.0113 - mape: 24499.3730 - val_loss: 0.0116 - val_mae: 0.0116 - val_mape: 2.0535\n",
      "Epoch 22/50\n",
      "916/916 [==============================] - ETA: 0s - loss: 0.0112 - mae: 0.0112 - mape: 23820.1641\n",
      "Epoch 22: val_loss did not improve from 0.01061\n",
      "916/916 [==============================] - 62s 68ms/step - loss: 0.0112 - mae: 0.0112 - mape: 23820.1641 - val_loss: 0.0115 - val_mae: 0.0115 - val_mape: 2.0014\n",
      "Epoch 23/50\n",
      "916/916 [==============================] - ETA: 0s - loss: 0.0112 - mae: 0.0112 - mape: 23923.2578\n",
      "Epoch 23: val_loss did not improve from 0.01061\n",
      "916/916 [==============================] - 62s 68ms/step - loss: 0.0112 - mae: 0.0112 - mape: 23923.2578 - val_loss: 0.0109 - val_mae: 0.0109 - val_mape: 1.9467\n",
      "Epoch 24/50\n",
      "916/916 [==============================] - ETA: 0s - loss: 0.0111 - mae: 0.0111 - mape: 23440.9570\n",
      "Epoch 24: val_loss did not improve from 0.01061\n",
      "916/916 [==============================] - 62s 67ms/step - loss: 0.0111 - mae: 0.0111 - mape: 23440.9570 - val_loss: 0.0106 - val_mae: 0.0106 - val_mape: 1.8794\n",
      "Epoch 25/50\n",
      "916/916 [==============================] - ETA: 0s - loss: 0.0111 - mae: 0.0111 - mape: 23904.5117\n",
      "Epoch 25: val_loss did not improve from 0.01061\n",
      "916/916 [==============================] - 63s 69ms/step - loss: 0.0111 - mae: 0.0111 - mape: 23904.5117 - val_loss: 0.0110 - val_mae: 0.0110 - val_mape: 1.9109\n",
      "Epoch 26/50\n",
      "916/916 [==============================] - ETA: 0s - loss: 0.0111 - mae: 0.0111 - mape: 23983.0801\n",
      "Epoch 26: val_loss did not improve from 0.01061\n",
      "916/916 [==============================] - 63s 68ms/step - loss: 0.0111 - mae: 0.0111 - mape: 23983.0801 - val_loss: 0.0108 - val_mae: 0.0108 - val_mape: 1.8913\n",
      "Epoch 27/50\n",
      "916/916 [==============================] - ETA: 0s - loss: 0.0112 - mae: 0.0112 - mape: 23978.9727\n",
      "Epoch 27: val_loss improved from 0.01061 to 0.01030, saving model to Ihsan_Final checkpoints for 1st Dataset_GRU_32_lr 1e-04/E1-cp-0027-loss0.01.h5\n",
      "916/916 [==============================] - 63s 68ms/step - loss: 0.0112 - mae: 0.0112 - mape: 23978.9727 - val_loss: 0.0103 - val_mae: 0.0103 - val_mape: 1.8228\n",
      "Epoch 28/50\n",
      "916/916 [==============================] - ETA: 0s - loss: 0.0113 - mae: 0.0113 - mape: 23893.8926\n",
      "Epoch 28: val_loss did not improve from 0.01030\n",
      "916/916 [==============================] - 63s 68ms/step - loss: 0.0113 - mae: 0.0113 - mape: 23893.8926 - val_loss: 0.0126 - val_mae: 0.0126 - val_mape: 2.2528\n",
      "Epoch 29/50\n",
      "916/916 [==============================] - ETA: 0s - loss: 0.0110 - mae: 0.0110 - mape: 23893.9512\n",
      "Epoch 29: val_loss did not improve from 0.01030\n",
      "916/916 [==============================] - 62s 68ms/step - loss: 0.0110 - mae: 0.0110 - mape: 23893.9512 - val_loss: 0.0106 - val_mae: 0.0106 - val_mape: 1.8774\n",
      "Epoch 30/50\n",
      "916/916 [==============================] - ETA: 0s - loss: 0.0110 - mae: 0.0110 - mape: 24002.1289\n",
      "Epoch 30: val_loss did not improve from 0.01030\n",
      "916/916 [==============================] - 62s 68ms/step - loss: 0.0110 - mae: 0.0110 - mape: 24002.1289 - val_loss: 0.0108 - val_mae: 0.0108 - val_mape: 1.9181\n",
      "Epoch 31/50\n",
      "916/916 [==============================] - ETA: 0s - loss: 0.0111 - mae: 0.0111 - mape: 24010.0391\n",
      "Epoch 31: val_loss did not improve from 0.01030\n",
      "916/916 [==============================] - 62s 68ms/step - loss: 0.0111 - mae: 0.0111 - mape: 24010.0391 - val_loss: 0.0108 - val_mae: 0.0108 - val_mape: 1.8966\n",
      "Epoch 32/50\n",
      "916/916 [==============================] - ETA: 0s - loss: 0.0109 - mae: 0.0109 - mape: 23635.8574\n",
      "Epoch 32: val_loss did not improve from 0.01030\n",
      "916/916 [==============================] - 62s 68ms/step - loss: 0.0109 - mae: 0.0109 - mape: 23635.8574 - val_loss: 0.0106 - val_mae: 0.0106 - val_mape: 1.8509\n",
      "Epoch 33/50\n",
      "916/916 [==============================] - ETA: 0s - loss: 0.0110 - mae: 0.0110 - mape: 23870.9863\n",
      "Epoch 33: val_loss did not improve from 0.01030\n",
      "916/916 [==============================] - 62s 68ms/step - loss: 0.0110 - mae: 0.0110 - mape: 23870.9863 - val_loss: 0.0113 - val_mae: 0.0113 - val_mape: 1.9877\n",
      "Epoch 34/50\n",
      "916/916 [==============================] - ETA: 0s - loss: 0.0110 - mae: 0.0110 - mape: 23852.2656\n",
      "Epoch 34: val_loss did not improve from 0.01030\n",
      "916/916 [==============================] - 63s 68ms/step - loss: 0.0110 - mae: 0.0110 - mape: 23852.2656 - val_loss: 0.0107 - val_mae: 0.0107 - val_mape: 1.8839\n",
      "Epoch 35/50\n",
      "916/916 [==============================] - ETA: 0s - loss: 0.0109 - mae: 0.0109 - mape: 23837.5293\n",
      "Epoch 35: val_loss did not improve from 0.01030\n",
      "916/916 [==============================] - 63s 68ms/step - loss: 0.0109 - mae: 0.0109 - mape: 23837.5293 - val_loss: 0.0131 - val_mae: 0.0131 - val_mape: 2.2453\n",
      "Epoch 36/50\n",
      "916/916 [==============================] - ETA: 0s - loss: 0.0109 - mae: 0.0109 - mape: 23818.7969\n",
      "Epoch 36: val_loss did not improve from 0.01030\n",
      "916/916 [==============================] - 62s 68ms/step - loss: 0.0109 - mae: 0.0109 - mape: 23818.7969 - val_loss: 0.0108 - val_mae: 0.0108 - val_mape: 1.8892\n",
      "Epoch 37/50\n",
      "916/916 [==============================] - ETA: 0s - loss: 0.0110 - mae: 0.0110 - mape: 23963.6895\n",
      "Epoch 37: val_loss did not improve from 0.01030\n",
      "916/916 [==============================] - 62s 68ms/step - loss: 0.0110 - mae: 0.0110 - mape: 23963.6895 - val_loss: 0.0112 - val_mae: 0.0112 - val_mape: 1.9455\n",
      "Epoch 38/50\n",
      "916/916 [==============================] - ETA: 0s - loss: 0.0110 - mae: 0.0110 - mape: 24003.5293\n",
      "Epoch 38: val_loss did not improve from 0.01030\n",
      "916/916 [==============================] - 62s 68ms/step - loss: 0.0110 - mae: 0.0110 - mape: 24003.5293 - val_loss: 0.0106 - val_mae: 0.0106 - val_mape: 1.8766\n",
      "Epoch 39/50\n",
      "916/916 [==============================] - ETA: 0s - loss: 0.0109 - mae: 0.0109 - mape: 23223.8145\n",
      "Epoch 39: val_loss did not improve from 0.01030\n",
      "916/916 [==============================] - 62s 68ms/step - loss: 0.0109 - mae: 0.0109 - mape: 23223.8145 - val_loss: 0.0107 - val_mae: 0.0107 - val_mape: 1.8749\n",
      "Epoch 40/50\n",
      "916/916 [==============================] - ETA: 0s - loss: 0.0109 - mae: 0.0109 - mape: 24217.0781\n",
      "Epoch 40: val_loss did not improve from 0.01030\n",
      "916/916 [==============================] - 62s 68ms/step - loss: 0.0109 - mae: 0.0109 - mape: 24217.0781 - val_loss: 0.0111 - val_mae: 0.0111 - val_mape: 1.9571\n",
      "Epoch 41/50\n",
      "916/916 [==============================] - ETA: 0s - loss: 0.0110 - mae: 0.0110 - mape: 23576.6621\n",
      "Epoch 41: val_loss did not improve from 0.01030\n",
      "916/916 [==============================] - 62s 67ms/step - loss: 0.0110 - mae: 0.0110 - mape: 23576.6621 - val_loss: 0.0108 - val_mae: 0.0108 - val_mape: 1.9130\n",
      "Epoch 42/50\n",
      "916/916 [==============================] - ETA: 0s - loss: 0.0109 - mae: 0.0109 - mape: 23805.5117\n",
      "Epoch 42: val_loss did not improve from 0.01030\n",
      "916/916 [==============================] - 60s 65ms/step - loss: 0.0109 - mae: 0.0109 - mape: 23805.5117 - val_loss: 0.0107 - val_mae: 0.0107 - val_mape: 1.8759\n",
      "Epoch 43/50\n",
      "916/916 [==============================] - ETA: 0s - loss: 0.0109 - mae: 0.0109 - mape: 24047.5488\n",
      "Epoch 43: val_loss did not improve from 0.01030\n",
      "916/916 [==============================] - 58s 64ms/step - loss: 0.0109 - mae: 0.0109 - mape: 24047.5488 - val_loss: 0.0109 - val_mae: 0.0109 - val_mape: 1.9050\n",
      "Epoch 44/50\n",
      "916/916 [==============================] - ETA: 0s - loss: 0.0108 - mae: 0.0108 - mape: 24101.3340\n",
      "Epoch 44: val_loss did not improve from 0.01030\n",
      "916/916 [==============================] - 60s 65ms/step - loss: 0.0108 - mae: 0.0108 - mape: 24101.3340 - val_loss: 0.0104 - val_mae: 0.0104 - val_mape: 1.8274\n",
      "Epoch 45/50\n",
      "916/916 [==============================] - ETA: 0s - loss: 0.0108 - mae: 0.0108 - mape: 23855.2969\n",
      "Epoch 45: val_loss did not improve from 0.01030\n",
      "916/916 [==============================] - 60s 66ms/step - loss: 0.0108 - mae: 0.0108 - mape: 23855.2969 - val_loss: 0.0113 - val_mae: 0.0113 - val_mape: 1.9746\n",
      "Epoch 46/50\n",
      "916/916 [==============================] - ETA: 0s - loss: 0.0109 - mae: 0.0109 - mape: 23836.1328\n",
      "Epoch 46: val_loss did not improve from 0.01030\n",
      "916/916 [==============================] - 58s 63ms/step - loss: 0.0109 - mae: 0.0109 - mape: 23836.1328 - val_loss: 0.0106 - val_mae: 0.0106 - val_mape: 1.8613\n",
      "Epoch 47/50\n",
      "916/916 [==============================] - ETA: 0s - loss: 0.0108 - mae: 0.0108 - mape: 23709.0332\n",
      "Epoch 47: val_loss did not improve from 0.01030\n",
      "916/916 [==============================] - 60s 65ms/step - loss: 0.0108 - mae: 0.0108 - mape: 23709.0332 - val_loss: 0.0120 - val_mae: 0.0120 - val_mape: 2.0959\n",
      "Epoch 48/50\n",
      "916/916 [==============================] - ETA: 0s - loss: 0.0108 - mae: 0.0108 - mape: 23821.3242\n",
      "Epoch 48: val_loss did not improve from 0.01030\n",
      "916/916 [==============================] - 57s 63ms/step - loss: 0.0108 - mae: 0.0108 - mape: 23821.3242 - val_loss: 0.0106 - val_mae: 0.0106 - val_mape: 1.8682\n",
      "Epoch 49/50\n",
      "916/916 [==============================] - ETA: 0s - loss: 0.0107 - mae: 0.0107 - mape: 24038.9609\n",
      "Epoch 49: val_loss did not improve from 0.01030\n",
      "916/916 [==============================] - 56s 61ms/step - loss: 0.0107 - mae: 0.0107 - mape: 24038.9609 - val_loss: 0.0125 - val_mae: 0.0125 - val_mape: 2.2811\n",
      "Epoch 50/50\n",
      "915/916 [============================>.] - ETA: 0s - loss: 0.0107 - mae: 0.0107 - mape: 23543.6211\n",
      "Epoch 50: val_loss did not improve from 0.01030\n",
      "916/916 [==============================] - 54s 59ms/step - loss: 0.0107 - mae: 0.0107 - mape: 23524.3418 - val_loss: 0.0106 - val_mae: 0.0106 - val_mape: 1.8628\n"
     ]
    }
   ],
   "source": [
    "epochs = 50\n",
    "verbose = 1 #0\n",
    "batch_size = 32\n",
    "History = model.fit(train_X,\n",
    "                        train_y,\n",
    "                        batch_size=batch_size,   \n",
    "                        epochs = epochs, \n",
    "                        validation_data = (validation_X,validation_y),\n",
    "                        callbacks=callbacks,\n",
    "                        verbose = verbose)"
   ]
  },
  {
   "cell_type": "code",
   "execution_count": 41,
   "id": "ee9eeb5d",
   "metadata": {},
   "outputs": [],
   "source": [
    "import pickle\n",
    "model = load_model('Ihsan_Final checkpoints for 1st Dataset_GRU_32_lr 1e-04/E1-cp-0027-loss0.01.h5')"
   ]
  },
  {
   "cell_type": "code",
   "execution_count": 42,
   "id": "674fa96c",
   "metadata": {},
   "outputs": [
    {
     "name": "stdout",
     "output_type": "stream",
     "text": [
      "3/3 [==============================] - 1s 16ms/step\n"
     ]
    }
   ],
   "source": [
    "y_pred_scaled   = model.predict(test_X)"
   ]
  },
  {
   "cell_type": "code",
   "execution_count": 43,
   "id": "96527da3",
   "metadata": {},
   "outputs": [],
   "source": [
    "y_pred          = scaler.inverse_transform(y_pred_scaled)\n",
    "y_test_unscaled = scaler.inverse_transform(test_y.reshape(-1, 1))"
   ]
  },
  {
   "cell_type": "code",
   "execution_count": 44,
   "id": "a7cdbd35",
   "metadata": {},
   "outputs": [
    {
     "name": "stdout",
     "output_type": "stream",
     "text": [
      "Mean Absolute Error (MAE): 11.46\n",
      "Median Absolute Error (MedAE): 9.55\n",
      "Mean Squared Error (MSE): 217.51\n",
      "Root Mean Squared Error (RMSE): 14.75\n",
      "Mean Absolute Percentage Error (MAPE): 0.88 %\n",
      "Median Absolute Percentage Error (MDAPE): 0.71 %\n",
      "\n",
      "\n",
      "y_test_unscaled.shape=  (96, 1)\n",
      "y_pred.shape=  (96, 1)\n"
     ]
    }
   ],
   "source": [
    "# Mean Absolute Error (MAE)\n",
    "MAE = np.mean(abs(y_pred - y_test_unscaled))\n",
    "print('Mean Absolute Error (MAE): ' + str(np.round(MAE, 2)))\n",
    "\n",
    "# Median Absolute Error (MedAE)\n",
    "MEDAE = np.median(abs(y_pred - y_test_unscaled))\n",
    "print('Median Absolute Error (MedAE): ' + str(np.round(MEDAE, 2)))\n",
    "\n",
    "# Mean Squared Error (MSE)\n",
    "MSE = np.square(np.subtract(y_pred, y_test_unscaled)).mean()\n",
    "print('Mean Squared Error (MSE): ' + str(np.round(MSE, 2)))\n",
    "\n",
    "# Root Mean Squarred Error (RMSE) \n",
    "RMSE = np.sqrt(np.mean(np.square(y_pred - y_test_unscaled)))\n",
    "print('Root Mean Squared Error (RMSE): ' + str(np.round(RMSE, 2)))\n",
    "\n",
    "# Mean Absolute Percentage Error (MAPE)\n",
    "MAPE = np.mean((np.abs(np.subtract(y_test_unscaled, y_pred)/ y_test_unscaled))) * 100\n",
    "print('Mean Absolute Percentage Error (MAPE): ' + str(np.round(MAPE, 2)) + ' %')\n",
    "\n",
    "# Median Absolute Percentage Error (MDAPE)\n",
    "MDAPE = np.median((np.abs(np.subtract(y_test_unscaled, y_pred)/ y_test_unscaled))) * 100\n",
    "print('Median Absolute Percentage Error (MDAPE): ' + str(np.round(MDAPE, 2)) + ' %')\n",
    "\n",
    "print('\\n\\ny_test_unscaled.shape= ',y_test_unscaled.shape)\n",
    "print('y_pred.shape= ',y_pred.shape)"
   ]
  },
  {
   "cell_type": "code",
   "execution_count": 45,
   "id": "21d03475",
   "metadata": {},
   "outputs": [
    {
     "data": {
      "image/png": "[encoded data removed]",
      "text/plain": [
       "<Figure size 432x288 with 1 Axes>"
      ]
     },
     "metadata": {},
     "output_type": "display_data"
    }
   ],
   "source": [
    "plt.plot(y_test_unscaled, color=\"red\", linewidth=2)\n",
    "plt.plot(y_pred, color=\"green\", linewidth=2)\n",
    "plt.legend(['Actual load','Predicted GRU'])\n",
    "plt.ylabel('Load MWh')\n",
    "plt.xlabel('Hourly samples')\n",
    "plt.show()"
   ]
  },
  {
   "cell_type": "code",
   "execution_count": null,
   "id": "14430012",
   "metadata": {},
   "outputs": [],
   "source": []
  }
 ],
 "metadata": {
  "kernelspec": {
   "display_name": "Python [conda env:.conda-jupyter-2022-07-22] *",
   "language": "python",
   "name": "conda-env-.conda-jupyter-2022-07-22-py"
  },
  "language_info": {
   "codemirror_mode": {
    "name": "ipython",
    "version": 3
   },
   "file_extension": ".py",
   "mimetype": "text/x-python",
   "name": "python",
   "nbconvert_exporter": "python",
   "pygments_lexer": "ipython3",
   "version": "3.10.5"
  }
 },
 "nbformat": 4,
 "nbformat_minor": 5
}
