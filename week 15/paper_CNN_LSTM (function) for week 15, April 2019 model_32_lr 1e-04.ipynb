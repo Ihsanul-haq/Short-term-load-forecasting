{
 "cells": [
  {
   "cell_type": "code",
   "execution_count": 1,
   "id": "4180de53",
   "metadata": {},
   "outputs": [],
   "source": [
    "import os\n",
    "os.chdir('libraries for functions')"
   ]
  },
  {
   "cell_type": "code",
   "execution_count": 2,
   "id": "7e94e3bb",
   "metadata": {},
   "outputs": [],
   "source": [
    "import os\n",
    "os.chdir('pyimagesearch')"
   ]
  },
  {
   "cell_type": "code",
   "execution_count": 22,
   "id": "d70e3d98",
   "metadata": {},
   "outputs": [],
   "source": [
    "import pandas as pd\n",
    "import numpy as np\n",
    "import os\n",
    "import tensorflow as tf\n",
    "import matplotlib.pyplot as plt\n",
    "import matplotlib as mpl\n",
    "from tensorflow.keras import datasets, layers, models\n",
    "import datetime\n",
    "from keras.layers import Dense, LSTM, GRU, Activation, Conv1D\n",
    "from keras.preprocessing.sequence import TimeseriesGenerator\n",
    "from sklearn.preprocessing import MinMaxScaler, StandardScaler\n",
    "from sklearn.model_selection import train_test_split\n",
    "import calendar\n",
    "import datetime as dt\n",
    "from datetime import timedelta, date\n",
    "from pprint import pprint\n",
    "\n",
    "from sklearn.pipeline import Pipeline\n",
    "from sklearn.preprocessing import MinMaxScaler\n",
    "from sklearn.neighbors import KNeighborsRegressor\n",
    "from sklearn.model_selection import cross_val_score\n",
    "from sklearn.metrics import mean_squared_error\n",
    "import joblib\n",
    "from tensorflow.keras.callbacks import ModelCheckpoint\n",
    "from tensorflow.keras.optimizers import Adam\n",
    "from tensorflow.keras.optimizers import SGD\n",
    "from tensorflow.keras.models import load_model\n",
    "from tensorflow.keras.layers import LSTM\n",
    "from tensorflow.keras.layers import BatchNormalization\n",
    "from tensorflow.keras.layers import Conv1D,TimeDistributed\n",
    "from tensorflow.keras.layers import Dense, Dropout, Activation, Flatten,MaxPooling1D,Concatenate,AveragePooling1D, GlobalMaxPooling1D\n",
    "from tensorflow.keras.models import Sequential,Model\n",
    "import pandas as pd\n",
    "import numpy as np\n",
    "import tensorflow.keras.backend as K\n",
    "import tensorflow\n",
    "from tensorflow.keras.layers import Input, Reshape, Dense, Lambda\n",
    "from tensorflow.keras.layers import Layer, Flatten, LeakyReLU, concatenate\n",
    "from tensorflow.keras.regularizers import l2\n",
    "import pickle\n",
    "\n",
    "from scipy.stats import randint as sp_randint\n",
    "from time import time\n",
    "import pickle\n",
    "\n",
    "import warnings\n",
    "warnings.filterwarnings('ignore')"
   ]
  },
  {
   "cell_type": "code",
   "execution_count": 23,
   "id": "c06534e9",
   "metadata": {},
   "outputs": [],
   "source": [
    "from timeseires.CNN1D.GoogLeNet1D import PC\n",
    "from timeseires.utils.to_split import to_split\n",
    "from timeseires.callbacks.EpochCheckpoint import EpochCheckpoint\n",
    "from tensorflow.keras.callbacks import ModelCheckpoint\n",
    "from timeseires.callbacks.TrainingMonitor import TrainingMonitor\n",
    "from tensorflow.keras.optimizers import Adam\n",
    "from tensorflow.keras.optimizers import SGD\n",
    "from tensorflow.keras.models import load_model\n",
    "from tensorflow.keras.layers import LSTM\n",
    "from tensorflow.keras.layers import BatchNormalization\n",
    "from tensorflow.keras.layers import Conv1D,TimeDistributed\n",
    "from tensorflow.keras.layers import Dense, Dropout, Activation, Flatten,MaxPooling1D,Concatenate,AveragePooling1D, GlobalMaxPooling1D\n",
    "from tensorflow.keras.models import Sequential,Model\n",
    "import pandas as pd\n",
    "import time\n",
    "import numpy as np\n",
    "import tensorflow.keras.backend as K\n",
    "import tensorflow\n",
    "from tensorflow.keras.layers import Input, Reshape, Dense, Lambda\n",
    "from tensorflow.keras.layers import Layer, Flatten, LeakyReLU, concatenate\n",
    "from tensorflow.keras.regularizers import l2\n",
    "import pickle"
   ]
  },
  {
   "cell_type": "code",
   "execution_count": 24,
   "id": "be8f535f",
   "metadata": {},
   "outputs": [],
   "source": [
    "time_steps=72\n",
    "num_features=14"
   ]
  },
  {
   "cell_type": "code",
   "execution_count": 25,
   "id": "b0ce96b5",
   "metadata": {},
   "outputs": [],
   "source": [
    "def lstm():\n",
    "    inputs = Input(shape=(time_steps, num_features))\n",
    "    x = Conv1D(128, kernel_size=3,  activation='relu')(inputs)\n",
    "    x = LSTM(48, return_sequences=True)(x)\n",
    "    x = LSTM(16)(x)\n",
    "    x = Dense(10)(x)\n",
    "    x = Activation(\"relu\")(x)\n",
    "    x = Dense(1)(x)\n",
    "    model = Model(inputs, x)\n",
    "    return model"
   ]
  },
  {
   "cell_type": "code",
   "execution_count": 26,
   "id": "c4041c1b",
   "metadata": {},
   "outputs": [
    {
     "name": "stdout",
     "output_type": "stream",
     "text": [
      "Model: \"model_2\"\n",
      "_________________________________________________________________\n",
      " Layer (type)                Output Shape              Param #   \n",
      "=================================================================\n",
      " input_3 (InputLayer)        [(None, 72, 14)]          0         \n",
      "                                                                 \n",
      " conv1d_2 (Conv1D)           (None, 70, 128)           5504      \n",
      "                                                                 \n",
      " lstm_4 (LSTM)               (None, 70, 48)            33984     \n",
      "                                                                 \n",
      " lstm_5 (LSTM)               (None, 16)                4160      \n",
      "                                                                 \n",
      " dense_4 (Dense)             (None, 10)                170       \n",
      "                                                                 \n",
      " activation_2 (Activation)   (None, 10)                0         \n",
      "                                                                 \n",
      " dense_5 (Dense)             (None, 1)                 11        \n",
      "                                                                 \n",
      "=================================================================\n",
      "Total params: 43,829\n",
      "Trainable params: 43,829\n",
      "Non-trainable params: 0\n",
      "_________________________________________________________________\n"
     ]
    }
   ],
   "source": [
    "model = lstm()\n",
    "model.summary()"
   ]
  },
  {
   "cell_type": "code",
   "execution_count": 27,
   "id": "7381e51f",
   "metadata": {},
   "outputs": [],
   "source": [
    "checkpoints = 'Ihsan_Final checkpoints for 1st Dataset_cnn-lstm_32_lr 1e-04/E1-cp-{epoch:04d}-loss{val_loss:.2f}.h5'\n",
    "OUTPUT_PATH = 'Ihsan_Final checkpoints for 1st Dataset_cnn-lstm_32_lr 1e-04'\n",
    "FIG_PATH = os.path.sep.join([OUTPUT_PATH,\"history.png\"])\n",
    "JSON_PATH = os.path.sep.join([OUTPUT_PATH,\"history.json\"])"
   ]
  },
  {
   "cell_type": "code",
   "execution_count": 28,
   "id": "97d139ce",
   "metadata": {},
   "outputs": [],
   "source": [
    "model = None\n",
    "start_epoch = 0\n",
    "time_steps=72\n",
    "num_features=14"
   ]
  },
  {
   "cell_type": "code",
   "execution_count": 29,
   "id": "bd5c3887",
   "metadata": {},
   "outputs": [],
   "source": [
    "# construct the callback to save only the *best* model to disk\n",
    "# based on the validation loss\n",
    "EpochCheckpoint1 = ModelCheckpoint(checkpoints,\n",
    "                             monitor=\"val_loss\",\n",
    "                             save_best_only=True, \n",
    "                             verbose=1)\n",
    "TrainingMonitor1=TrainingMonitor(FIG_PATH, jsonPath=JSON_PATH, startAt=start_epoch)\n",
    "\n",
    "# construct the set of callbacks\n",
    "callbacks = [EpochCheckpoint1,TrainingMonitor1]"
   ]
  },
  {
   "cell_type": "code",
   "execution_count": 30,
   "id": "d1dd898c",
   "metadata": {},
   "outputs": [
    {
     "name": "stdout",
     "output_type": "stream",
     "text": [
      "[INFO] compiling model...\n"
     ]
    }
   ],
   "source": [
    "# if there is no specific model checkpoint supplied, then initialize\n",
    "# the network and compile the model\n",
    "if model is None:\n",
    "    print(\"[INFO] compiling model...\")\n",
    "    model = lstm()\n",
    "    opt = Adam(1e-4)\n",
    "    model.compile(loss= 'mae', optimizer='adam', metrics=[\"mae\", \"mape\"])\n",
    "# otherwise, load the checkpoint from disk\n",
    "else:\n",
    "    print(\"[INFO] loading {}...\".format(model))\n",
    "    model = load_model(model)\n",
    "\n",
    "    # update the learning rate\n",
    "    print(\"[INFO] old learning rate: {}\".format(K.get_value(model.optimizer.lr)))\n",
    "    K.set_value(model.optimizer.lr, 1e-4)\n",
    "    print(\"[INFO] new learning rate: {}\".format(K.get_value(model.optimizer.lr)))"
   ]
  },
  {
   "cell_type": "code",
   "execution_count": 31,
   "id": "57df2001",
   "metadata": {},
   "outputs": [],
   "source": [
    "df_tr=pd.read_csv('train_Normalized.csv')\n",
    "train_set = df_tr[:].values "
   ]
  },
  {
   "cell_type": "code",
   "execution_count": 32,
   "id": "018ff29b",
   "metadata": {},
   "outputs": [],
   "source": [
    "df_v = pd.read_csv('validation_Normalized.csv')\n",
    "validation_set = df_v[:].values\n",
    "\n",
    "df_te = pd.read_csv('test_Normalized.csv')\n",
    "test_set = df_te[:].values \n",
    "scaler = pickle.load(open(\"scaler.pkl\", 'rb'))"
   ]
  },
  {
   "cell_type": "code",
   "execution_count": 33,
   "id": "3a8ec275",
   "metadata": {},
   "outputs": [
    {
     "name": "stdout",
     "output_type": "stream",
     "text": [
      "Time Consumed 0.23731207847595215 sec\n"
     ]
    }
   ],
   "source": [
    "start = time.time()\n",
    "train_X , train_y = to_split(train_set, time_steps=time_steps, target_col=0, target_len=1)\n",
    "validation_X, validation_y = to_split(validation_set, time_steps=time_steps, target_col=0, target_len=1)\n",
    "test_X, test_y = to_split(test_set, time_steps=time_steps, target_col=0, target_len=1)\n",
    "print('Time Consumed', time.time()-start, \"sec\")"
   ]
  },
  {
   "cell_type": "code",
   "execution_count": 34,
   "id": "b739a318",
   "metadata": {},
   "outputs": [
    {
     "data": {
      "text/plain": [
       "((29304, 72, 14), (7272, 72, 14))"
      ]
     },
     "execution_count": 34,
     "metadata": {},
     "output_type": "execute_result"
    }
   ],
   "source": [
    "train_X.shape,validation_X.shape"
   ]
  },
  {
   "cell_type": "code",
   "execution_count": 41,
   "id": "3c3ccfaa",
   "metadata": {},
   "outputs": [
    {
     "name": "stdout",
     "output_type": "stream",
     "text": [
      "Epoch 1/50\n",
      "916/916 [==============================] - ETA: 0s - loss: 0.0124 - mae: 0.0124 - mape: 23742.4629\n",
      "Epoch 1: val_loss did not improve from 0.01122\n",
      "916/916 [==============================] - 64s 67ms/step - loss: 0.0124 - mae: 0.0124 - mape: 23742.4629 - val_loss: 0.0119 - val_mae: 0.0119 - val_mape: 2.1030\n",
      "Epoch 2/50\n",
      "916/916 [==============================] - ETA: 0s - loss: 0.0123 - mae: 0.0123 - mape: 23534.9180\n",
      "Epoch 2: val_loss did not improve from 0.01122\n",
      "916/916 [==============================] - 62s 68ms/step - loss: 0.0123 - mae: 0.0123 - mape: 23534.9180 - val_loss: 0.0122 - val_mae: 0.0122 - val_mape: 2.1229\n",
      "Epoch 3/50\n",
      "916/916 [==============================] - ETA: 0s - loss: 0.0123 - mae: 0.0123 - mape: 23714.2930\n",
      "Epoch 3: val_loss did not improve from 0.01122\n",
      "916/916 [==============================] - 62s 67ms/step - loss: 0.0123 - mae: 0.0123 - mape: 23714.2930 - val_loss: 0.0124 - val_mae: 0.0124 - val_mape: 2.1815\n",
      "Epoch 4/50\n",
      "916/916 [==============================] - ETA: 0s - loss: 0.0122 - mae: 0.0122 - mape: 23906.4902\n",
      "Epoch 4: val_loss did not improve from 0.01122\n",
      "916/916 [==============================] - 62s 67ms/step - loss: 0.0122 - mae: 0.0122 - mape: 23906.4902 - val_loss: 0.0127 - val_mae: 0.0127 - val_mape: 2.2026\n",
      "Epoch 5/50\n",
      "916/916 [==============================] - ETA: 0s - loss: 0.0121 - mae: 0.0121 - mape: 23578.7754\n",
      "Epoch 5: val_loss did not improve from 0.01122\n",
      "916/916 [==============================] - 61s 67ms/step - loss: 0.0121 - mae: 0.0121 - mape: 23578.7754 - val_loss: 0.0114 - val_mae: 0.0114 - val_mape: 1.9750\n",
      "Epoch 6/50\n",
      "916/916 [==============================] - ETA: 0s - loss: 0.0120 - mae: 0.0120 - mape: 23959.5332\n",
      "Epoch 6: val_loss did not improve from 0.01122\n",
      "916/916 [==============================] - 61s 67ms/step - loss: 0.0120 - mae: 0.0120 - mape: 23959.5332 - val_loss: 0.0133 - val_mae: 0.0133 - val_mape: 2.3149\n",
      "Epoch 7/50\n",
      "916/916 [==============================] - ETA: 0s - loss: 0.0122 - mae: 0.0122 - mape: 23958.5430\n",
      "Epoch 7: val_loss did not improve from 0.01122\n",
      "916/916 [==============================] - 61s 67ms/step - loss: 0.0122 - mae: 0.0122 - mape: 23958.5430 - val_loss: 0.0114 - val_mae: 0.0114 - val_mape: 2.0058\n",
      "Epoch 8/50\n",
      "916/916 [==============================] - ETA: 0s - loss: 0.0119 - mae: 0.0119 - mape: 24012.7109\n",
      "Epoch 8: val_loss did not improve from 0.01122\n",
      "916/916 [==============================] - 62s 67ms/step - loss: 0.0119 - mae: 0.0119 - mape: 24012.7109 - val_loss: 0.0129 - val_mae: 0.0129 - val_mape: 2.2447\n",
      "Epoch 9/50\n",
      "916/916 [==============================] - ETA: 0s - loss: 0.0120 - mae: 0.0120 - mape: 24212.9668\n",
      "Epoch 9: val_loss did not improve from 0.01122\n",
      "916/916 [==============================] - 62s 67ms/step - loss: 0.0120 - mae: 0.0120 - mape: 24212.9668 - val_loss: 0.0116 - val_mae: 0.0116 - val_mape: 2.0579\n",
      "Epoch 10/50\n",
      "916/916 [==============================] - ETA: 0s - loss: 0.0121 - mae: 0.0121 - mape: 23782.6348\n",
      "Epoch 10: val_loss did not improve from 0.01122\n",
      "916/916 [==============================] - 61s 67ms/step - loss: 0.0121 - mae: 0.0121 - mape: 23782.6348 - val_loss: 0.0113 - val_mae: 0.0113 - val_mape: 1.9689\n",
      "Epoch 11/50\n",
      "916/916 [==============================] - ETA: 0s - loss: 0.0120 - mae: 0.0120 - mape: 23805.8867\n",
      "Epoch 11: val_loss did not improve from 0.01122\n",
      "916/916 [==============================] - 61s 67ms/step - loss: 0.0120 - mae: 0.0120 - mape: 23805.8867 - val_loss: 0.0115 - val_mae: 0.0115 - val_mape: 2.0162\n",
      "Epoch 12/50\n",
      "916/916 [==============================] - ETA: 0s - loss: 0.0119 - mae: 0.0119 - mape: 24115.4395\n",
      "Epoch 12: val_loss improved from 0.01122 to 0.01109, saving model to Ihsan_Final checkpoints for 1st Dataset_cnn-lstm_32_lr 1e-04/E1-cp-0012-loss0.01.h5\n",
      "916/916 [==============================] - 62s 67ms/step - loss: 0.0119 - mae: 0.0119 - mape: 24115.4395 - val_loss: 0.0111 - val_mae: 0.0111 - val_mape: 1.9302\n",
      "Epoch 13/50\n",
      "916/916 [==============================] - ETA: 0s - loss: 0.0120 - mae: 0.0120 - mape: 24217.1465\n",
      "Epoch 13: val_loss did not improve from 0.01109\n",
      "916/916 [==============================] - 61s 67ms/step - loss: 0.0120 - mae: 0.0120 - mape: 24217.1465 - val_loss: 0.0124 - val_mae: 0.0124 - val_mape: 2.1800\n",
      "Epoch 14/50\n",
      "916/916 [==============================] - ETA: 0s - loss: 0.0118 - mae: 0.0118 - mape: 23925.5625\n",
      "Epoch 14: val_loss did not improve from 0.01109\n",
      "916/916 [==============================] - 61s 67ms/step - loss: 0.0118 - mae: 0.0118 - mape: 23925.5625 - val_loss: 0.0122 - val_mae: 0.0122 - val_mape: 2.1181\n",
      "Epoch 15/50\n",
      "916/916 [==============================] - ETA: 0s - loss: 0.0118 - mae: 0.0118 - mape: 23924.4590\n",
      "Epoch 15: val_loss did not improve from 0.01109\n",
      "916/916 [==============================] - 62s 67ms/step - loss: 0.0118 - mae: 0.0118 - mape: 23924.4590 - val_loss: 0.0141 - val_mae: 0.0141 - val_mape: 2.3966\n",
      "Epoch 16/50\n",
      "916/916 [==============================] - ETA: 0s - loss: 0.0117 - mae: 0.0117 - mape: 24062.8809\n",
      "Epoch 16: val_loss did not improve from 0.01109\n",
      "916/916 [==============================] - 62s 67ms/step - loss: 0.0117 - mae: 0.0117 - mape: 24062.8809 - val_loss: 0.0128 - val_mae: 0.0128 - val_mape: 2.2365\n",
      "Epoch 17/50\n",
      "916/916 [==============================] - ETA: 0s - loss: 0.0120 - mae: 0.0120 - mape: 24187.5137\n",
      "Epoch 17: val_loss did not improve from 0.01109\n",
      "916/916 [==============================] - 61s 67ms/step - loss: 0.0120 - mae: 0.0120 - mape: 24187.5137 - val_loss: 0.0125 - val_mae: 0.0125 - val_mape: 2.1770\n",
      "Epoch 18/50\n",
      "916/916 [==============================] - ETA: 0s - loss: 0.0118 - mae: 0.0118 - mape: 24066.6719\n",
      "Epoch 18: val_loss did not improve from 0.01109\n",
      "916/916 [==============================] - 62s 68ms/step - loss: 0.0118 - mae: 0.0118 - mape: 24066.6719 - val_loss: 0.0119 - val_mae: 0.0119 - val_mape: 2.1000\n",
      "Epoch 19/50\n",
      "916/916 [==============================] - ETA: 0s - loss: 0.0117 - mae: 0.0117 - mape: 23886.3555\n",
      "Epoch 19: val_loss did not improve from 0.01109\n",
      "916/916 [==============================] - 62s 67ms/step - loss: 0.0117 - mae: 0.0117 - mape: 23886.3555 - val_loss: 0.0115 - val_mae: 0.0115 - val_mape: 2.0087\n",
      "Epoch 20/50\n",
      "916/916 [==============================] - ETA: 0s - loss: 0.0118 - mae: 0.0118 - mape: 24044.5156\n",
      "Epoch 20: val_loss did not improve from 0.01109\n",
      "916/916 [==============================] - 62s 68ms/step - loss: 0.0118 - mae: 0.0118 - mape: 24044.5156 - val_loss: 0.0141 - val_mae: 0.0141 - val_mape: 2.4807\n",
      "Epoch 21/50\n",
      "916/916 [==============================] - ETA: 0s - loss: 0.0119 - mae: 0.0119 - mape: 23884.5254\n",
      "Epoch 21: val_loss did not improve from 0.01109\n",
      "916/916 [==============================] - 61s 67ms/step - loss: 0.0119 - mae: 0.0119 - mape: 23884.5254 - val_loss: 0.0113 - val_mae: 0.0113 - val_mape: 1.9646\n",
      "Epoch 22/50\n",
      "916/916 [==============================] - ETA: 0s - loss: 0.0116 - mae: 0.0116 - mape: 24067.7383\n",
      "Epoch 22: val_loss did not improve from 0.01109\n",
      "916/916 [==============================] - 61s 67ms/step - loss: 0.0116 - mae: 0.0116 - mape: 24067.7383 - val_loss: 0.0111 - val_mae: 0.0111 - val_mape: 1.9577\n",
      "Epoch 23/50\n",
      "916/916 [==============================] - ETA: 0s - loss: 0.0118 - mae: 0.0118 - mape: 23868.8848\n",
      "Epoch 23: val_loss did not improve from 0.01109\n",
      "916/916 [==============================] - 61s 67ms/step - loss: 0.0118 - mae: 0.0118 - mape: 23868.8848 - val_loss: 0.0115 - val_mae: 0.0115 - val_mape: 1.9676\n",
      "Epoch 24/50\n",
      "916/916 [==============================] - ETA: 0s - loss: 0.0116 - mae: 0.0116 - mape: 23612.3750\n",
      "Epoch 24: val_loss did not improve from 0.01109\n",
      "916/916 [==============================] - 61s 67ms/step - loss: 0.0116 - mae: 0.0116 - mape: 23612.3750 - val_loss: 0.0111 - val_mae: 0.0111 - val_mape: 1.9565\n",
      "Epoch 25/50\n",
      "916/916 [==============================] - ETA: 0s - loss: 0.0116 - mae: 0.0116 - mape: 23955.7617\n",
      "Epoch 25: val_loss did not improve from 0.01109\n",
      "916/916 [==============================] - 61s 67ms/step - loss: 0.0116 - mae: 0.0116 - mape: 23955.7617 - val_loss: 0.0111 - val_mae: 0.0111 - val_mape: 1.9365\n",
      "Epoch 26/50\n",
      "916/916 [==============================] - ETA: 0s - loss: 0.0117 - mae: 0.0117 - mape: 23873.0742\n",
      "Epoch 26: val_loss did not improve from 0.01109\n",
      "916/916 [==============================] - 62s 67ms/step - loss: 0.0117 - mae: 0.0117 - mape: 23873.0742 - val_loss: 0.0119 - val_mae: 0.0119 - val_mape: 2.0847\n",
      "Epoch 27/50\n",
      "916/916 [==============================] - ETA: 0s - loss: 0.0115 - mae: 0.0115 - mape: 24340.4551\n",
      "Epoch 27: val_loss did not improve from 0.01109\n",
      "916/916 [==============================] - 62s 68ms/step - loss: 0.0115 - mae: 0.0115 - mape: 24340.4551 - val_loss: 0.0119 - val_mae: 0.0119 - val_mape: 2.0883\n",
      "Epoch 28/50\n",
      "916/916 [==============================] - ETA: 0s - loss: 0.0117 - mae: 0.0117 - mape: 23522.2559\n",
      "Epoch 28: val_loss did not improve from 0.01109\n",
      "916/916 [==============================] - 61s 67ms/step - loss: 0.0117 - mae: 0.0117 - mape: 23522.2559 - val_loss: 0.0114 - val_mae: 0.0114 - val_mape: 2.0018\n",
      "Epoch 29/50\n",
      "916/916 [==============================] - ETA: 0s - loss: 0.0115 - mae: 0.0115 - mape: 23625.4004\n",
      "Epoch 29: val_loss did not improve from 0.01109\n",
      "916/916 [==============================] - 62s 67ms/step - loss: 0.0115 - mae: 0.0115 - mape: 23625.4004 - val_loss: 0.0124 - val_mae: 0.0124 - val_mape: 2.1326\n",
      "Epoch 30/50\n",
      "916/916 [==============================] - ETA: 0s - loss: 0.0116 - mae: 0.0116 - mape: 23871.8555\n",
      "Epoch 30: val_loss did not improve from 0.01109\n",
      "916/916 [==============================] - 62s 67ms/step - loss: 0.0116 - mae: 0.0116 - mape: 23871.8555 - val_loss: 0.0172 - val_mae: 0.0172 - val_mape: 2.9867\n",
      "Epoch 31/50\n",
      "916/916 [==============================] - ETA: 0s - loss: 0.0116 - mae: 0.0116 - mape: 24109.1172\n",
      "Epoch 31: val_loss did not improve from 0.01109\n",
      "916/916 [==============================] - 62s 68ms/step - loss: 0.0116 - mae: 0.0116 - mape: 24109.1172 - val_loss: 0.0119 - val_mae: 0.0119 - val_mape: 2.0524\n",
      "Epoch 32/50\n",
      "916/916 [==============================] - ETA: 0s - loss: 0.0114 - mae: 0.0114 - mape: 23943.0801\n",
      "Epoch 32: val_loss did not improve from 0.01109\n",
      "916/916 [==============================] - 62s 68ms/step - loss: 0.0114 - mae: 0.0114 - mape: 23943.0801 - val_loss: 0.0115 - val_mae: 0.0115 - val_mape: 1.9893\n",
      "Epoch 33/50\n",
      "916/916 [==============================] - ETA: 0s - loss: 0.0114 - mae: 0.0114 - mape: 24009.0645\n",
      "Epoch 33: val_loss did not improve from 0.01109\n",
      "916/916 [==============================] - 62s 67ms/step - loss: 0.0114 - mae: 0.0114 - mape: 24009.0645 - val_loss: 0.0122 - val_mae: 0.0122 - val_mape: 2.0902\n",
      "Epoch 34/50\n",
      "916/916 [==============================] - ETA: 0s - loss: 0.0115 - mae: 0.0115 - mape: 24034.8457\n",
      "Epoch 34: val_loss did not improve from 0.01109\n",
      "916/916 [==============================] - 62s 67ms/step - loss: 0.0115 - mae: 0.0115 - mape: 24034.8457 - val_loss: 0.0116 - val_mae: 0.0116 - val_mape: 2.0101\n",
      "Epoch 35/50\n",
      "916/916 [==============================] - ETA: 0s - loss: 0.0114 - mae: 0.0114 - mape: 23783.3184\n",
      "Epoch 35: val_loss did not improve from 0.01109\n",
      "916/916 [==============================] - 62s 68ms/step - loss: 0.0114 - mae: 0.0114 - mape: 23783.3184 - val_loss: 0.0112 - val_mae: 0.0112 - val_mape: 1.9835\n",
      "Epoch 36/50\n",
      "916/916 [==============================] - ETA: 0s - loss: 0.0115 - mae: 0.0115 - mape: 23960.6348\n",
      "Epoch 36: val_loss did not improve from 0.01109\n",
      "916/916 [==============================] - 62s 67ms/step - loss: 0.0115 - mae: 0.0115 - mape: 23960.6348 - val_loss: 0.0119 - val_mae: 0.0119 - val_mape: 2.0874\n",
      "Epoch 37/50\n",
      "916/916 [==============================] - ETA: 0s - loss: 0.0114 - mae: 0.0114 - mape: 23944.2559\n",
      "Epoch 37: val_loss did not improve from 0.01109\n",
      "916/916 [==============================] - 62s 68ms/step - loss: 0.0114 - mae: 0.0114 - mape: 23944.2559 - val_loss: 0.0137 - val_mae: 0.0137 - val_mape: 2.3672\n",
      "Epoch 38/50\n",
      "916/916 [==============================] - ETA: 0s - loss: 0.0114 - mae: 0.0114 - mape: 23788.3203\n",
      "Epoch 38: val_loss did not improve from 0.01109\n",
      "916/916 [==============================] - 62s 67ms/step - loss: 0.0114 - mae: 0.0114 - mape: 23788.3203 - val_loss: 0.0113 - val_mae: 0.0113 - val_mape: 1.9991\n",
      "Epoch 39/50\n",
      "916/916 [==============================] - ETA: 0s - loss: 0.0113 - mae: 0.0113 - mape: 23816.6523\n",
      "Epoch 39: val_loss did not improve from 0.01109\n",
      "916/916 [==============================] - 62s 67ms/step - loss: 0.0113 - mae: 0.0113 - mape: 23816.6523 - val_loss: 0.0118 - val_mae: 0.0118 - val_mape: 2.0847\n",
      "Epoch 40/50\n",
      "916/916 [==============================] - ETA: 0s - loss: 0.0113 - mae: 0.0113 - mape: 23807.8906\n",
      "Epoch 40: val_loss did not improve from 0.01109\n",
      "916/916 [==============================] - 63s 69ms/step - loss: 0.0113 - mae: 0.0113 - mape: 23807.8906 - val_loss: 0.0125 - val_mae: 0.0125 - val_mape: 2.2017\n",
      "Epoch 41/50\n",
      "916/916 [==============================] - ETA: 0s - loss: 0.0113 - mae: 0.0113 - mape: 23605.9316\n",
      "Epoch 41: val_loss did not improve from 0.01109\n",
      "916/916 [==============================] - 62s 67ms/step - loss: 0.0113 - mae: 0.0113 - mape: 23605.9316 - val_loss: 0.0120 - val_mae: 0.0120 - val_mape: 2.0796\n",
      "Epoch 42/50\n",
      "916/916 [==============================] - ETA: 0s - loss: 0.0112 - mae: 0.0112 - mape: 23771.1582\n",
      "Epoch 42: val_loss improved from 0.01109 to 0.01103, saving model to Ihsan_Final checkpoints for 1st Dataset_cnn-lstm_32_lr 1e-04/E1-cp-0042-loss0.01.h5\n",
      "916/916 [==============================] - 61s 66ms/step - loss: 0.0112 - mae: 0.0112 - mape: 23771.1582 - val_loss: 0.0110 - val_mae: 0.0110 - val_mape: 1.9431\n",
      "Epoch 43/50\n",
      "916/916 [==============================] - ETA: 0s - loss: 0.0112 - mae: 0.0112 - mape: 23924.1055\n",
      "Epoch 43: val_loss did not improve from 0.01103\n",
      "916/916 [==============================] - 59s 64ms/step - loss: 0.0112 - mae: 0.0112 - mape: 23924.1055 - val_loss: 0.0111 - val_mae: 0.0111 - val_mape: 1.9513\n",
      "Epoch 44/50\n",
      "916/916 [==============================] - ETA: 0s - loss: 0.0113 - mae: 0.0113 - mape: 23893.3086\n",
      "Epoch 44: val_loss improved from 0.01103 to 0.01101, saving model to Ihsan_Final checkpoints for 1st Dataset_cnn-lstm_32_lr 1e-04/E1-cp-0044-loss0.01.h5\n",
      "916/916 [==============================] - 59s 64ms/step - loss: 0.0113 - mae: 0.0113 - mape: 23893.3086 - val_loss: 0.0110 - val_mae: 0.0110 - val_mape: 1.9256\n",
      "Epoch 45/50\n",
      "916/916 [==============================] - ETA: 0s - loss: 0.0112 - mae: 0.0112 - mape: 24117.8320\n",
      "Epoch 45: val_loss did not improve from 0.01101\n",
      "916/916 [==============================] - 59s 65ms/step - loss: 0.0112 - mae: 0.0112 - mape: 24117.8320 - val_loss: 0.0111 - val_mae: 0.0111 - val_mape: 1.9407\n",
      "Epoch 46/50\n",
      "916/916 [==============================] - ETA: 0s - loss: 0.0111 - mae: 0.0111 - mape: 24200.7422\n",
      "Epoch 46: val_loss did not improve from 0.01101\n",
      "916/916 [==============================] - 59s 65ms/step - loss: 0.0111 - mae: 0.0111 - mape: 24200.7422 - val_loss: 0.0124 - val_mae: 0.0124 - val_mape: 2.1642\n",
      "Epoch 47/50\n",
      "916/916 [==============================] - ETA: 0s - loss: 0.0112 - mae: 0.0112 - mape: 24143.5410\n",
      "Epoch 47: val_loss did not improve from 0.01101\n",
      "916/916 [==============================] - 59s 64ms/step - loss: 0.0112 - mae: 0.0112 - mape: 24143.5410 - val_loss: 0.0117 - val_mae: 0.0117 - val_mape: 2.0046\n",
      "Epoch 48/50\n",
      "916/916 [==============================] - ETA: 0s - loss: 0.0111 - mae: 0.0111 - mape: 23848.5020\n",
      "Epoch 48: val_loss improved from 0.01101 to 0.01088, saving model to Ihsan_Final checkpoints for 1st Dataset_cnn-lstm_32_lr 1e-04/E1-cp-0048-loss0.01.h5\n",
      "916/916 [==============================] - 59s 64ms/step - loss: 0.0111 - mae: 0.0111 - mape: 23848.5020 - val_loss: 0.0109 - val_mae: 0.0109 - val_mape: 1.9117\n",
      "Epoch 49/50\n",
      "915/916 [============================>.] - ETA: 0s - loss: 0.0111 - mae: 0.0111 - mape: 24198.7656\n",
      "Epoch 49: val_loss did not improve from 0.01088\n",
      "916/916 [==============================] - 59s 64ms/step - loss: 0.0111 - mae: 0.0111 - mape: 24178.9453 - val_loss: 0.0110 - val_mae: 0.0110 - val_mape: 1.9479\n",
      "Epoch 50/50\n",
      "916/916 [==============================] - ETA: 0s - loss: 0.0110 - mae: 0.0110 - mape: 23951.7227\n",
      "Epoch 50: val_loss did not improve from 0.01088\n",
      "916/916 [==============================] - 57s 62ms/step - loss: 0.0110 - mae: 0.0110 - mape: 23951.7227 - val_loss: 0.0123 - val_mae: 0.0123 - val_mape: 2.1403\n"
     ]
    }
   ],
   "source": [
    "epochs = 50\n",
    "verbose = 1 #0\n",
    "batch_size = 32\n",
    "History = model.fit(train_X,\n",
    "                        train_y,\n",
    "                        batch_size=batch_size,   \n",
    "                        epochs = epochs, \n",
    "                        validation_data = (validation_X,validation_y),\n",
    "                        callbacks=callbacks,\n",
    "                        verbose = verbose)"
   ]
  },
  {
   "cell_type": "code",
   "execution_count": 42,
   "id": "ee9eeb5d",
   "metadata": {},
   "outputs": [],
   "source": [
    "import pickle\n",
    "model = load_model('Ihsan_Final checkpoints for 1st Dataset_cnn-lstm_32_lr 1e-04/E1-cp-0048-loss0.01.h5')"
   ]
  },
  {
   "cell_type": "code",
   "execution_count": 43,
   "id": "674fa96c",
   "metadata": {},
   "outputs": [
    {
     "name": "stdout",
     "output_type": "stream",
     "text": [
      "3/3 [==============================] - 1s 17ms/step\n"
     ]
    }
   ],
   "source": [
    "y_pred_scaled   = model.predict(test_X)"
   ]
  },
  {
   "cell_type": "code",
   "execution_count": 44,
   "id": "96527da3",
   "metadata": {},
   "outputs": [],
   "source": [
    "y_pred          = scaler.inverse_transform(y_pred_scaled)\n",
    "y_test_unscaled = scaler.inverse_transform(test_y.reshape(-1, 1))"
   ]
  },
  {
   "cell_type": "code",
   "execution_count": 45,
   "id": "a7cdbd35",
   "metadata": {},
   "outputs": [
    {
     "name": "stdout",
     "output_type": "stream",
     "text": [
      "Mean Absolute Error (MAE): 12.27\n",
      "Median Absolute Error (MedAE): 10.76\n",
      "Mean Squared Error (MSE): 229.24\n",
      "Root Mean Squared Error (RMSE): 15.14\n",
      "Mean Absolute Percentage Error (MAPE): 0.96 %\n",
      "Median Absolute Percentage Error (MDAPE): 0.9 %\n",
      "\n",
      "\n",
      "y_test_unscaled.shape=  (96, 1)\n",
      "y_pred.shape=  (96, 1)\n"
     ]
    }
   ],
   "source": [
    "# Mean Absolute Error (MAE)\n",
    "MAE = np.mean(abs(y_pred - y_test_unscaled))\n",
    "print('Mean Absolute Error (MAE): ' + str(np.round(MAE, 2)))\n",
    "\n",
    "# Median Absolute Error (MedAE)\n",
    "MEDAE = np.median(abs(y_pred - y_test_unscaled))\n",
    "print('Median Absolute Error (MedAE): ' + str(np.round(MEDAE, 2)))\n",
    "\n",
    "# Mean Squared Error (MSE)\n",
    "MSE = np.square(np.subtract(y_pred, y_test_unscaled)).mean()\n",
    "print('Mean Squared Error (MSE): ' + str(np.round(MSE, 2)))\n",
    "\n",
    "# Root Mean Squarred Error (RMSE) \n",
    "RMSE = np.sqrt(np.mean(np.square(y_pred - y_test_unscaled)))\n",
    "print('Root Mean Squared Error (RMSE): ' + str(np.round(RMSE, 2)))\n",
    "\n",
    "# Mean Absolute Percentage Error (MAPE)\n",
    "MAPE = np.mean((np.abs(np.subtract(y_test_unscaled, y_pred)/ y_test_unscaled))) * 100\n",
    "print('Mean Absolute Percentage Error (MAPE): ' + str(np.round(MAPE, 2)) + ' %')\n",
    "\n",
    "# Median Absolute Percentage Error (MDAPE)\n",
    "MDAPE = np.median((np.abs(np.subtract(y_test_unscaled, y_pred)/ y_test_unscaled))) * 100\n",
    "print('Median Absolute Percentage Error (MDAPE): ' + str(np.round(MDAPE, 2)) + ' %')\n",
    "\n",
    "print('\\n\\ny_test_unscaled.shape= ',y_test_unscaled.shape)\n",
    "print('y_pred.shape= ',y_pred.shape)"
   ]
  },
  {
   "cell_type": "code",
   "execution_count": 46,
   "id": "21d03475",
   "metadata": {},
   "outputs": [
    {
     "data": {
      "image/png": "[encoded data removed]",
      "text/plain": [
       "<Figure size 432x288 with 1 Axes>"
      ]
     },
     "metadata": {},
     "output_type": "display_data"
    }
   ],
   "source": [
    "plt.plot(y_test_unscaled, color=\"red\", linewidth=2)\n",
    "plt.plot(y_pred, color=\"blue\", linewidth=2)\n",
    "plt.legend(['Actual load','Predicted CNN-LSTM'])\n",
    "plt.ylabel('Load MWh')\n",
    "plt.xlabel('Hourly samples')\n",
    "plt.show()"
   ]
  },
  {
   "cell_type": "code",
   "execution_count": null,
   "id": "14430012",
   "metadata": {},
   "outputs": [],
   "source": []
  }
 ],
 "metadata": {
  "kernelspec": {
   "display_name": "Python [conda env:.conda-jupyter-2022-07-22] *",
   "language": "python",
   "name": "conda-env-.conda-jupyter-2022-07-22-py"
  },
  "language_info": {
   "codemirror_mode": {
    "name": "ipython",
    "version": 3
   },
   "file_extension": ".py",
   "mimetype": "text/x-python",
   "name": "python",
   "nbconvert_exporter": "python",
   "pygments_lexer": "ipython3",
   "version": "3.10.5"
  }
 },
 "nbformat": 4,
 "nbformat_minor": 5
}
